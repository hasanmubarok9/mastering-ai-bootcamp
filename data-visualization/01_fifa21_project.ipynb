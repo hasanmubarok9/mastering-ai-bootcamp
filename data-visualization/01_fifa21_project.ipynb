{
 "cells": [
  {
   "cell_type": "markdown",
   "metadata": {
    "id": "70HZKDJ8RqrN"
   },
   "source": [
    "# Project: FIFA 21 Players Data Analysis and Visualization"
   ]
  },
  {
   "cell_type": "markdown",
   "metadata": {
    "id": "f87HkLZaRqrc"
   },
   "source": [
    "**Instructions for Students:**\n",
    "\n",
    "Please carefully follow these steps to complete and submit your project:\n",
    "\n",
    "1. **Make a copy of the Assignment**: Please make a copy of this assignment either to your own Google Drive or download locally. Work on the copy of the assignment. The master assignment is **Read-Only**, meaning you can edit, but it will not be saved when you close the master assignment. To avoid total loss of your work, remember to make a copy.\n",
    "\n",
    "2. **Completing the Assignment**: You are required to work on and complete all tasks in the provided assignment. Be disciplined and ensure that you thoroughly engage with each task.\n",
    "   \n",
    "3. **Creating a Google Drive Folder**: Each of you must create a new folder on your Google Drive. This will be the repository for all your completed assignment files, aiding you in keeping your work organized and accessible.\n",
    "   \n",
    "4. **Uploading Completed Assignment**: Upon completion of your assignment, make sure to upload all necessary files, involving codes, reports, and related documents into the created Google Drive folder. Save this link in the 'Student Identity' section and also provide it as the last parameter in the `submit` function that has been provided.\n",
    "   \n",
    "5. **Sharing Folder Link**: You're required to share the link to your assignment Google Drive folder. This is crucial for the submission and evaluation of your assignment.\n",
    "   \n",
    "6. **Setting Permission to Public**: Please make sure your Google Drive folder is set to public. This allows your instructor to access your solutions and assess your work correctly.\n",
    "\n",
    "Adhering to these procedures will facilitate a smooth project evaluation process for you and the reviewers."
   ]
  },
  {
   "cell_type": "markdown",
   "metadata": {
    "id": "XZSX0u2RRqrh"
   },
   "source": [
    "**Description:**\n",
    "\n",
    "Welcome to this data analysis and visualization assignment! In this assignment, we will be exploring the 'FIFA 21 Players' dataset which comprises a rich variety of information about soccer players from around the world. The data extracted are in 'csv' file format.\n",
    "\n",
    "Your task is to clean and prepare the data for analysis, and then leverage your data visualization skills to uncovers insights about FIFA 21 players, teams, and overall value and wage dynamics.\n",
    "\n",
    "Here are your tasks outlined in detail:\n",
    "\n",
    "1. **Data Cleaning**: The initial dataset contains some unnecessary and redundant information. Your first task is to clean and prepare it for analysis. In doing so:\n",
    "    - Remove the 'Unnamed: 0' column from the dataset.\n",
    "    - Removing the Newline Characters.\n",
    "    - Look for columns which contain star ('★') characters. Remove these characters from all such columns.\n",
    "    - Fill in the missing values using an appropriate method.\n",
    "    - In the 'Value', 'Wage', and 'Release Clause' columns, remove the '€', 'K', and 'M' characters and convert the currency value to 'int'. For eg, \"M\" in value column is Million, so multiply the row values by 1,000,000, etc.\n",
    "\n",
    "2. **Data Visualization**: After the data has been cleaned and prepared, use appropriate data visualization methods to represent the data as follows:\n",
    "    - Create a Pie Chart to display the preferred foot ('Left' or 'Right') among the FIFA 21 players.\n",
    "    - Use a Bar Plot to represent the top 3 FIFA 21 players.\n",
    "    - Visualize the best FIFA teams from 100 players based on the 'OVA' score using a Bar Plot.\n",
    "    - Use a Bar Plot to display the top 10 most valuable FIFA teams.\n",
    "    - Create a Scatter Plot to show players who are highly valuable but still underpaid.\n",
    "\n",
    "Ensure all plots are fully labeled with titles, x and y variables, and a legend if necessary.\n",
    "\n",
    "Remember, the goal of this assignment is not just about getting the right answer but also about presenting your findings in a clear, logical, and visually appealing manner. Good luck and enjoy the analysis!"
   ]
  },
  {
   "cell_type": "markdown",
   "metadata": {
    "id": "5jIpO-LaRqrj"
   },
   "source": [
    "**Note for Students:**\n",
    "\n",
    "Please bear in mind that, although you may tackle most of the assignment problems in any order you prefer, **tasks 9 and 10 require that you complete task 5 first**. This is due to the dependencies these tasks have on the cleaned and prepared financial data ('Value' and 'Wage' columns) from task 5.\n",
    "\n",
    "**You will not be able to accurately complete tasks 9 and 10 without having concluded task 5**. Conversely, other tasks in this assignment do not have such interdependencies and can be completed independently.\n",
    "\n",
    "Happy analyzing!"
   ]
  },
  {
   "cell_type": "markdown",
   "metadata": {
    "id": "mgmI5PhARqrk"
   },
   "source": [
    "## Student Identity"
   ]
  },
  {
   "cell_type": "code",
   "execution_count": 8,
   "metadata": {
    "id": "G4qCklwmRqrl"
   },
   "outputs": [],
   "source": [
    "# @title #### Student Identity\n",
    "student_id = \"REAGEFDF\" # @param {type:\"string\"}\n",
    "name = \"Hasan Mubarok\" # @param {type:\"string\"}\n",
    "drive_link = \"https://drive.google.com/drive/folders/1dJEt75YsmLB5IBg5hFIijrHHatp97mAR?usp=sharing\"  # @param {type:\"string\"}"
   ]
  },
  {
   "cell_type": "markdown",
   "metadata": {
    "id": "0L4pxF0uRqrr"
   },
   "source": [
    "## Import package"
   ]
  },
  {
   "cell_type": "code",
   "execution_count": 4,
   "metadata": {},
   "outputs": [
    {
     "name": "stdout",
     "output_type": "stream",
     "text": [
      "Collecting matplotlib\n",
      "  Obtaining dependency information for matplotlib from https://files.pythonhosted.org/packages/7d/ca/e7bd1876a341ed8c456095962a582696cac1691cb6e55bd5ead15a755c5d/matplotlib-3.8.4-cp312-cp312-win_amd64.whl.metadata\n",
      "  Downloading matplotlib-3.8.4-cp312-cp312-win_amd64.whl.metadata (5.9 kB)\n",
      "Collecting contourpy>=1.0.1 (from matplotlib)\n",
      "  Obtaining dependency information for contourpy>=1.0.1 from https://files.pythonhosted.org/packages/78/38/a046bb0ebce6f530175d434e7364149e338ffe1069ee286ed8ba7f6481ee/contourpy-1.2.1-cp312-cp312-win_amd64.whl.metadata\n",
      "  Downloading contourpy-1.2.1-cp312-cp312-win_amd64.whl.metadata (5.8 kB)\n",
      "Collecting cycler>=0.10 (from matplotlib)\n",
      "  Obtaining dependency information for cycler>=0.10 from https://files.pythonhosted.org/packages/e7/05/c19819d5e3d95294a6f5947fb9b9629efb316b96de511b418c53d245aae6/cycler-0.12.1-py3-none-any.whl.metadata\n",
      "  Downloading cycler-0.12.1-py3-none-any.whl.metadata (3.8 kB)\n",
      "Collecting fonttools>=4.22.0 (from matplotlib)\n",
      "  Obtaining dependency information for fonttools>=4.22.0 from https://files.pythonhosted.org/packages/56/85/0a77382e3dd8528d7f13ee97415c82b36c4879023f226e2b98d012fce077/fonttools-4.51.0-cp312-cp312-win_amd64.whl.metadata\n",
      "  Downloading fonttools-4.51.0-cp312-cp312-win_amd64.whl.metadata (162 kB)\n",
      "     ---------------------------------------- 0.0/162.8 kB ? eta -:--:--\n",
      "     -- ------------------------------------- 10.2/162.8 kB ? eta -:--:--\n",
      "     ------------- ----------------------- 61.4/162.8 kB 812.7 kB/s eta 0:00:01\n",
      "     -------------------------- ----------- 112.6/162.8 kB 1.6 MB/s eta 0:00:01\n",
      "     -------------------------------------- 162.8/162.8 kB 1.2 MB/s eta 0:00:00\n",
      "Collecting kiwisolver>=1.3.1 (from matplotlib)\n",
      "  Obtaining dependency information for kiwisolver>=1.3.1 from https://files.pythonhosted.org/packages/63/50/2746566bdf4a6a842d117367d05c90cfb87ac04e9e2845aa1fa21f071362/kiwisolver-1.4.5-cp312-cp312-win_amd64.whl.metadata\n",
      "  Downloading kiwisolver-1.4.5-cp312-cp312-win_amd64.whl.metadata (6.5 kB)\n",
      "Requirement already satisfied: numpy>=1.21 in c:\\users\\pc\\appdata\\local\\programs\\python\\python312\\lib\\site-packages (from matplotlib) (1.26.4)\n",
      "Requirement already satisfied: packaging>=20.0 in c:\\users\\pc\\appdata\\local\\programs\\python\\python312\\lib\\site-packages (from matplotlib) (24.0)\n",
      "Collecting pillow>=8 (from matplotlib)\n",
      "  Obtaining dependency information for pillow>=8 from https://files.pythonhosted.org/packages/d3/23/3927d888481ff7c44fdbca3bc2a2e97588c933db46723bf115201377c436/pillow-10.3.0-cp312-cp312-win_amd64.whl.metadata\n",
      "  Downloading pillow-10.3.0-cp312-cp312-win_amd64.whl.metadata (9.4 kB)\n",
      "Collecting pyparsing>=2.3.1 (from matplotlib)\n",
      "  Obtaining dependency information for pyparsing>=2.3.1 from https://files.pythonhosted.org/packages/9d/ea/6d76df31432a0e6fdf81681a895f009a4bb47b3c39036db3e1b528191d52/pyparsing-3.1.2-py3-none-any.whl.metadata\n",
      "  Downloading pyparsing-3.1.2-py3-none-any.whl.metadata (5.1 kB)\n",
      "Requirement already satisfied: python-dateutil>=2.7 in c:\\users\\pc\\appdata\\local\\programs\\python\\python312\\lib\\site-packages (from matplotlib) (2.9.0.post0)\n",
      "Requirement already satisfied: six>=1.5 in c:\\users\\pc\\appdata\\local\\programs\\python\\python312\\lib\\site-packages (from python-dateutil>=2.7->matplotlib) (1.16.0)\n",
      "Downloading matplotlib-3.8.4-cp312-cp312-win_amd64.whl (7.7 MB)\n",
      "   ---------------------------------------- 0.0/7.7 MB ? eta -:--:--\n",
      "    --------------------------------------- 0.1/7.7 MB 3.6 MB/s eta 0:00:03\n",
      "    --------------------------------------- 0.1/7.7 MB 3.6 MB/s eta 0:00:03\n",
      "    --------------------------------------- 0.1/7.7 MB 3.6 MB/s eta 0:00:03\n",
      "    --------------------------------------- 0.1/7.7 MB 3.6 MB/s eta 0:00:03\n",
      "   - -------------------------------------- 0.2/7.7 MB 958.4 kB/s eta 0:00:08\n",
      "   - -------------------------------------- 0.2/7.7 MB 1.0 MB/s eta 0:00:08\n",
      "   - -------------------------------------- 0.2/7.7 MB 1.0 MB/s eta 0:00:08\n",
      "   - -------------------------------------- 0.3/7.7 MB 776.2 kB/s eta 0:00:10\n",
      "   -- ------------------------------------- 0.5/7.7 MB 1.2 MB/s eta 0:00:06\n",
      "   -- ------------------------------------- 0.5/7.7 MB 1.3 MB/s eta 0:00:06\n",
      "   --- ------------------------------------ 0.6/7.7 MB 1.3 MB/s eta 0:00:06\n",
      "   --- ------------------------------------ 0.6/7.7 MB 1.3 MB/s eta 0:00:06\n",
      "   --- ------------------------------------ 0.6/7.7 MB 1.3 MB/s eta 0:00:06\n",
      "   --- ------------------------------------ 0.7/7.7 MB 1.1 MB/s eta 0:00:07\n",
      "   ---- ----------------------------------- 0.8/7.7 MB 1.3 MB/s eta 0:00:06\n",
      "   ---- ----------------------------------- 0.9/7.7 MB 1.3 MB/s eta 0:00:06\n",
      "   ---- ----------------------------------- 0.9/7.7 MB 1.3 MB/s eta 0:00:06\n",
      "   ---- ----------------------------------- 0.9/7.7 MB 1.2 MB/s eta 0:00:06\n",
      "   ----- ---------------------------------- 1.1/7.7 MB 1.4 MB/s eta 0:00:05\n",
      "   ----- ---------------------------------- 1.1/7.7 MB 1.4 MB/s eta 0:00:05\n",
      "   ----- ---------------------------------- 1.1/7.7 MB 1.4 MB/s eta 0:00:05\n",
      "   ----- ---------------------------------- 1.1/7.7 MB 1.4 MB/s eta 0:00:05\n",
      "   ------ --------------------------------- 1.2/7.7 MB 1.3 MB/s eta 0:00:05\n",
      "   ------- -------------------------------- 1.4/7.7 MB 1.4 MB/s eta 0:00:05\n",
      "   ------- -------------------------------- 1.4/7.7 MB 1.4 MB/s eta 0:00:05\n",
      "   ------- -------------------------------- 1.4/7.7 MB 1.4 MB/s eta 0:00:05\n",
      "   ------- -------------------------------- 1.4/7.7 MB 1.3 MB/s eta 0:00:05\n",
      "   ------- -------------------------------- 1.5/7.7 MB 1.3 MB/s eta 0:00:05\n",
      "   -------- ------------------------------- 1.6/7.7 MB 1.4 MB/s eta 0:00:05\n",
      "   -------- ------------------------------- 1.6/7.7 MB 1.4 MB/s eta 0:00:05\n",
      "   -------- ------------------------------- 1.6/7.7 MB 1.4 MB/s eta 0:00:05\n",
      "   -------- ------------------------------- 1.7/7.7 MB 1.3 MB/s eta 0:00:05\n",
      "   -------- ------------------------------- 1.7/7.7 MB 1.3 MB/s eta 0:00:05\n",
      "   --------- ------------------------------ 1.8/7.7 MB 1.2 MB/s eta 0:00:05\n",
      "   --------- ------------------------------ 1.8/7.7 MB 1.2 MB/s eta 0:00:05\n",
      "   --------- ------------------------------ 1.8/7.7 MB 1.2 MB/s eta 0:00:05\n",
      "   --------- ------------------------------ 1.9/7.7 MB 1.2 MB/s eta 0:00:05\n",
      "   ---------- ----------------------------- 2.0/7.7 MB 1.3 MB/s eta 0:00:05\n",
      "   ---------- ----------------------------- 2.1/7.7 MB 1.3 MB/s eta 0:00:05\n",
      "   ---------- ----------------------------- 2.1/7.7 MB 1.3 MB/s eta 0:00:05\n",
      "   ----------- ---------------------------- 2.2/7.7 MB 1.2 MB/s eta 0:00:05\n",
      "   ----------- ---------------------------- 2.2/7.7 MB 1.2 MB/s eta 0:00:05\n",
      "   ----------- ---------------------------- 2.2/7.7 MB 1.2 MB/s eta 0:00:05\n",
      "   ----------- ---------------------------- 2.3/7.7 MB 1.2 MB/s eta 0:00:05\n",
      "   ------------ --------------------------- 2.4/7.7 MB 1.2 MB/s eta 0:00:05\n",
      "   ------------ --------------------------- 2.4/7.7 MB 1.3 MB/s eta 0:00:05\n",
      "   ------------ --------------------------- 2.4/7.7 MB 1.3 MB/s eta 0:00:05\n",
      "   ------------ --------------------------- 2.4/7.7 MB 1.3 MB/s eta 0:00:05\n",
      "   ------------- -------------------------- 2.6/7.7 MB 1.2 MB/s eta 0:00:05\n",
      "   ------------- -------------------------- 2.6/7.7 MB 1.2 MB/s eta 0:00:05\n",
      "   ------------- -------------------------- 2.7/7.7 MB 1.3 MB/s eta 0:00:04\n",
      "   -------------- ------------------------- 2.7/7.7 MB 1.3 MB/s eta 0:00:04\n",
      "   -------------- ------------------------- 2.8/7.7 MB 1.3 MB/s eta 0:00:04\n",
      "   -------------- ------------------------- 2.8/7.7 MB 1.2 MB/s eta 0:00:04\n",
      "   --------------- ------------------------ 3.0/7.7 MB 1.3 MB/s eta 0:00:04\n",
      "   --------------- ------------------------ 3.1/7.7 MB 1.3 MB/s eta 0:00:04\n",
      "   --------------- ------------------------ 3.1/7.7 MB 1.3 MB/s eta 0:00:04\n",
      "   ---------------- ----------------------- 3.1/7.7 MB 1.3 MB/s eta 0:00:04\n",
      "   ----------------- ---------------------- 3.3/7.7 MB 1.3 MB/s eta 0:00:04\n",
      "   ----------------- ---------------------- 3.3/7.7 MB 1.3 MB/s eta 0:00:04\n",
      "   ----------------- ---------------------- 3.4/7.7 MB 1.3 MB/s eta 0:00:04\n",
      "   ----------------- ---------------------- 3.4/7.7 MB 1.3 MB/s eta 0:00:04\n",
      "   ------------------ --------------------- 3.5/7.7 MB 1.3 MB/s eta 0:00:04\n",
      "   ------------------ --------------------- 3.5/7.7 MB 1.3 MB/s eta 0:00:04\n",
      "   ------------------ --------------------- 3.5/7.7 MB 1.3 MB/s eta 0:00:04\n",
      "   ------------------ --------------------- 3.6/7.7 MB 1.3 MB/s eta 0:00:04\n",
      "   ------------------ --------------------- 3.6/7.7 MB 1.3 MB/s eta 0:00:04\n",
      "   ------------------- -------------------- 3.7/7.7 MB 1.3 MB/s eta 0:00:04\n",
      "   ------------------- -------------------- 3.8/7.7 MB 1.3 MB/s eta 0:00:04\n",
      "   -------------------- ------------------- 3.9/7.7 MB 1.3 MB/s eta 0:00:03\n",
      "   -------------------- ------------------- 3.9/7.7 MB 1.3 MB/s eta 0:00:03\n",
      "   --------------------- ------------------ 4.1/7.7 MB 1.3 MB/s eta 0:00:03\n",
      "   --------------------- ------------------ 4.1/7.7 MB 1.3 MB/s eta 0:00:03\n",
      "   --------------------- ------------------ 4.1/7.7 MB 1.3 MB/s eta 0:00:03\n",
      "   --------------------- ------------------ 4.2/7.7 MB 1.3 MB/s eta 0:00:03\n",
      "   ---------------------- ----------------- 4.3/7.7 MB 1.3 MB/s eta 0:00:03\n",
      "   ---------------------- ----------------- 4.3/7.7 MB 1.3 MB/s eta 0:00:03\n",
      "   ----------------------- ---------------- 4.5/7.7 MB 1.3 MB/s eta 0:00:03\n",
      "   ----------------------- ---------------- 4.6/7.7 MB 1.3 MB/s eta 0:00:03\n",
      "   ------------------------ --------------- 4.6/7.7 MB 1.3 MB/s eta 0:00:03\n",
      "   ------------------------- -------------- 4.8/7.7 MB 1.4 MB/s eta 0:00:03\n",
      "   ------------------------- -------------- 4.8/7.7 MB 1.4 MB/s eta 0:00:03\n",
      "   ------------------------- -------------- 4.9/7.7 MB 1.4 MB/s eta 0:00:03\n",
      "   ------------------------- -------------- 5.0/7.7 MB 1.4 MB/s eta 0:00:02\n",
      "   -------------------------- ------------- 5.1/7.7 MB 1.4 MB/s eta 0:00:02\n",
      "   -------------------------- ------------- 5.1/7.7 MB 1.4 MB/s eta 0:00:02\n",
      "   --------------------------- ------------ 5.2/7.7 MB 1.4 MB/s eta 0:00:02\n",
      "   --------------------------- ------------ 5.4/7.7 MB 1.4 MB/s eta 0:00:02\n",
      "   ---------------------------- ----------- 5.4/7.7 MB 1.4 MB/s eta 0:00:02\n",
      "   ---------------------------- ----------- 5.4/7.7 MB 1.4 MB/s eta 0:00:02\n",
      "   ---------------------------- ----------- 5.4/7.7 MB 1.4 MB/s eta 0:00:02\n",
      "   ---------------------------- ----------- 5.5/7.7 MB 1.4 MB/s eta 0:00:02\n",
      "   ----------------------------- ---------- 5.6/7.7 MB 1.4 MB/s eta 0:00:02\n",
      "   ----------------------------- ---------- 5.7/7.7 MB 1.4 MB/s eta 0:00:02\n",
      "   ------------------------------ --------- 5.9/7.7 MB 1.4 MB/s eta 0:00:02\n",
      "   ------------------------------- -------- 6.0/7.7 MB 1.4 MB/s eta 0:00:02\n",
      "   ------------------------------- -------- 6.1/7.7 MB 1.4 MB/s eta 0:00:02\n",
      "   ------------------------------- -------- 6.1/7.7 MB 1.4 MB/s eta 0:00:02\n",
      "   -------------------------------- ------- 6.2/7.7 MB 1.4 MB/s eta 0:00:02\n",
      "   --------------------------------- ------ 6.5/7.7 MB 1.5 MB/s eta 0:00:01\n",
      "   --------------------------------- ------ 6.5/7.7 MB 1.5 MB/s eta 0:00:01\n",
      "   --------------------------------- ------ 6.5/7.7 MB 1.5 MB/s eta 0:00:01\n",
      "   ---------------------------------- ----- 6.7/7.7 MB 1.5 MB/s eta 0:00:01\n",
      "   ---------------------------------- ----- 6.7/7.7 MB 1.5 MB/s eta 0:00:01\n",
      "   ----------------------------------- ---- 6.7/7.7 MB 1.5 MB/s eta 0:00:01\n",
      "   ------------------------------------ --- 6.9/7.7 MB 1.5 MB/s eta 0:00:01\n",
      "   ------------------------------------ --- 7.0/7.7 MB 1.5 MB/s eta 0:00:01\n",
      "   ------------------------------------- -- 7.1/7.7 MB 1.5 MB/s eta 0:00:01\n",
      "   ------------------------------------- -- 7.1/7.7 MB 1.5 MB/s eta 0:00:01\n",
      "   ------------------------------------- -- 7.1/7.7 MB 1.5 MB/s eta 0:00:01\n",
      "   ------------------------------------- -- 7.1/7.7 MB 1.5 MB/s eta 0:00:01\n",
      "   ------------------------------------- -- 7.2/7.7 MB 1.5 MB/s eta 0:00:01\n",
      "   ------------------------------------- -- 7.2/7.7 MB 1.5 MB/s eta 0:00:01\n",
      "   -------------------------------------- - 7.4/7.7 MB 1.5 MB/s eta 0:00:01\n",
      "   -------------------------------------- - 7.5/7.7 MB 1.5 MB/s eta 0:00:01\n",
      "   ---------------------------------------  7.6/7.7 MB 1.5 MB/s eta 0:00:01\n",
      "   ---------------------------------------  7.6/7.7 MB 1.5 MB/s eta 0:00:01\n",
      "   ---------------------------------------  7.6/7.7 MB 1.5 MB/s eta 0:00:01\n",
      "   ---------------------------------------  7.7/7.7 MB 1.5 MB/s eta 0:00:01\n",
      "   ---------------------------------------- 7.7/7.7 MB 1.4 MB/s eta 0:00:00\n",
      "Downloading contourpy-1.2.1-cp312-cp312-win_amd64.whl (189 kB)\n",
      "   ---------------------------------------- 0.0/189.9 kB ? eta -:--:--\n",
      "   -------- ------------------------------- 41.0/189.9 kB 2.0 MB/s eta 0:00:01\n",
      "   ---------------------------------------- 189.9/189.9 kB 2.3 MB/s eta 0:00:00\n",
      "Downloading cycler-0.12.1-py3-none-any.whl (8.3 kB)\n",
      "Downloading fonttools-4.51.0-cp312-cp312-win_amd64.whl (2.2 MB)\n",
      "   ---------------------------------------- 0.0/2.2 MB ? eta -:--:--\n",
      "    --------------------------------------- 0.0/2.2 MB ? eta -:--:--\n",
      "   - -------------------------------------- 0.1/2.2 MB 3.2 MB/s eta 0:00:01\n",
      "   -- ------------------------------------- 0.1/2.2 MB 1.8 MB/s eta 0:00:02\n",
      "   --- ------------------------------------ 0.2/2.2 MB 1.2 MB/s eta 0:00:02\n",
      "   ------ --------------------------------- 0.3/2.2 MB 1.7 MB/s eta 0:00:02\n",
      "   ---------- ----------------------------- 0.6/2.2 MB 2.4 MB/s eta 0:00:01\n",
      "   ---------- ----------------------------- 0.6/2.2 MB 2.4 MB/s eta 0:00:01\n",
      "   ---------- ----------------------------- 0.6/2.2 MB 2.4 MB/s eta 0:00:01\n",
      "   ------------ --------------------------- 0.7/2.2 MB 1.9 MB/s eta 0:00:01\n",
      "   -------------- ------------------------- 0.8/2.2 MB 1.8 MB/s eta 0:00:01\n",
      "   ------------------ --------------------- 1.0/2.2 MB 2.1 MB/s eta 0:00:01\n",
      "   ------------------ --------------------- 1.0/2.2 MB 1.9 MB/s eta 0:00:01\n",
      "   ------------------- -------------------- 1.0/2.2 MB 1.9 MB/s eta 0:00:01\n",
      "   ---------------------- ----------------- 1.2/2.2 MB 2.0 MB/s eta 0:00:01\n",
      "   ------------------------- -------------- 1.4/2.2 MB 2.1 MB/s eta 0:00:01\n",
      "   ------------------------- -------------- 1.4/2.2 MB 2.1 MB/s eta 0:00:01\n",
      "   -------------------------- ------------- 1.4/2.2 MB 2.0 MB/s eta 0:00:01\n",
      "   -------------------------- ------------- 1.4/2.2 MB 2.0 MB/s eta 0:00:01\n",
      "   --------------------------- ------------ 1.5/2.2 MB 1.8 MB/s eta 0:00:01\n",
      "   ---------------------------- ----------- 1.5/2.2 MB 1.7 MB/s eta 0:00:01\n",
      "   ------------------------------- -------- 1.7/2.2 MB 1.8 MB/s eta 0:00:01\n",
      "   ------------------------------- -------- 1.7/2.2 MB 1.7 MB/s eta 0:00:01\n",
      "   --------------------------------- ------ 1.8/2.2 MB 1.8 MB/s eta 0:00:01\n",
      "   --------------------------------- ------ 1.8/2.2 MB 1.7 MB/s eta 0:00:01\n",
      "   ----------------------------------- ---- 1.9/2.2 MB 1.7 MB/s eta 0:00:01\n",
      "   ------------------------------------- -- 2.0/2.2 MB 1.7 MB/s eta 0:00:01\n",
      "   -------------------------------------- - 2.1/2.2 MB 1.7 MB/s eta 0:00:01\n",
      "   ---------------------------------------- 2.2/2.2 MB 1.7 MB/s eta 0:00:00\n",
      "Downloading kiwisolver-1.4.5-cp312-cp312-win_amd64.whl (56 kB)\n",
      "   ---------------------------------------- 0.0/56.0 kB ? eta -:--:--\n",
      "   ---------------------------------------- 56.0/56.0 kB ? eta 0:00:00\n",
      "Downloading pillow-10.3.0-cp312-cp312-win_amd64.whl (2.5 MB)\n",
      "   ---------------------------------------- 0.0/2.5 MB ? eta -:--:--\n",
      "   - -------------------------------------- 0.1/2.5 MB 1.3 MB/s eta 0:00:02\n",
      "   - -------------------------------------- 0.1/2.5 MB 1.3 MB/s eta 0:00:02\n",
      "   - -------------------------------------- 0.1/2.5 MB 939.4 kB/s eta 0:00:03\n",
      "   -- ------------------------------------- 0.2/2.5 MB 762.6 kB/s eta 0:00:04\n",
      "   ----- ---------------------------------- 0.4/2.5 MB 1.6 MB/s eta 0:00:02\n",
      "   ----- ---------------------------------- 0.4/2.5 MB 1.6 MB/s eta 0:00:02\n",
      "   ----- ---------------------------------- 0.4/2.5 MB 1.6 MB/s eta 0:00:02\n",
      "   ----- ---------------------------------- 0.4/2.5 MB 1.6 MB/s eta 0:00:02\n",
      "   ----------- ---------------------------- 0.7/2.5 MB 1.7 MB/s eta 0:00:02\n",
      "   ------------ --------------------------- 0.8/2.5 MB 1.7 MB/s eta 0:00:02\n",
      "   ------------- -------------------------- 0.9/2.5 MB 1.7 MB/s eta 0:00:01\n",
      "   -------------- ------------------------- 0.9/2.5 MB 1.7 MB/s eta 0:00:01\n",
      "   -------------- ------------------------- 0.9/2.5 MB 1.7 MB/s eta 0:00:01\n",
      "   -------------- ------------------------- 0.9/2.5 MB 1.7 MB/s eta 0:00:01\n",
      "   -------------- ------------------------- 0.9/2.5 MB 1.7 MB/s eta 0:00:01\n",
      "   -------------- ------------------------- 0.9/2.5 MB 1.7 MB/s eta 0:00:01\n",
      "   -------------- ------------------------- 0.9/2.5 MB 1.7 MB/s eta 0:00:01\n",
      "   -------------- ------------------------- 0.9/2.5 MB 1.7 MB/s eta 0:00:01\n",
      "   ---------------------- ----------------- 1.4/2.5 MB 1.7 MB/s eta 0:00:01\n",
      "   ---------------------- ----------------- 1.4/2.5 MB 1.7 MB/s eta 0:00:01\n",
      "   ---------------------- ----------------- 1.4/2.5 MB 1.7 MB/s eta 0:00:01\n",
      "   ---------------------- ----------------- 1.4/2.5 MB 1.7 MB/s eta 0:00:01\n",
      "   ------------------------ --------------- 1.5/2.5 MB 1.5 MB/s eta 0:00:01\n",
      "   ------------------------ --------------- 1.5/2.5 MB 1.5 MB/s eta 0:00:01\n",
      "   ------------------------ --------------- 1.5/2.5 MB 1.5 MB/s eta 0:00:01\n",
      "   ------------------------ --------------- 1.6/2.5 MB 1.3 MB/s eta 0:00:01\n",
      "   ------------------------- -------------- 1.6/2.5 MB 1.3 MB/s eta 0:00:01\n",
      "   --------------------------- ------------ 1.7/2.5 MB 1.3 MB/s eta 0:00:01\n",
      "   ----------------------------- ---------- 1.9/2.5 MB 1.4 MB/s eta 0:00:01\n",
      "   ------------------------------ --------- 1.9/2.5 MB 1.4 MB/s eta 0:00:01\n",
      "   ------------------------------ --------- 2.0/2.5 MB 1.4 MB/s eta 0:00:01\n",
      "   ------------------------------ --------- 2.0/2.5 MB 1.4 MB/s eta 0:00:01\n",
      "   ------------------------------- -------- 2.0/2.5 MB 1.3 MB/s eta 0:00:01\n",
      "   ------------------------------- -------- 2.0/2.5 MB 1.3 MB/s eta 0:00:01\n",
      "   --------------------------------- ------ 2.1/2.5 MB 1.3 MB/s eta 0:00:01\n",
      "   ----------------------------------- ---- 2.2/2.5 MB 1.4 MB/s eta 0:00:01\n",
      "   ------------------------------------ --- 2.3/2.5 MB 1.4 MB/s eta 0:00:01\n",
      "   -------------------------------------- - 2.5/2.5 MB 1.4 MB/s eta 0:00:01\n",
      "   ---------------------------------------- 2.5/2.5 MB 1.4 MB/s eta 0:00:00\n",
      "Downloading pyparsing-3.1.2-py3-none-any.whl (103 kB)\n",
      "   ---------------------------------------- 0.0/103.2 kB ? eta -:--:--\n",
      "   --------------------------- ------------ 71.7/103.2 kB 2.0 MB/s eta 0:00:01\n",
      "   ---------------------------------------- 103.2/103.2 kB 2.0 MB/s eta 0:00:00\n",
      "Installing collected packages: pyparsing, pillow, kiwisolver, fonttools, cycler, contourpy, matplotlib\n",
      "Successfully installed contourpy-1.2.1 cycler-0.12.1 fonttools-4.51.0 kiwisolver-1.4.5 matplotlib-3.8.4 pillow-10.3.0 pyparsing-3.1.2\n"
     ]
    },
    {
     "name": "stderr",
     "output_type": "stream",
     "text": [
      "\n",
      "[notice] A new release of pip is available: 23.2.1 -> 24.0\n",
      "[notice] To update, run: python.exe -m pip install --upgrade pip\n"
     ]
    }
   ],
   "source": [
    "!pip3 install matplotlib"
   ]
  },
  {
   "cell_type": "code",
   "execution_count": 5,
   "metadata": {
    "id": "ceD86YAfRqrt"
   },
   "outputs": [
    {
     "name": "stdout",
     "output_type": "stream",
     "text": [
      "Collecting rggrader\n",
      "  Obtaining dependency information for rggrader from https://files.pythonhosted.org/packages/17/15/5cd35b29e730619c481a1726f32dc64908ee8ab84c67a56548a95c7b21c5/rggrader-0.1.6-py3-none-any.whl.metadata\n",
      "  Downloading rggrader-0.1.6-py3-none-any.whl.metadata (485 bytes)\n",
      "Requirement already satisfied: requests in c:\\users\\pc\\appdata\\local\\programs\\python\\python312\\lib\\site-packages (from rggrader) (2.31.0)\n",
      "Requirement already satisfied: pandas in c:\\users\\pc\\appdata\\local\\programs\\python\\python312\\lib\\site-packages (from rggrader) (2.2.2)\n",
      "Requirement already satisfied: Pillow in c:\\users\\pc\\appdata\\local\\programs\\python\\python312\\lib\\site-packages (from rggrader) (10.3.0)\n",
      "Requirement already satisfied: numpy>=1.26.0 in c:\\users\\pc\\appdata\\local\\programs\\python\\python312\\lib\\site-packages (from pandas->rggrader) (1.26.4)\n",
      "Requirement already satisfied: python-dateutil>=2.8.2 in c:\\users\\pc\\appdata\\local\\programs\\python\\python312\\lib\\site-packages (from pandas->rggrader) (2.9.0.post0)\n",
      "Requirement already satisfied: pytz>=2020.1 in c:\\users\\pc\\appdata\\local\\programs\\python\\python312\\lib\\site-packages (from pandas->rggrader) (2024.1)\n",
      "Requirement already satisfied: tzdata>=2022.7 in c:\\users\\pc\\appdata\\local\\programs\\python\\python312\\lib\\site-packages (from pandas->rggrader) (2024.1)\n",
      "Requirement already satisfied: charset-normalizer<4,>=2 in c:\\users\\pc\\appdata\\local\\programs\\python\\python312\\lib\\site-packages (from requests->rggrader) (3.3.2)\n",
      "Requirement already satisfied: idna<4,>=2.5 in c:\\users\\pc\\appdata\\local\\programs\\python\\python312\\lib\\site-packages (from requests->rggrader) (3.6)\n",
      "Requirement already satisfied: urllib3<3,>=1.21.1 in c:\\users\\pc\\appdata\\local\\programs\\python\\python312\\lib\\site-packages (from requests->rggrader) (2.2.1)\n",
      "Requirement already satisfied: certifi>=2017.4.17 in c:\\users\\pc\\appdata\\local\\programs\\python\\python312\\lib\\site-packages (from requests->rggrader) (2024.2.2)\n",
      "Requirement already satisfied: six>=1.5 in c:\\users\\pc\\appdata\\local\\programs\\python\\python312\\lib\\site-packages (from python-dateutil>=2.8.2->pandas->rggrader) (1.16.0)\n",
      "Downloading rggrader-0.1.6-py3-none-any.whl (2.5 kB)\n",
      "Installing collected packages: rggrader\n",
      "Successfully installed rggrader-0.1.6\n"
     ]
    },
    {
     "name": "stderr",
     "output_type": "stream",
     "text": [
      "\n",
      "[notice] A new release of pip is available: 23.2.1 -> 24.0\n",
      "[notice] To update, run: python.exe -m pip install --upgrade pip\n"
     ]
    }
   ],
   "source": [
    "import pandas as pd\n",
    "import numpy as np\n",
    "import matplotlib.pyplot as plt\n",
    "\n",
    "!pip3 install rggrader\n",
    "from rggrader import submit\n",
    "from rggrader import submit_image"
   ]
  },
  {
   "cell_type": "markdown",
   "metadata": {
    "id": "B8Y6LsMXRqru"
   },
   "source": [
    "## Read file"
   ]
  },
  {
   "cell_type": "code",
   "execution_count": 10,
   "metadata": {
    "id": "pDDZjZ13Rqrw",
    "outputId": "dd7470be-5cc0-4323-8b95-07b0d2e6a5c9"
   },
   "outputs": [
    {
     "data": {
      "text/html": [
       "<div>\n",
       "<style scoped>\n",
       "    .dataframe tbody tr th:only-of-type {\n",
       "        vertical-align: middle;\n",
       "    }\n",
       "\n",
       "    .dataframe tbody tr th {\n",
       "        vertical-align: top;\n",
       "    }\n",
       "\n",
       "    .dataframe thead th {\n",
       "        text-align: right;\n",
       "    }\n",
       "</style>\n",
       "<table border=\"1\" class=\"dataframe\">\n",
       "  <thead>\n",
       "    <tr style=\"text-align: right;\">\n",
       "      <th></th>\n",
       "      <th>Unnamed: 0</th>\n",
       "      <th>ID</th>\n",
       "      <th>Name</th>\n",
       "      <th>LongName</th>\n",
       "      <th>Nationality</th>\n",
       "      <th>Age</th>\n",
       "      <th>↓OVA</th>\n",
       "      <th>POT</th>\n",
       "      <th>Club</th>\n",
       "      <th>Contract</th>\n",
       "      <th>...</th>\n",
       "      <th>A/W</th>\n",
       "      <th>D/W</th>\n",
       "      <th>IR</th>\n",
       "      <th>PAC</th>\n",
       "      <th>SHO</th>\n",
       "      <th>PAS</th>\n",
       "      <th>DRI</th>\n",
       "      <th>DEF</th>\n",
       "      <th>PHY</th>\n",
       "      <th>Hits</th>\n",
       "    </tr>\n",
       "  </thead>\n",
       "  <tbody>\n",
       "    <tr>\n",
       "      <th>0</th>\n",
       "      <td>0</td>\n",
       "      <td>158023</td>\n",
       "      <td>L. Messi</td>\n",
       "      <td>Lionel Messi</td>\n",
       "      <td>Argentina</td>\n",
       "      <td>33</td>\n",
       "      <td>93</td>\n",
       "      <td>93</td>\n",
       "      <td>\\n\\n\\n\\nFC Barcelona</td>\n",
       "      <td>2004 ~ 2021</td>\n",
       "      <td>...</td>\n",
       "      <td>Medium</td>\n",
       "      <td>Low</td>\n",
       "      <td>5 ★</td>\n",
       "      <td>85</td>\n",
       "      <td>92</td>\n",
       "      <td>91</td>\n",
       "      <td>95</td>\n",
       "      <td>38</td>\n",
       "      <td>65</td>\n",
       "      <td>771</td>\n",
       "    </tr>\n",
       "    <tr>\n",
       "      <th>1</th>\n",
       "      <td>1</td>\n",
       "      <td>20801</td>\n",
       "      <td>Cristiano Ronaldo</td>\n",
       "      <td>C. Ronaldo dos Santos Aveiro</td>\n",
       "      <td>Portugal</td>\n",
       "      <td>35</td>\n",
       "      <td>92</td>\n",
       "      <td>92</td>\n",
       "      <td>\\n\\n\\n\\nJuventus</td>\n",
       "      <td>2018 ~ 2022</td>\n",
       "      <td>...</td>\n",
       "      <td>High</td>\n",
       "      <td>Low</td>\n",
       "      <td>5 ★</td>\n",
       "      <td>89</td>\n",
       "      <td>93</td>\n",
       "      <td>81</td>\n",
       "      <td>89</td>\n",
       "      <td>35</td>\n",
       "      <td>77</td>\n",
       "      <td>562</td>\n",
       "    </tr>\n",
       "    <tr>\n",
       "      <th>2</th>\n",
       "      <td>2</td>\n",
       "      <td>200389</td>\n",
       "      <td>J. Oblak</td>\n",
       "      <td>Jan Oblak</td>\n",
       "      <td>Slovenia</td>\n",
       "      <td>27</td>\n",
       "      <td>91</td>\n",
       "      <td>93</td>\n",
       "      <td>\\n\\n\\n\\nAtlético Madrid</td>\n",
       "      <td>2014 ~ 2023</td>\n",
       "      <td>...</td>\n",
       "      <td>Medium</td>\n",
       "      <td>Medium</td>\n",
       "      <td>3 ★</td>\n",
       "      <td>87</td>\n",
       "      <td>92</td>\n",
       "      <td>78</td>\n",
       "      <td>90</td>\n",
       "      <td>52</td>\n",
       "      <td>90</td>\n",
       "      <td>150</td>\n",
       "    </tr>\n",
       "    <tr>\n",
       "      <th>3</th>\n",
       "      <td>3</td>\n",
       "      <td>192985</td>\n",
       "      <td>K. De Bruyne</td>\n",
       "      <td>Kevin De Bruyne</td>\n",
       "      <td>Belgium</td>\n",
       "      <td>29</td>\n",
       "      <td>91</td>\n",
       "      <td>91</td>\n",
       "      <td>\\n\\n\\n\\nManchester City</td>\n",
       "      <td>2015 ~ 2023</td>\n",
       "      <td>...</td>\n",
       "      <td>High</td>\n",
       "      <td>High</td>\n",
       "      <td>4 ★</td>\n",
       "      <td>76</td>\n",
       "      <td>86</td>\n",
       "      <td>93</td>\n",
       "      <td>88</td>\n",
       "      <td>64</td>\n",
       "      <td>78</td>\n",
       "      <td>207</td>\n",
       "    </tr>\n",
       "    <tr>\n",
       "      <th>4</th>\n",
       "      <td>4</td>\n",
       "      <td>190871</td>\n",
       "      <td>Neymar Jr</td>\n",
       "      <td>Neymar da Silva Santos Jr.</td>\n",
       "      <td>Brazil</td>\n",
       "      <td>28</td>\n",
       "      <td>91</td>\n",
       "      <td>91</td>\n",
       "      <td>\\n\\n\\n\\nParis Saint-Germain</td>\n",
       "      <td>2017 ~ 2022</td>\n",
       "      <td>...</td>\n",
       "      <td>High</td>\n",
       "      <td>Medium</td>\n",
       "      <td>5 ★</td>\n",
       "      <td>91</td>\n",
       "      <td>85</td>\n",
       "      <td>86</td>\n",
       "      <td>94</td>\n",
       "      <td>36</td>\n",
       "      <td>59</td>\n",
       "      <td>595</td>\n",
       "    </tr>\n",
       "    <tr>\n",
       "      <th>...</th>\n",
       "      <td>...</td>\n",
       "      <td>...</td>\n",
       "      <td>...</td>\n",
       "      <td>...</td>\n",
       "      <td>...</td>\n",
       "      <td>...</td>\n",
       "      <td>...</td>\n",
       "      <td>...</td>\n",
       "      <td>...</td>\n",
       "      <td>...</td>\n",
       "      <td>...</td>\n",
       "      <td>...</td>\n",
       "      <td>...</td>\n",
       "      <td>...</td>\n",
       "      <td>...</td>\n",
       "      <td>...</td>\n",
       "      <td>...</td>\n",
       "      <td>...</td>\n",
       "      <td>...</td>\n",
       "      <td>...</td>\n",
       "      <td>...</td>\n",
       "    </tr>\n",
       "    <tr>\n",
       "      <th>18974</th>\n",
       "      <td>18974</td>\n",
       "      <td>247223</td>\n",
       "      <td>Xia Ao</td>\n",
       "      <td>Ao Xia</td>\n",
       "      <td>China PR</td>\n",
       "      <td>21</td>\n",
       "      <td>47</td>\n",
       "      <td>55</td>\n",
       "      <td>\\n\\n\\n\\nWuhan Zall</td>\n",
       "      <td>2018 ~ 2022</td>\n",
       "      <td>...</td>\n",
       "      <td>Medium</td>\n",
       "      <td>Medium</td>\n",
       "      <td>1 ★</td>\n",
       "      <td>64</td>\n",
       "      <td>28</td>\n",
       "      <td>26</td>\n",
       "      <td>38</td>\n",
       "      <td>48</td>\n",
       "      <td>51</td>\n",
       "      <td>NaN</td>\n",
       "    </tr>\n",
       "    <tr>\n",
       "      <th>18975</th>\n",
       "      <td>18975</td>\n",
       "      <td>258760</td>\n",
       "      <td>B. Hough</td>\n",
       "      <td>Ben Hough</td>\n",
       "      <td>England</td>\n",
       "      <td>17</td>\n",
       "      <td>47</td>\n",
       "      <td>67</td>\n",
       "      <td>\\n\\n\\n\\nOldham Athletic</td>\n",
       "      <td>2020 ~ 2021</td>\n",
       "      <td>...</td>\n",
       "      <td>Medium</td>\n",
       "      <td>Medium</td>\n",
       "      <td>1 ★</td>\n",
       "      <td>64</td>\n",
       "      <td>40</td>\n",
       "      <td>48</td>\n",
       "      <td>49</td>\n",
       "      <td>35</td>\n",
       "      <td>45</td>\n",
       "      <td>NaN</td>\n",
       "    </tr>\n",
       "    <tr>\n",
       "      <th>18976</th>\n",
       "      <td>18976</td>\n",
       "      <td>252757</td>\n",
       "      <td>R. McKinley</td>\n",
       "      <td>Ronan McKinley</td>\n",
       "      <td>England</td>\n",
       "      <td>18</td>\n",
       "      <td>47</td>\n",
       "      <td>65</td>\n",
       "      <td>\\n\\n\\n\\nDerry City</td>\n",
       "      <td>2019 ~ 2020</td>\n",
       "      <td>...</td>\n",
       "      <td>Medium</td>\n",
       "      <td>Medium</td>\n",
       "      <td>1 ★</td>\n",
       "      <td>63</td>\n",
       "      <td>39</td>\n",
       "      <td>44</td>\n",
       "      <td>46</td>\n",
       "      <td>40</td>\n",
       "      <td>53</td>\n",
       "      <td>NaN</td>\n",
       "    </tr>\n",
       "    <tr>\n",
       "      <th>18977</th>\n",
       "      <td>18977</td>\n",
       "      <td>243790</td>\n",
       "      <td>Wang Zhen'ao</td>\n",
       "      <td>Zhen'ao Wang</td>\n",
       "      <td>China PR</td>\n",
       "      <td>20</td>\n",
       "      <td>47</td>\n",
       "      <td>57</td>\n",
       "      <td>\\n\\n\\n\\nDalian YiFang FC</td>\n",
       "      <td>2020 ~ 2022</td>\n",
       "      <td>...</td>\n",
       "      <td>Medium</td>\n",
       "      <td>Medium</td>\n",
       "      <td>1 ★</td>\n",
       "      <td>58</td>\n",
       "      <td>49</td>\n",
       "      <td>41</td>\n",
       "      <td>49</td>\n",
       "      <td>30</td>\n",
       "      <td>44</td>\n",
       "      <td>NaN</td>\n",
       "    </tr>\n",
       "    <tr>\n",
       "      <th>18978</th>\n",
       "      <td>18978</td>\n",
       "      <td>252520</td>\n",
       "      <td>Zhou Xiao</td>\n",
       "      <td>Xiao Zhou</td>\n",
       "      <td>China PR</td>\n",
       "      <td>21</td>\n",
       "      <td>47</td>\n",
       "      <td>57</td>\n",
       "      <td>\\n\\n\\n\\nDalian YiFang FC</td>\n",
       "      <td>2019 ~ 2023</td>\n",
       "      <td>...</td>\n",
       "      <td>Medium</td>\n",
       "      <td>Medium</td>\n",
       "      <td>1 ★</td>\n",
       "      <td>62</td>\n",
       "      <td>22</td>\n",
       "      <td>39</td>\n",
       "      <td>42</td>\n",
       "      <td>45</td>\n",
       "      <td>55</td>\n",
       "      <td>NaN</td>\n",
       "    </tr>\n",
       "  </tbody>\n",
       "</table>\n",
       "<p>18979 rows × 35 columns</p>\n",
       "</div>"
      ],
      "text/plain": [
       "       Unnamed: 0      ID               Name                      LongName  \\\n",
       "0               0  158023           L. Messi                  Lionel Messi   \n",
       "1               1   20801  Cristiano Ronaldo  C. Ronaldo dos Santos Aveiro   \n",
       "2               2  200389           J. Oblak                     Jan Oblak   \n",
       "3               3  192985       K. De Bruyne               Kevin De Bruyne   \n",
       "4               4  190871          Neymar Jr    Neymar da Silva Santos Jr.   \n",
       "...           ...     ...                ...                           ...   \n",
       "18974       18974  247223             Xia Ao                        Ao Xia   \n",
       "18975       18975  258760           B. Hough                     Ben Hough   \n",
       "18976       18976  252757        R. McKinley                Ronan McKinley   \n",
       "18977       18977  243790       Wang Zhen'ao                  Zhen'ao Wang   \n",
       "18978       18978  252520          Zhou Xiao                     Xiao Zhou   \n",
       "\n",
       "      Nationality  Age  ↓OVA  POT                         Club     Contract  \\\n",
       "0       Argentina   33    93   93         \\n\\n\\n\\nFC Barcelona  2004 ~ 2021   \n",
       "1        Portugal   35    92   92             \\n\\n\\n\\nJuventus  2018 ~ 2022   \n",
       "2        Slovenia   27    91   93      \\n\\n\\n\\nAtlético Madrid  2014 ~ 2023   \n",
       "3         Belgium   29    91   91      \\n\\n\\n\\nManchester City  2015 ~ 2023   \n",
       "4          Brazil   28    91   91  \\n\\n\\n\\nParis Saint-Germain  2017 ~ 2022   \n",
       "...           ...  ...   ...  ...                          ...          ...   \n",
       "18974    China PR   21    47   55           \\n\\n\\n\\nWuhan Zall  2018 ~ 2022   \n",
       "18975     England   17    47   67      \\n\\n\\n\\nOldham Athletic  2020 ~ 2021   \n",
       "18976     England   18    47   65           \\n\\n\\n\\nDerry City  2019 ~ 2020   \n",
       "18977    China PR   20    47   57     \\n\\n\\n\\nDalian YiFang FC  2020 ~ 2022   \n",
       "18978    China PR   21    47   57     \\n\\n\\n\\nDalian YiFang FC  2019 ~ 2023   \n",
       "\n",
       "       ...     A/W     D/W   IR PAC  SHO PAS DRI DEF PHY Hits  \n",
       "0      ...  Medium     Low  5 ★  85   92  91  95  38  65  771  \n",
       "1      ...    High     Low  5 ★  89   93  81  89  35  77  562  \n",
       "2      ...  Medium  Medium  3 ★  87   92  78  90  52  90  150  \n",
       "3      ...    High    High  4 ★  76   86  93  88  64  78  207  \n",
       "4      ...    High  Medium  5 ★  91   85  86  94  36  59  595  \n",
       "...    ...     ...     ...  ...  ..  ...  ..  ..  ..  ..  ...  \n",
       "18974  ...  Medium  Medium  1 ★  64   28  26  38  48  51  NaN  \n",
       "18975  ...  Medium  Medium  1 ★  64   40  48  49  35  45  NaN  \n",
       "18976  ...  Medium  Medium  1 ★  63   39  44  46  40  53  NaN  \n",
       "18977  ...  Medium  Medium  1 ★  58   49  41  49  30  44  NaN  \n",
       "18978  ...  Medium  Medium  1 ★  62   22  39  42  45  55  NaN  \n",
       "\n",
       "[18979 rows x 35 columns]"
      ]
     },
     "execution_count": 10,
     "metadata": {},
     "output_type": "execute_result"
    }
   ],
   "source": [
    "url = 'https://storage.googleapis.com/rg-ai-bootcamp/assignment-1/fifa21_raw_data.csv'\n",
    "fifa_df = pd.read_csv(url, low_memory=False)\n",
    "fifa_df"
   ]
  },
  {
   "cell_type": "markdown",
   "metadata": {
    "id": "wP4AgJBARqry"
   },
   "source": [
    "## Data Cleaning"
   ]
  },
  {
   "cell_type": "markdown",
   "metadata": {
    "id": "WVV-XuGURqrz"
   },
   "source": [
    "**Task 1: Removing the 'Unnamed: 0' Column**\n",
    "\n",
    "In this first task, you have to deal with unnecessary data in our data set. Specifically, the data set contains a column labeled `Unnamed: 0`, which does not make a significant contribution to our data analysis needs. Your goal is to effectively remove this column from the `FIFA 21 Players` data set. Remember that it is very important to manipulate only the unneeded parts of the data and keep the rest intact.\n",
    "\n",
    "Please make sure to:\n",
    "- Read the CSV file carefully to understand the structure of the data.\n",
    "- Identify a suitable method to remove the specified column from the DataFrame.\n",
    "- Validate that the column has been removed successfully by inspecting the resulting DataFrame."
   ]
  },
  {
   "cell_type": "code",
   "execution_count": 11,
   "metadata": {
    "id": "IW_CnumURqr0"
   },
   "outputs": [
    {
     "data": {
      "text/plain": [
       "'Assignment successfully submitted'"
      ]
     },
     "execution_count": 11,
     "metadata": {},
     "output_type": "execute_result"
    }
   ],
   "source": [
    "# @title #### 01. Removing the 'Unnamed: 0' Column\n",
    "\n",
    "# Put your code here:\n",
    "fifa_df = fifa_df.drop('Unnamed: 0', axis=1)\n",
    "\n",
    "\n",
    "\n",
    "# ---- End of your code ----\n",
    "\n",
    "# Submit Method\n",
    "assignment_id = \"00_fifa_21_players_data_analysis_and_visualization\"\n",
    "question_id = \"01_removing_the_unnamed_column\"\n",
    "submit(student_id, name, assignment_id, fifa_df.head(1).to_string(), question_id, drive_link)"
   ]
  },
  {
   "cell_type": "markdown",
   "metadata": {
    "id": "di94Cl3wRqr1"
   },
   "source": [
    "**Task 2: Removing the Newline Characters**\n",
    "\n",
    "In your second task, you will navigate into deeper waters of data cleaning by removing the newline characters (`\\n`) from the dataset. This nuisance feature could occur in various columns and can disrupt accurate data parsing. So, it's an important step to assure the integrity and consistency of our data.\n",
    "\n",
    "Here are a few tips to guide you on this task:\n",
    "- Start by detecting which columns in the 'FIFA 21 Players' dataset contain newline characters\n",
    "- Develop a strategy to effectively clean the data by replacing or removing these characters\n",
    "- As before, make sure your solution keeps all other aspects of the data untouched\n",
    "- Validate your solution by examining the cleaned dataset to ensure no more newline characters exist"
   ]
  },
  {
   "cell_type": "code",
   "execution_count": 12,
   "metadata": {},
   "outputs": [
    {
     "name": "stdout",
     "output_type": "stream",
     "text": [
      "Columns with newline characters: ['Club']\n"
     ]
    }
   ],
   "source": [
    "# Function to detect newline characters in a column\n",
    "def contains_newline(column):\n",
    "    return column.str.contains('\\n').any()\n",
    "\n",
    "# Apply the function to each column and print columns that contain newline characters\n",
    "newline_columns = {col: contains_newline(fifa_df[col]) for col in fifa_df.columns if fifa_df[col].dtype == object}\n",
    "print(\"Columns with newline characters:\", [col for col, has_newline in newline_columns.items() if has_newline])\n"
   ]
  },
  {
   "cell_type": "code",
   "execution_count": 13,
   "metadata": {
    "id": "tfowafL0Rqr1"
   },
   "outputs": [
    {
     "data": {
      "text/plain": [
       "'Assignment successfully submitted'"
      ]
     },
     "execution_count": 13,
     "metadata": {},
     "output_type": "execute_result"
    }
   ],
   "source": [
    "# @title #### 02. Removing the Newline Characters\n",
    "\n",
    "# Put your code here:\n",
    "fifa_df['Club'] = fifa_df['Club'].str.replace('\\n', ' ', regex=False)\n",
    "\n",
    "\n",
    "\n",
    "# ---- End of your code ----\n",
    "\n",
    "# Submit Method\n",
    "assignment_id = \"00_fifa_21_players_data_analysis_and_visualization\"\n",
    "question_id = \"02_removing_the_newline_characters\"\n",
    "club_col = fifa_df['Club'].head()\n",
    "submit(student_id, name, assignment_id, club_col.to_string(), question_id, drive_link)"
   ]
  },
  {
   "cell_type": "markdown",
   "metadata": {
    "id": "2OXUG1eTRqr1"
   },
   "source": [
    "**Task 3: Removing 'Star' Characters**\n",
    "\n",
    "In this third task, we will continue with the theme of data cleaning. Your job in this task is to identify and eliminate the 'star' (★) characters from all the columns in the 'FIFA 21 Players' dataset.\n",
    "\n",
    "As guidelines for you:\n",
    "- Begin with an overview of the dataset to identify the columns that contain the 'star' (★) characters.\n",
    "- Formulate a strategy to remove these characters without distorting the remaining data in those columns.\n",
    "- Adopt a solution that maintains the integrity of the original data.\n",
    "- Finally, validate your solution by examining the cleaned dataset, ensuring that no 'star' characters remain in any columns."
   ]
  },
  {
   "cell_type": "code",
   "execution_count": 17,
   "metadata": {},
   "outputs": [
    {
     "name": "stderr",
     "output_type": "stream",
     "text": [
      "<>:2: SyntaxWarning: invalid escape sequence '\\*'\n",
      "<>:2: SyntaxWarning: invalid escape sequence '\\*'\n",
      "C:\\Users\\Pc\\AppData\\Local\\Temp\\ipykernel_6832\\467329594.py:2: SyntaxWarning: invalid escape sequence '\\*'\n",
      "  return column.str.contains('\\*').any()\n"
     ]
    },
    {
     "data": {
      "text/plain": [
       "['W/F', 'SM', 'IR']"
      ]
     },
     "execution_count": 17,
     "metadata": {},
     "output_type": "execute_result"
    }
   ],
   "source": [
    "\n",
    "star_columns = [col for col in fifa_df.columns if fifa_df[col].astype(str).str.contains('★').any()]\n",
    "star_columns\n"
   ]
  },
  {
   "cell_type": "code",
   "execution_count": 18,
   "metadata": {
    "id": "X0pnM20YRqr2"
   },
   "outputs": [
    {
     "data": {
      "text/plain": [
       "'Assignment successfully submitted'"
      ]
     },
     "execution_count": 18,
     "metadata": {},
     "output_type": "execute_result"
    }
   ],
   "source": [
    "# @title #### 03. Removing 'Star' Characters\n",
    "\n",
    "# Put your code here:\n",
    "fifa_df[['W/F', 'SM', 'IR']] = fifa_df[['W/F', 'SM', 'IR']].replace('★', '', regex=True)\n",
    "\n",
    "\n",
    "\n",
    "# ---- End of your code ----\n",
    "\n",
    "# Submit Method\n",
    "assignment_id = \"00_fifa_21_players_data_analysis_and_visualization\"\n",
    "question_id = \"03_removing_star_characters\"\n",
    "star_col = fifa_df[['W/F', 'SM', 'IR']].head()\n",
    "submit(student_id, name, assignment_id, star_col.to_string(), question_id, drive_link)"
   ]
  },
  {
   "cell_type": "code",
   "execution_count": 20,
   "metadata": {},
   "outputs": [
    {
     "data": {
      "text/html": [
       "<div>\n",
       "<style scoped>\n",
       "    .dataframe tbody tr th:only-of-type {\n",
       "        vertical-align: middle;\n",
       "    }\n",
       "\n",
       "    .dataframe tbody tr th {\n",
       "        vertical-align: top;\n",
       "    }\n",
       "\n",
       "    .dataframe thead th {\n",
       "        text-align: right;\n",
       "    }\n",
       "</style>\n",
       "<table border=\"1\" class=\"dataframe\">\n",
       "  <thead>\n",
       "    <tr style=\"text-align: right;\">\n",
       "      <th></th>\n",
       "      <th>W/F</th>\n",
       "      <th>SM</th>\n",
       "      <th>IR</th>\n",
       "    </tr>\n",
       "  </thead>\n",
       "  <tbody>\n",
       "    <tr>\n",
       "      <th>0</th>\n",
       "      <td>4</td>\n",
       "      <td>4</td>\n",
       "      <td>5</td>\n",
       "    </tr>\n",
       "    <tr>\n",
       "      <th>1</th>\n",
       "      <td>4</td>\n",
       "      <td>5</td>\n",
       "      <td>5</td>\n",
       "    </tr>\n",
       "    <tr>\n",
       "      <th>2</th>\n",
       "      <td>3</td>\n",
       "      <td>1</td>\n",
       "      <td>3</td>\n",
       "    </tr>\n",
       "    <tr>\n",
       "      <th>3</th>\n",
       "      <td>5</td>\n",
       "      <td>4</td>\n",
       "      <td>4</td>\n",
       "    </tr>\n",
       "    <tr>\n",
       "      <th>4</th>\n",
       "      <td>5</td>\n",
       "      <td>5</td>\n",
       "      <td>5</td>\n",
       "    </tr>\n",
       "  </tbody>\n",
       "</table>\n",
       "</div>"
      ],
      "text/plain": [
       "  W/F SM  IR\n",
       "0  4   4  5 \n",
       "1  4   5  5 \n",
       "2  3   1  3 \n",
       "3  5   4  4 \n",
       "4  5   5  5 "
      ]
     },
     "execution_count": 20,
     "metadata": {},
     "output_type": "execute_result"
    }
   ],
   "source": [
    "star_col = fifa_df[['W/F', 'SM', 'IR']].head()\n",
    "star_col"
   ]
  },
  {
   "cell_type": "markdown",
   "metadata": {
    "id": "lvqJtw6SRqr2"
   },
   "source": [
    "**Task 4: Filling Missing Values**\n",
    "\n",
    "In your fourth task, we turn our attention to missing values in our dataset. 'Loan End Date' and 'Hits' columns in the 'FIFA 21 Players' dataset contain some missing entries, which you are tasked with handling. Specifically, you are to fill the missing values in the 'Loan End Date' column with 'Not on Loan', and for the 'Hits' column, use the string 'Unknown'.\n",
    "\n",
    "Here are your pointers:\n",
    "- Start with identifying the missing values in the mentioned columns of 'FIFA 21 Players' dataset.\n",
    "- Apply appropriate methods to fill in the missing entries in 'Loan End Date' with 'Not on Loan' and 'Hits' column with 'Unknown', while maintaining the integrity of the existing data.\n",
    "- After filling the missing values, verify that these have been correctly filled by inspecting the final state of your DataFrame."
   ]
  },
  {
   "cell_type": "code",
   "execution_count": 26,
   "metadata": {},
   "outputs": [
    {
     "data": {
      "text/plain": [
       "2595"
      ]
     },
     "execution_count": 26,
     "metadata": {},
     "output_type": "execute_result"
    }
   ],
   "source": [
    "# loan_end_date_missing_values = fifa_df['Loan Date End'].isnull()\n",
    "# loan_end_date_missing_values.sum()\n",
    "\n",
    "hits_missing_values = fifa_df['Hits'].isnull()\n",
    "hits_missing_values.sum()"
   ]
  },
  {
   "cell_type": "code",
   "execution_count": 27,
   "metadata": {
    "id": "jnEITSKkRqr2"
   },
   "outputs": [
    {
     "data": {
      "text/plain": [
       "'Assignment successfully submitted'"
      ]
     },
     "execution_count": 27,
     "metadata": {},
     "output_type": "execute_result"
    }
   ],
   "source": [
    "# @title #### 04. Filling Missing Values\n",
    "\n",
    "# Put your code here:\n",
    "fifa_df['Loan Date End'] = fifa_df['Loan Date End'].fillna('Not on Loan')\n",
    "fifa_df['Hits'] = fifa_df['Hits'].fillna('Unknown')\n",
    "\n",
    "\n",
    "\n",
    "\n",
    "# ---- End of your code ----\n",
    "\n",
    "# Submit Method\n",
    "assignment_id = \"00_fifa_21_players_data_analysis_and_visualization\"\n",
    "question_id = \"04_filling_missing_values\"\n",
    "missing_vals_col = fifa_df[['Loan Date End', 'Hits']].tail()\n",
    "submit(student_id, name, assignment_id, missing_vals_col.to_string(), question_id, drive_link)"
   ]
  },
  {
   "cell_type": "markdown",
   "metadata": {
    "id": "3_-olyMaRqr2"
   },
   "source": [
    "**Task 5: Cleaning and Converting Financial Data**\n",
    "\n",
    "In this fifth task, we will focus on improving the readability and workability of the financial data within our dataset. Here, you'll need to identify the 'Value', 'Wage', and 'Release Clause' columns in the 'FIFA 21 Players' dataset, which contain '€', 'K', and 'M' characters.\n",
    "\n",
    "Here's your course of action:\n",
    "- The first step involves eliminating the '€' character in these columns, leaving only numeric values and 'K' or 'M' characters.\n",
    "- After that, you're tasked with interpreting the 'K' and 'M' suffixes in these fields as 'x1000' and 'x1,000,000' respectively and subsequently changing the values in light of this new understanding. For example, 100K must be converted to 100000. We multiply 100 with 1000, do similar things for M.\n",
    "- This interpreted data should then be converted to an 'int' data type, considering that these are financial amounts.\n",
    "\n",
    "Confirmation of the successful completion of the task can be achieved by validating your dataset once the changes have been made. This task will refine not just your data cleaning capabilities, but also your proficiency in handling and comprehending numerical data."
   ]
  },
  {
   "cell_type": "code",
   "execution_count": null,
   "metadata": {
    "id": "H_ipzexSRqr3"
   },
   "outputs": [],
   "source": [
    "# @title #### 05. Cleaning and Converting Financial Data\n",
    "\n",
    "# Put your code here:\n",
    "fifa_df = None\n",
    "\n",
    "\n",
    "\n",
    "# ---- End of your code ----\n",
    "\n",
    "# Submit Method\n",
    "assignment_id = \"00_fifa_21_players_data_analysis_and_visualization\"\n",
    "question_id = \"05_cleaning_converting_financial_data\"\n",
    "converted_col = fifa_df[['Name', 'Value', 'Wage', 'Release Clause']].head()\n",
    "submit(student_id, name, assignment_id, converted_col.to_string(), question_id, drive_link)"
   ]
  },
  {
   "cell_type": "markdown",
   "metadata": {
    "id": "Ki1VWzDBRqr3"
   },
   "source": [
    "## Data Visualization"
   ]
  },
  {
   "cell_type": "markdown",
   "metadata": {
    "id": "T1ZWkMm5Rqr-"
   },
   "source": [
    "**Task 6: Pie Chart Visualization of FIFA 21 Players' Preferred Foot**\n",
    "\n",
    "In task six, we'll shift our focus from data cleaning to data visualization. Your assignment is to create a Pie Chart that illustrates the distribution of the preferred foot (either 'Left' or 'Right') among the FIFA 21 players from the dataset.\n",
    "\n",
    "Some helpful tips for you:\n",
    "- Begin by studying the 'Preferred Foot' column in the dataset and understand the structure of the column.\n",
    "- Then, calculate the frequency or count of players preferring each foot.\n",
    "- Make use of these frequencies to construct a Pie Chart that clearly lays out this distribution.\n",
    "- Ensure your Pie Chart is properly labeled with a suitable title, labels for each section (representing 'Left' and 'Right'), and displaying percentages for each section.\n",
    "- Lastly, display your Pie Chart using appropriate command, and verify that the chart correctly interprets the information in your DataFrame."
   ]
  },
  {
   "cell_type": "code",
   "execution_count": null,
   "metadata": {
    "id": "HEr247KzRqsA"
   },
   "outputs": [],
   "source": [
    "# @title #### 06. Pie Chart Creation - Preferred Foot\n",
    "\n",
    "# Put your code here:\n",
    "\n",
    "\n",
    "plt.savefig('preferred-foot.jpg', format='jpeg') # save image\n",
    "plt.show()\n",
    "# ---- End of your code ----\n",
    "\n",
    "submit_image(student_id, '06. Pie Chart Creation - Preferred Foot', './preferred-foot.jpg')"
   ]
  },
  {
   "cell_type": "markdown",
   "metadata": {
    "id": "BRCQ9MI9RqsD"
   },
   "source": [
    "**Task 7: Bar Plot Visualization of Top 6 FIFA 21 Players**\n",
    "\n",
    "The seventh task entails creating a bar plot to represent the top 6 FIFA 21 players based on their 'OVA' values from the dataset. The 'OVA' column is a vital piece of information that represents the overall rating of a player.\n",
    "\n",
    "Here's what to consider as you tackle this task:\n",
    "- Start by sorting the dataset in descending order of 'OVA' scores to bring the top-rated players to the top.\n",
    "- Once the data is sorted, extract the top 6 players from our sorted dataset.\n",
    "- The players' 'Name' and 'OVA' values are pertinent to this assignment; hence ensure these details are captured.\n",
    "- Now, you're all set to create the bar plot, using players' names as the X-axis, and their corresponding 'OVA' ratings on the Y-axis.\n",
    "- Finally, display your plot with suitable labels for each axis, and with an appropriate title verifying its representational accuracy."
   ]
  },
  {
   "cell_type": "code",
   "execution_count": null,
   "metadata": {
    "id": "6bfTApsLRqsD"
   },
   "outputs": [],
   "source": [
    "# @title #### 07. Bar Plot Creation - Top 6 FIFA 21 Players\n",
    "\n",
    "# Put your code here:\n",
    "\n",
    "\n",
    "plt.savefig('top-6-players.jpg', format='jpeg') # save image\n",
    "plt.show()\n",
    "# ---- End of your code ----\n",
    "\n",
    "submit_image(student_id, '07. Bar Plot Creation - Top 6 FIFA 21 Players', './top-6-players.jpg')"
   ]
  },
  {
   "cell_type": "markdown",
   "metadata": {
    "id": "eJZv7Ti4RqsE"
   },
   "source": [
    "**Task 8: Bar Plot Visualization of Top 8 FIFA Teams with Best Players**\n",
    "\n",
    "In your eighth task, the focus shifts to the teams these excellent players belong to. Specifically, you are required to create a Bar Plot that visualizes the top 8 FIFA teams with the most players in the top 100 list, based on the 'OVA' score.\n",
    "\n",
    "Here's what you need to consider for this task:\n",
    "- Start by sorting the dataset based on the 'OVA' column and take the first 100 records to obtain the top 100 players.\n",
    "- Next, focus on the 'Club' column of these top 100 players and determine the frequencies of each club.\n",
    "- Identify the top 8 clubs with the highest frequencies. These represent the top 8 clubs having the most players in the top 100.\n",
    "- Finally, plot a Bar Plot with the Clubs' names on the X-axis, and the number of top players from each club on the Y-axis.\n",
    "- Make sure to properly label your axes and give a fitting title to your plot, then display this visualization."
   ]
  },
  {
   "cell_type": "code",
   "execution_count": null,
   "metadata": {
    "id": "sbQ9KGgoRqsE"
   },
   "outputs": [],
   "source": [
    "# @title #### 08. Bar Plot Creation - Best FIFA 21 Teams\n",
    "\n",
    "# Put your code here:\n",
    "\n",
    "\n",
    "plt.savefig('best-fifa-teams.jpg', format='jpeg') # save image\n",
    "plt.show()\n",
    "# ---- End of your code ----\n",
    "\n",
    "submit_image(student_id, '08. Bar Plot Creation - Best FIFA 21 Teams', './best-fifa-teams.jpg')"
   ]
  },
  {
   "cell_type": "markdown",
   "metadata": {
    "id": "_27TPDelRqsF"
   },
   "source": [
    "**Task 9: Bar Plot Visualization of Top 10 FIFA Teams with the Most Valuable Players**\n",
    "\n",
    "Your ninth task invites you to explore the value of teams within the FIFA 21 dataset. Your task is to generate a bar plot that showcases the top 10 FIFA teams with the most number of 'valuable' players. This 'value' pertains to the top 100 players based on their 'Value' attribute in the data set.\n",
    "\n",
    "Here are guidelines for the assignment:\n",
    "- Start by sorting the entire data set based on the 'Value' column in descending order to find the players with the highest values.\n",
    "- After creating this sorted data frame, extract the top 100 players for further analysis.\n",
    "- Now shift your focus to the 'Club' attribute, compute the frequency occurrence of each club among these top players.\n",
    "- From these frequencies, derive the top 10 clubs with the most valuable players.\n",
    "- Lastly, plot a Bar Plot using the club names on the X-axis and the frequency of top players on the Y-axis. Ensure your plot includes a suitable title and labels for each axis.\n",
    "- Display and verify the effectiveness of your visualization."
   ]
  },
  {
   "cell_type": "code",
   "execution_count": null,
   "metadata": {
    "id": "UWfYZXvoRqsG"
   },
   "outputs": [],
   "source": [
    "# @title #### 09. Bar Plot Creation - Top 10 Most Valuable FIFA 21 Teams\n",
    "\n",
    "# Put your code here:\n",
    "\n",
    "\n",
    "plt.savefig('most-valuable-teams.jpg', format='jpeg') # save image\n",
    "plt.show()\n",
    "# ---- End of your code ----\n",
    "\n",
    "submit_image(student_id, '09. Bar Plot Creation - Top 10 Most Valuable FIFA 21 Teams', './most-valuable-teams.jpg')"
   ]
  },
  {
   "cell_type": "markdown",
   "metadata": {
    "id": "Hiw_ZK5XRqsG"
   },
   "source": [
    "**Task 10: Scatter Plot for Underpaid but Valuable Players**\n",
    "\n",
    "For your tenth task, we invite you to create a scatter plot to analyze and visualize FIFA 21 players who, despite their high value, are underpaid.\n",
    "\n",
    "Your task guidelines are as follows:\n",
    "- Begin by setting up thresholds to define what we consider as 'high value' and 'low wage'. For instance, players in the top 25% in terms of 'Value' can be considered as high value, and those who fall in the bottom 25% for 'Wage' can be deemed as underpaid.\n",
    "- Using these defined thresholds, identify the subset of players who are considered high value but underpaid.\n",
    "- Now it's time to visualize: create a scatter plot where each point represents a player. You will plot all players in one color, while the underpaid and valuable players should be visibly distinguished.\n",
    "- Make sure to include appropriate labels for axises and a title to your plot, ensuring clarity and insight into what's being visualized."
   ]
  },
  {
   "cell_type": "code",
   "execution_count": null,
   "metadata": {
    "id": "A2A9PcpgRqsG"
   },
   "outputs": [],
   "source": [
    "# @title #### 10. Scatter Plot Creation - High Value, Underpaid Players\n",
    "\n",
    "# Put your code here:\n",
    "\n",
    "\n",
    "plt.savefig('high-value-underpaid-players.jpg', format='jpeg') # save image\n",
    "plt.show()\n",
    "# ---- End of your code ----\n",
    "\n",
    "submit_image(student_id, '10. Scatter Plot Creation - High Value, Underpaid Players', './high-value-underpaid-players.jpg')"
   ]
  }
 ],
 "metadata": {
  "colab": {
   "provenance": []
  },
  "kernelspec": {
   "display_name": "Python 3 (ipykernel)",
   "language": "python",
   "name": "python3"
  },
  "language_info": {
   "codemirror_mode": {
    "name": "ipython",
    "version": 3
   },
   "file_extension": ".py",
   "mimetype": "text/x-python",
   "name": "python",
   "nbconvert_exporter": "python",
   "pygments_lexer": "ipython3",
   "version": "3.12.1"
  }
 },
 "nbformat": 4,
 "nbformat_minor": 4
}
