{
 "cells": [
  {
   "cell_type": "markdown",
   "id": "3ccb0b85-67c6-4dfe-a6f9-138bb5e778ab",
   "metadata": {
    "id": "3ccb0b85-67c6-4dfe-a6f9-138bb5e778ab"
   },
   "source": [
    "# Project: Machine Learning"
   ]
  },
  {
   "cell_type": "markdown",
   "id": "911a145c-7d01-4210-9699-0e1fef80ff19",
   "metadata": {
    "id": "911a145c-7d01-4210-9699-0e1fef80ff19"
   },
   "source": [
    "**Instructions for Students:**\n",
    "\n",
    "Please carefully follow these steps to complete and submit your project:\n",
    "\n",
    "1. **Make a copy of the Project**: Please make a copy of this project either to your own Google Drive or download locally. Work on the copy of the project. The master project is **Read-Only**, meaning you can edit, but it will not be saved when you close the master project. To avoid total loss of your work, remember to make a copy.\n",
    "\n",
    "2. **Completing the Project**: You are required to work on and complete all tasks in the provided project. Be disciplined and ensure that you thoroughly engage with each task.\n",
    "   \n",
    "3. **Creating a Google Drive Folder**: Each of you must create a new folder on your Google Drive. This will be the repository for all your completed project files, aiding you in keeping your work organized and accessible.\n",
    "   \n",
    "4. **Uploading Completed Project**: Upon completion of your project, make sure to upload all necessary files, involving codes, reports, and related documents into the created Google Drive folder. Save this link in the 'Student Identity' section and also provide it as the last parameter in the `submit` function that has been provided.\n",
    "   \n",
    "5. **Sharing Folder Link**: You're required to share the link to your project Google Drive folder. This is crucial for the submission and evaluation of your project.\n",
    "   \n",
    "6. **Setting Permission to Public**: Please make sure your Google Drive folder is set to public. This allows your instructor to access your solutions and assess your work correctly.\n",
    "\n",
    "Adhering to these procedures will facilitate a smooth project evaluation process for you and the reviewers."
   ]
  },
  {
   "cell_type": "markdown",
   "id": "d3b9e0f7-75d2-476a-9b29-07c1a3800925",
   "metadata": {
    "id": "d3b9e0f7-75d2-476a-9b29-07c1a3800925"
   },
   "source": [
    "## Project Description\n",
    "\n",
    "In this Machine Learning Project, you will create your own supervised Machine Learning (ML) model. We will use the full FIFA21 Dataset and we will identify players that are above average.\n",
    "\n",
    "We will use the column \"Overall\" with a treshold of 75 to define players that are 'Valuable'. This will become our target output which we need for a supervised ML model. Because we use the \"Overall\" as our target output, you cannot use \"Overall\" in your features, this will be explained further below.\n",
    "\n",
    "This project will provide a comprehensive overview of your abilities in machine learning, from understanding the problem, choosing the right model, training, and optimizing it."
   ]
  },
  {
   "cell_type": "markdown",
   "id": "84fea308-2c09-472c-a5ec-e4ba0900d496",
   "metadata": {
    "id": "84fea308-2c09-472c-a5ec-e4ba0900d496"
   },
   "source": [
    "## Grading Criteria\n",
    "\n",
    "Your score will be awarded based on the following criteria:\n",
    "* 100: The model has an accuracy of more than 80% and an F1 score of more than 85%. This model is excellent and demonstrates a strong understanding of the task.\n",
    "* 90: The model has an accuracy of more than 75% and an F1 score of more than 80%. This model is very good, with some room for improvement.\n",
    "* 80: The model has an accuracy of more than 70% and an F1 score between 70% and 80%. This model is fairly good but needs improvement in balancing precision and recall.\n",
    "* 70: The model has an accuracy of more than 65% and an F1 score between 60% and 70%. This model is below average and needs significant improvement.\n",
    "* 60 or below: The model has an accuracy of less than 65% or an F1 score of less than 60%, or the student did not submit the accuracy and F1 score. This model is poor and needs considerable improvement."
   ]
  },
  {
   "cell_type": "markdown",
   "id": "915df21b-3a7e-444a-999d-c830acdbe7f2",
   "metadata": {
    "id": "915df21b-3a7e-444a-999d-c830acdbe7f2"
   },
   "source": [
    "Rmember to make a copy of this notebook in your Google Drive and work in your own copy.\n",
    "\n",
    "Happy modeling!\n",
    "\n",
    ">Note: If you get the accuracy of 100% and F1 score of 100%, while it may earn you good grades, it's an indication of overfitting."
   ]
  },
  {
   "cell_type": "markdown",
   "id": "8018f21d-d661-4ae4-a50d-9fb66feb291d",
   "metadata": {
    "id": "8018f21d-d661-4ae4-a50d-9fb66feb291d"
   },
   "source": [
    "## Student Identity"
   ]
  },
  {
   "cell_type": "code",
   "execution_count": 74,
   "id": "9fc57472-0432-474a-b1f7-c825edfc007a",
   "metadata": {
    "id": "9fc57472-0432-474a-b1f7-c825edfc007a"
   },
   "outputs": [],
   "source": [
    "# @title #### Student Identity\n",
    "student_id = \"REAGEFDF\" # @param {type:\"string\"}\n",
    "name = \"Hasan Mubarok\" # @param {type:\"string\"}\n",
    "drive_link = \"https://drive.google.com/drive/folders/1dJEt75YsmLB5IBg5hFIijrHHatp97mAR?usp=sharing\"  # @param {type:\"string\"}\n",
    "\n",
    "assignment_id = \"00_ml_project\"\n",
    "\n",
    "# Import grader package\n",
    "!pip3 install rggrader scikit-learn\n",
    "from rggrader import submit, submit_image"
   ]
  },
  {
   "cell_type": "code",
   "execution_count": 75,
   "id": "62606ca1-5868-4c65-93ef-1d6ee8d8d59a",
   "metadata": {
    "id": "62606ca1-5868-4c65-93ef-1d6ee8d8d59a"
   },
   "outputs": [],
   "source": [
    "# Write any package/module installation that you need\n",
    "# pip install goes here, this helps declutter your output below\n",
    "import pandas as pd\n",
    "import numpy as np\n",
    "import matplotlib.pyplot as plt\n",
    "from sklearn.model_selection import train_test_split\n",
    "from sklearn.preprocessing import StandardScaler, OneHotEncoder\n",
    "from sklearn.compose import ColumnTransformer\n",
    "from sklearn.linear_model import LogisticRegression\n",
    "from sklearn.metrics import f1_score"
   ]
  },
  {
   "cell_type": "markdown",
   "id": "b0837717-de95-4193-9898-e2f4cadfcfc6",
   "metadata": {
    "id": "b0837717-de95-4193-9898-e2f4cadfcfc6"
   },
   "source": [
    "## Load the dataset and clean it\n",
    "\n",
    "In this task, you will prepare and load your dataset. You need to download the full FIFA 21 Dataset from the link here: [Kaggle FIFA Player Stats Database](https://www.kaggle.com/datasets/bryanb/fifa-player-stats-database?resource=download&select=FIFA21_official_data.csv).\n",
    "\n",
    ">Note: Make sure you download FIFA 21 dataset.\n",
    ">\n",
    ">![FIFA21 Dataset](https://storage.googleapis.com/rg-ai-bootcamp/projects/fifa21_dataset-min.png)\n",
    "\n",
    "After you download the dataset, you will then import the dataset then you will clean the data. For example there may be some empty cell in the dataset which you need to fill. Maybe there are also data that you need to convert to numeric value for analysis. Identify the data that is incomplete and fix them.\n",
    "\n",
    "In the code block below, you can use the comments to guide you on what to do."
   ]
  },
  {
   "cell_type": "code",
   "execution_count": 76,
   "id": "3b0e5e58-277e-41ef-9b1c-951e5d150191",
   "metadata": {
    "id": "3b0e5e58-277e-41ef-9b1c-951e5d150191"
   },
   "outputs": [
    {
     "data": {
      "text/html": [
       "<div>\n",
       "<style scoped>\n",
       "    .dataframe tbody tr th:only-of-type {\n",
       "        vertical-align: middle;\n",
       "    }\n",
       "\n",
       "    .dataframe tbody tr th {\n",
       "        vertical-align: top;\n",
       "    }\n",
       "\n",
       "    .dataframe thead th {\n",
       "        text-align: right;\n",
       "    }\n",
       "</style>\n",
       "<table border=\"1\" class=\"dataframe\">\n",
       "  <thead>\n",
       "    <tr style=\"text-align: right;\">\n",
       "      <th></th>\n",
       "      <th>ID</th>\n",
       "      <th>Name</th>\n",
       "      <th>Age</th>\n",
       "      <th>Photo</th>\n",
       "      <th>Nationality</th>\n",
       "      <th>Flag</th>\n",
       "      <th>Overall</th>\n",
       "      <th>Potential</th>\n",
       "      <th>Club</th>\n",
       "      <th>Club Logo</th>\n",
       "      <th>...</th>\n",
       "      <th>SlidingTackle</th>\n",
       "      <th>GKDiving</th>\n",
       "      <th>GKHandling</th>\n",
       "      <th>GKKicking</th>\n",
       "      <th>GKPositioning</th>\n",
       "      <th>GKReflexes</th>\n",
       "      <th>Best Position</th>\n",
       "      <th>Best Overall Rating</th>\n",
       "      <th>Release Clause</th>\n",
       "      <th>DefensiveAwareness</th>\n",
       "    </tr>\n",
       "  </thead>\n",
       "  <tbody>\n",
       "    <tr>\n",
       "      <th>0</th>\n",
       "      <td>176580</td>\n",
       "      <td>L. Suárez</td>\n",
       "      <td>33</td>\n",
       "      <td>https://cdn.sofifa.com/players/176/580/20_60.png</td>\n",
       "      <td>Uruguay</td>\n",
       "      <td>https://cdn.sofifa.com/flags/uy.png</td>\n",
       "      <td>87</td>\n",
       "      <td>87</td>\n",
       "      <td>Atlético Madrid</td>\n",
       "      <td>https://cdn.sofifa.com/teams/240/light_30.png</td>\n",
       "      <td>...</td>\n",
       "      <td>38.0</td>\n",
       "      <td>27.0</td>\n",
       "      <td>25.0</td>\n",
       "      <td>31.0</td>\n",
       "      <td>33.0</td>\n",
       "      <td>37.0</td>\n",
       "      <td>ST</td>\n",
       "      <td>87.0</td>\n",
       "      <td>€64.6M</td>\n",
       "      <td>57.0</td>\n",
       "    </tr>\n",
       "    <tr>\n",
       "      <th>1</th>\n",
       "      <td>192985</td>\n",
       "      <td>K. De Bruyne</td>\n",
       "      <td>29</td>\n",
       "      <td>https://cdn.sofifa.com/players/192/985/20_60.png</td>\n",
       "      <td>Belgium</td>\n",
       "      <td>https://cdn.sofifa.com/flags/be.png</td>\n",
       "      <td>91</td>\n",
       "      <td>91</td>\n",
       "      <td>Manchester City</td>\n",
       "      <td>https://cdn.sofifa.com/teams/10/light_30.png</td>\n",
       "      <td>...</td>\n",
       "      <td>53.0</td>\n",
       "      <td>15.0</td>\n",
       "      <td>13.0</td>\n",
       "      <td>5.0</td>\n",
       "      <td>10.0</td>\n",
       "      <td>13.0</td>\n",
       "      <td>CAM</td>\n",
       "      <td>91.0</td>\n",
       "      <td>€161M</td>\n",
       "      <td>68.0</td>\n",
       "    </tr>\n",
       "    <tr>\n",
       "      <th>2</th>\n",
       "      <td>212198</td>\n",
       "      <td>Bruno Fernandes</td>\n",
       "      <td>25</td>\n",
       "      <td>https://cdn.sofifa.com/players/212/198/20_60.png</td>\n",
       "      <td>Portugal</td>\n",
       "      <td>https://cdn.sofifa.com/flags/pt.png</td>\n",
       "      <td>87</td>\n",
       "      <td>90</td>\n",
       "      <td>Manchester United</td>\n",
       "      <td>https://cdn.sofifa.com/teams/11/light_30.png</td>\n",
       "      <td>...</td>\n",
       "      <td>55.0</td>\n",
       "      <td>12.0</td>\n",
       "      <td>14.0</td>\n",
       "      <td>15.0</td>\n",
       "      <td>8.0</td>\n",
       "      <td>14.0</td>\n",
       "      <td>CAM</td>\n",
       "      <td>88.0</td>\n",
       "      <td>€124.4M</td>\n",
       "      <td>72.0</td>\n",
       "    </tr>\n",
       "    <tr>\n",
       "      <th>3</th>\n",
       "      <td>194765</td>\n",
       "      <td>A. Griezmann</td>\n",
       "      <td>29</td>\n",
       "      <td>https://cdn.sofifa.com/players/194/765/20_60.png</td>\n",
       "      <td>France</td>\n",
       "      <td>https://cdn.sofifa.com/flags/fr.png</td>\n",
       "      <td>87</td>\n",
       "      <td>87</td>\n",
       "      <td>FC Barcelona</td>\n",
       "      <td>https://cdn.sofifa.com/teams/241/light_30.png</td>\n",
       "      <td>...</td>\n",
       "      <td>49.0</td>\n",
       "      <td>14.0</td>\n",
       "      <td>8.0</td>\n",
       "      <td>14.0</td>\n",
       "      <td>13.0</td>\n",
       "      <td>14.0</td>\n",
       "      <td>ST</td>\n",
       "      <td>87.0</td>\n",
       "      <td>€103.5M</td>\n",
       "      <td>59.0</td>\n",
       "    </tr>\n",
       "    <tr>\n",
       "      <th>4</th>\n",
       "      <td>224334</td>\n",
       "      <td>M. Acuña</td>\n",
       "      <td>28</td>\n",
       "      <td>https://cdn.sofifa.com/players/224/334/20_60.png</td>\n",
       "      <td>Argentina</td>\n",
       "      <td>https://cdn.sofifa.com/flags/ar.png</td>\n",
       "      <td>83</td>\n",
       "      <td>83</td>\n",
       "      <td>Sevilla FC</td>\n",
       "      <td>https://cdn.sofifa.com/teams/481/light_30.png</td>\n",
       "      <td>...</td>\n",
       "      <td>79.0</td>\n",
       "      <td>8.0</td>\n",
       "      <td>14.0</td>\n",
       "      <td>13.0</td>\n",
       "      <td>13.0</td>\n",
       "      <td>14.0</td>\n",
       "      <td>LB</td>\n",
       "      <td>83.0</td>\n",
       "      <td>€46.2M</td>\n",
       "      <td>79.0</td>\n",
       "    </tr>\n",
       "  </tbody>\n",
       "</table>\n",
       "<p>5 rows × 62 columns</p>\n",
       "</div>"
      ],
      "text/plain": [
       "       ID              Name  Age  \\\n",
       "0  176580         L. Suárez   33   \n",
       "1  192985      K. De Bruyne   29   \n",
       "2  212198   Bruno Fernandes   25   \n",
       "3  194765      A. Griezmann   29   \n",
       "4  224334          M. Acuña   28   \n",
       "\n",
       "                                              Photo Nationality  \\\n",
       "0  https://cdn.sofifa.com/players/176/580/20_60.png     Uruguay   \n",
       "1  https://cdn.sofifa.com/players/192/985/20_60.png     Belgium   \n",
       "2  https://cdn.sofifa.com/players/212/198/20_60.png    Portugal   \n",
       "3  https://cdn.sofifa.com/players/194/765/20_60.png      France   \n",
       "4  https://cdn.sofifa.com/players/224/334/20_60.png   Argentina   \n",
       "\n",
       "                                  Flag  Overall  Potential               Club  \\\n",
       "0  https://cdn.sofifa.com/flags/uy.png       87         87    Atlético Madrid   \n",
       "1  https://cdn.sofifa.com/flags/be.png       91         91    Manchester City   \n",
       "2  https://cdn.sofifa.com/flags/pt.png       87         90  Manchester United   \n",
       "3  https://cdn.sofifa.com/flags/fr.png       87         87       FC Barcelona   \n",
       "4  https://cdn.sofifa.com/flags/ar.png       83         83         Sevilla FC   \n",
       "\n",
       "                                       Club Logo  ... SlidingTackle GKDiving  \\\n",
       "0  https://cdn.sofifa.com/teams/240/light_30.png  ...          38.0     27.0   \n",
       "1   https://cdn.sofifa.com/teams/10/light_30.png  ...          53.0     15.0   \n",
       "2   https://cdn.sofifa.com/teams/11/light_30.png  ...          55.0     12.0   \n",
       "3  https://cdn.sofifa.com/teams/241/light_30.png  ...          49.0     14.0   \n",
       "4  https://cdn.sofifa.com/teams/481/light_30.png  ...          79.0      8.0   \n",
       "\n",
       "   GKHandling GKKicking  GKPositioning  GKReflexes  Best Position  \\\n",
       "0        25.0      31.0           33.0        37.0             ST   \n",
       "1        13.0       5.0           10.0        13.0            CAM   \n",
       "2        14.0      15.0            8.0        14.0            CAM   \n",
       "3         8.0      14.0           13.0        14.0             ST   \n",
       "4        14.0      13.0           13.0        14.0             LB   \n",
       "\n",
       "  Best Overall Rating Release Clause DefensiveAwareness  \n",
       "0                87.0         €64.6M               57.0  \n",
       "1                91.0          €161M               68.0  \n",
       "2                88.0        €124.4M               72.0  \n",
       "3                87.0        €103.5M               59.0  \n",
       "4                83.0         €46.2M               79.0  \n",
       "\n",
       "[5 rows x 62 columns]"
      ]
     },
     "execution_count": 76,
     "metadata": {},
     "output_type": "execute_result"
    }
   ],
   "source": [
    "# Write your preprocessing and data cleaning here\n",
    "\n",
    "# Load your data\n",
    "file_path = \"FIFA21_official_data.csv\"\n",
    "fifa_df = pd.read_csv(file_path, low_memory=False)\n",
    "fifa_df\n",
    "\n",
    "# Check your data for empty cell\n",
    "fifa_df.isnull().sum()\n",
    "\n",
    "# Fill the empty cell with data or drop the column\n",
    "# categorical columns: 'Club', 'Body Type', 'Real Face', 'Position', 'Jersey Number', 'Joined', 'Loaned From', 'Contract Valid Until'\n",
    "# Drop columns Real Face, and Jersey Number as it is not important, drop Loaned From as it has too many missing values\n",
    "fifa_df.drop(columns=['Real Face', 'Jersey Number', 'Loaned From'], inplace=True)\n",
    "# Fill the empty cell for other columns with 'Unknown'\n",
    "fifa_df[['Club', 'Body Type', 'Position']] = fifa_df[['Club', 'Body Type', 'Position']].fillna('Unknown')\n",
    "\n",
    "# numerical columns: 'Volleys', 'Curve', 'Agility', 'Balance', 'Jumping', 'Interceptions', 'Positioning', 'Vision', 'Composure', 'Marking', 'SlidingTackle', 'DefensiveAwareness'\n",
    "columns = ['Volleys', 'Curve', 'Agility', 'Balance', 'Jumping', 'Interceptions', 'Positioning', 'Vision', 'Composure', 'Marking', 'SlidingTackle', 'DefensiveAwareness']\n",
    "# Fill the empty cell with the mean of the column\n",
    "fifa_df[columns] = fifa_df[columns].fillna(fifa_df[columns].mean())\n",
    "\n",
    "#financial columns: 'Value', 'Wage', 'Release Clause'\n",
    "# Fill the empty cell with '0'\n",
    "fifa_df[['Value', 'Wage', 'Release Clause']] = fifa_df[['Value', 'Wage', 'Release Clause']].fillna('0')\n",
    "\n",
    "\n",
    "fifa_df.head()"
   ]
  },
  {
   "cell_type": "code",
   "execution_count": 77,
   "id": "ab29b0a0",
   "metadata": {},
   "outputs": [],
   "source": [
    "# drop the original 'Joined' and 'Contract Valid Until' columns\n",
    "fifa_df = fifa_df.drop(['Joined', 'Contract Valid Until'], axis=1)"
   ]
  },
  {
   "cell_type": "code",
   "execution_count": 78,
   "id": "683c3e07",
   "metadata": {},
   "outputs": [],
   "source": [
    "# Convert 'Height' to centimeters\n",
    "fifa_df['Height'] = fifa_df['Height'].apply(lambda x: int(x.split(\"'\")[0])*30.48 + int(x.split(\"'\")[1])*2.54 if isinstance(x, str) else x)\n",
    "# Convert 'Weight' to float\n",
    "fifa_df['Weight'] = fifa_df['Weight'].str.rstrip('lbs').astype(float)"
   ]
  },
  {
   "cell_type": "code",
   "execution_count": 79,
   "id": "a9555915",
   "metadata": {},
   "outputs": [
    {
     "data": {
      "text/html": [
       "<div>\n",
       "<style scoped>\n",
       "    .dataframe tbody tr th:only-of-type {\n",
       "        vertical-align: middle;\n",
       "    }\n",
       "\n",
       "    .dataframe tbody tr th {\n",
       "        vertical-align: top;\n",
       "    }\n",
       "\n",
       "    .dataframe thead th {\n",
       "        text-align: right;\n",
       "    }\n",
       "</style>\n",
       "<table border=\"1\" class=\"dataframe\">\n",
       "  <thead>\n",
       "    <tr style=\"text-align: right;\">\n",
       "      <th></th>\n",
       "      <th>Value</th>\n",
       "      <th>Wage</th>\n",
       "      <th>Release Clause</th>\n",
       "    </tr>\n",
       "  </thead>\n",
       "  <tbody>\n",
       "    <tr>\n",
       "      <th>0</th>\n",
       "      <td>31500000.0</td>\n",
       "      <td>115000.0</td>\n",
       "      <td>64600000.0</td>\n",
       "    </tr>\n",
       "    <tr>\n",
       "      <th>1</th>\n",
       "      <td>87000000.0</td>\n",
       "      <td>370000.0</td>\n",
       "      <td>161000000.0</td>\n",
       "    </tr>\n",
       "    <tr>\n",
       "      <th>2</th>\n",
       "      <td>63000000.0</td>\n",
       "      <td>195000.0</td>\n",
       "      <td>124400000.0</td>\n",
       "    </tr>\n",
       "    <tr>\n",
       "      <th>3</th>\n",
       "      <td>50500000.0</td>\n",
       "      <td>290000.0</td>\n",
       "      <td>103500000.0</td>\n",
       "    </tr>\n",
       "    <tr>\n",
       "      <th>4</th>\n",
       "      <td>22000000.0</td>\n",
       "      <td>41000.0</td>\n",
       "      <td>46200000.0</td>\n",
       "    </tr>\n",
       "    <tr>\n",
       "      <th>...</th>\n",
       "      <td>...</td>\n",
       "      <td>...</td>\n",
       "      <td>...</td>\n",
       "    </tr>\n",
       "    <tr>\n",
       "      <th>17103</th>\n",
       "      <td>50000.0</td>\n",
       "      <td>500.0</td>\n",
       "      <td>120000.0</td>\n",
       "    </tr>\n",
       "    <tr>\n",
       "      <th>17104</th>\n",
       "      <td>50000.0</td>\n",
       "      <td>500.0</td>\n",
       "      <td>83000.0</td>\n",
       "    </tr>\n",
       "    <tr>\n",
       "      <th>17105</th>\n",
       "      <td>60000.0</td>\n",
       "      <td>500.0</td>\n",
       "      <td>149000.0</td>\n",
       "    </tr>\n",
       "    <tr>\n",
       "      <th>17106</th>\n",
       "      <td>50000.0</td>\n",
       "      <td>500.0</td>\n",
       "      <td>94000.0</td>\n",
       "    </tr>\n",
       "    <tr>\n",
       "      <th>17107</th>\n",
       "      <td>50000.0</td>\n",
       "      <td>500.0</td>\n",
       "      <td>109000.0</td>\n",
       "    </tr>\n",
       "  </tbody>\n",
       "</table>\n",
       "<p>17108 rows × 3 columns</p>\n",
       "</div>"
      ],
      "text/plain": [
       "            Value      Wage  Release Clause\n",
       "0      31500000.0  115000.0      64600000.0\n",
       "1      87000000.0  370000.0     161000000.0\n",
       "2      63000000.0  195000.0     124400000.0\n",
       "3      50500000.0  290000.0     103500000.0\n",
       "4      22000000.0   41000.0      46200000.0\n",
       "...           ...       ...             ...\n",
       "17103     50000.0     500.0        120000.0\n",
       "17104     50000.0     500.0         83000.0\n",
       "17105     60000.0     500.0        149000.0\n",
       "17106     50000.0     500.0         94000.0\n",
       "17107     50000.0     500.0        109000.0\n",
       "\n",
       "[17108 rows x 3 columns]"
      ]
     },
     "execution_count": 79,
     "metadata": {},
     "output_type": "execute_result"
    }
   ],
   "source": [
    "# handle financial columns\n",
    "def convert_currency_to_float(df, columns):\n",
    "    for column in columns:\n",
    "        df[column] = df[column].replace(r'\\€', '', regex=True)\n",
    "        df[column] = df[column].apply(lambda x: float(x.replace('M', '')) * 1000000 if 'M' in x else (float(x.replace('K', '')) * 1000 if 'K' in x else float(x)))\n",
    "    return df\n",
    "\n",
    "columns = ['Value', 'Wage', 'Release Clause']\n",
    "fifa_df = convert_currency_to_float(fifa_df, columns)\n",
    "fifa_df[['Value', 'Wage', 'Release Clause']]"
   ]
  },
  {
   "cell_type": "markdown",
   "id": "30ce0c59-0e94-480a-81ae-528e68356a15",
   "metadata": {
    "id": "30ce0c59-0e94-480a-81ae-528e68356a15"
   },
   "source": [
    "## Build and Train your model\n",
    "\n",
    "In this task you will analyze the data and select the features that is best at predicting if the Player is a 'Valuable' player or not.\n",
    "\n",
    "The first step is to **define the target output** that you will use for training. Here's an example of how to create a target output:\n",
    "- `df['OK Player'] = df['Overall'].apply(lambda x: 1 if x >= 50 else 0) #Define the OK Player using treshold of 50.`\n",
    "\n",
    "Next you will **identify the features** that will best predict a 'Valuable' player. You are required to **submit the features you selected** in the Submission section below. Because we use the \"Overall\" as our target output, the use of \"Overall\" in your features is not allowed. You will automatically get 0 if you submit \"Overall\" in your features.\n",
    "\n",
    "Once you identify the features, you will then **split the data** into Training set and Testing/Validation set.\n",
    "\n",
    "Depending on the features you selected, **you may need to scale the features**.\n",
    "\n",
    "Now you will **train your model, choose the algorithm** you are going to use carefully to make sure it gives the best result.\n",
    "\n",
    "Once you have trained your model, you need to test the model effectiveness. **Make predictions against your Testing/Validation set** and evaluate your model. You are required to **submit the Accuracy Score and F1 score** in the Submission section below.\n",
    "\n",
    "In the code block below, you can use the comments to guide you on what to do.\n",
    "\n",
    "We have also provided 3 variables that you must use in your code, `ml_features`, `ml_accuracy` and `ml_f1_score`. You can move the variables around your code, assign values to them, but you cannot delete them."
   ]
  },
  {
   "cell_type": "code",
   "execution_count": 80,
   "id": "1aa3c3f7-c6c5-4419-9b25-e8d7a8ec345a",
   "metadata": {
    "id": "1aa3c3f7-c6c5-4419-9b25-e8d7a8ec345a"
   },
   "outputs": [
    {
     "data": {
      "text/plain": [
       "(0.9756477693356711, 0.9097472924187726)"
      ]
     },
     "execution_count": 80,
     "metadata": {},
     "output_type": "execute_result"
    }
   ],
   "source": [
    "# Write your code here\n",
    "\n",
    "# Define the target output (Good >= 75)\n",
    "fifa_df['Good'] = fifa_df['Overall'] >= 75\n",
    "\n",
    "# Identify the features you will use in your model\n",
    "ml_features = ['Age', 'Potential', 'Value', 'Wage', 'Special', 'International Reputation', 'Weak Foot', 'Skill Moves', 'Body Type', 'Position', 'Height', 'Weight', 'Crossing', 'Finishing', 'HeadingAccuracy', 'ShortPassing', 'Volleys', 'Dribbling', 'Curve', 'FKAccuracy', 'LongPassing', 'BallControl', 'Acceleration', 'SprintSpeed', 'Agility', 'Reactions', 'Balance', 'ShotPower', 'Jumping', 'Stamina', 'Strength', 'LongShots', 'Aggression', 'Interceptions', 'Positioning', 'Vision', 'Penalties', 'Composure', 'Marking', 'StandingTackle', 'SlidingTackle', 'GKDiving', 'GKHandling', 'GKKicking', 'GKPositioning', 'GKReflexes', 'Release Clause']\n",
    "\n",
    "# Split data into training set and test set\n",
    "X = fifa_df[ml_features]\n",
    "y = fifa_df['Good']\n",
    "X_train, X_test, y_train, y_test = train_test_split(X, y, test_size=0.3, random_state=0)\n",
    "\n",
    "# Scale the features (if needed, optional)\n",
    "# Identify categorical features\n",
    "categorical_features = ['Body Type', 'Position']\n",
    "\n",
    "# Create a ColumnTransformer to handle categorical features\n",
    "preprocessor = ColumnTransformer(\n",
    "    transformers=[\n",
    "        ('num', StandardScaler(), [col for col in ml_features if col not in categorical_features]),\n",
    "        ('cat', OneHotEncoder(handle_unknown='ignore'), categorical_features)])\n",
    "\n",
    "# Fit and transform the training data\n",
    "X_train = preprocessor.fit_transform(X_train)\n",
    "\n",
    "# Transform the test data\n",
    "X_test = preprocessor.transform(X_test)\n",
    "scaler = StandardScaler(with_mean=False, with_std=True)\n",
    "X_train = scaler.fit_transform(X_train)\n",
    "X_test = scaler.transform(X_test)\n",
    "\n",
    "# Train the model\n",
    "model = LogisticRegression()\n",
    "model.fit(X_train, y_train)\n",
    "\n",
    "# Make predictions using the test set\n",
    "y_pred = model.predict(X_test)\n",
    "\n",
    "\n",
    "# Evaluate the model\n",
    "ml_accuracy = model.score(X_test, y_test)\n",
    "ml_f1_score = f1_score(y_test, y_pred)\n",
    "\n",
    "ml_accuracy, ml_f1_score\n",
    "\n"
   ]
  },
  {
   "cell_type": "markdown",
   "id": "5d59af48-18c0-4e40-80ff-33a85030b205",
   "metadata": {
    "id": "5d59af48-18c0-4e40-80ff-33a85030b205"
   },
   "source": [
    "## Submission\n",
    "\n",
    "Once you are satisfied with the performance of your model, then you run the code block below to submit your project.\n"
   ]
  },
  {
   "cell_type": "code",
   "execution_count": 81,
   "id": "010d7f7f-711d-4f41-82a3-3c2562e59709",
   "metadata": {
    "id": "010d7f7f-711d-4f41-82a3-3c2562e59709"
   },
   "outputs": [
    {
     "data": {
      "text/plain": [
       "'Assignment successfully submitted'"
      ]
     },
     "execution_count": 81,
     "metadata": {},
     "output_type": "execute_result"
    }
   ],
   "source": [
    "# Submit Method\n",
    "\n",
    "# Do not change the code below\n",
    "question_id = \"01_ml_project_features\"\n",
    "submit(student_id, name, assignment_id, str(ml_features), question_id, drive_link)\n",
    "question_id = \"02_ml_project_accuracy\"\n",
    "submit(student_id, name, assignment_id, str(ml_accuracy), question_id, drive_link)\n",
    "question_id = \"03_ml_project_f1score\"\n",
    "submit(student_id, name, assignment_id, str(ml_f1_score), question_id, drive_link)"
   ]
  },
  {
   "cell_type": "markdown",
   "id": "aa89b9ff-0d31-416a-b3c4-851c725fadf7",
   "metadata": {
    "id": "aa89b9ff-0d31-416a-b3c4-851c725fadf7"
   },
   "source": [
    "## FIN"
   ]
  }
 ],
 "metadata": {
  "colab": {
   "provenance": []
  },
  "kernelspec": {
   "display_name": "Python 3 (ipykernel)",
   "language": "python",
   "name": "python3"
  },
  "language_info": {
   "codemirror_mode": {
    "name": "ipython",
    "version": 3
   },
   "file_extension": ".py",
   "mimetype": "text/x-python",
   "name": "python",
   "nbconvert_exporter": "python",
   "pygments_lexer": "ipython3",
   "version": "3.9.6"
  }
 },
 "nbformat": 4,
 "nbformat_minor": 5
}
