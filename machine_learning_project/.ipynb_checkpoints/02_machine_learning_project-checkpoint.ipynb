{
  "cells": [
    {
      "cell_type": "markdown",
      "id": "3ccb0b85-67c6-4dfe-a6f9-138bb5e778ab",
      "metadata": {
        "id": "3ccb0b85-67c6-4dfe-a6f9-138bb5e778ab"
      },
      "source": [
        "# Project: Machine Learning"
      ]
    },
    {
      "cell_type": "markdown",
      "id": "911a145c-7d01-4210-9699-0e1fef80ff19",
      "metadata": {
        "id": "911a145c-7d01-4210-9699-0e1fef80ff19"
      },
      "source": [
        "**Instructions for Students:**\n",
        "\n",
        "Please carefully follow these steps to complete and submit your project:\n",
        "\n",
        "1. **Make a copy of the Project**: Please make a copy of this project either to your own Google Drive or download locally. Work on the copy of the project. The master project is **Read-Only**, meaning you can edit, but it will not be saved when you close the master project. To avoid total loss of your work, remember to make a copy.\n",
        "\n",
        "2. **Completing the Project**: You are required to work on and complete all tasks in the provided project. Be disciplined and ensure that you thoroughly engage with each task.\n",
        "   \n",
        "3. **Creating a Google Drive Folder**: Each of you must create a new folder on your Google Drive. This will be the repository for all your completed project files, aiding you in keeping your work organized and accessible.\n",
        "   \n",
        "4. **Uploading Completed Project**: Upon completion of your project, make sure to upload all necessary files, involving codes, reports, and related documents into the created Google Drive folder. Save this link in the 'Student Identity' section and also provide it as the last parameter in the `submit` function that has been provided.\n",
        "   \n",
        "5. **Sharing Folder Link**: You're required to share the link to your project Google Drive folder. This is crucial for the submission and evaluation of your project.\n",
        "   \n",
        "6. **Setting Permission to Public**: Please make sure your Google Drive folder is set to public. This allows your instructor to access your solutions and assess your work correctly.\n",
        "\n",
        "Adhering to these procedures will facilitate a smooth project evaluation process for you and the reviewers."
      ]
    },
    {
      "cell_type": "markdown",
      "id": "d3b9e0f7-75d2-476a-9b29-07c1a3800925",
      "metadata": {
        "id": "d3b9e0f7-75d2-476a-9b29-07c1a3800925"
      },
      "source": [
        "## Project Description\n",
        "\n",
        "In this Machine Learning Project, you will create your own supervised Machine Learning (ML) model. We will use the full FIFA21 Dataset and we will identify players that are above average.\n",
        "\n",
        "We will use the column \"Overall\" with a treshold of 75 to define players that are 'Valuable'. This will become our target output which we need for a supervised ML model. Because we use the \"Overall\" as our target output, you cannot use \"Overall\" in your features, this will be explained further below.\n",
        "\n",
        "This project will provide a comprehensive overview of your abilities in machine learning, from understanding the problem, choosing the right model, training, and optimizing it."
      ]
    },
    {
      "cell_type": "markdown",
      "id": "84fea308-2c09-472c-a5ec-e4ba0900d496",
      "metadata": {
        "id": "84fea308-2c09-472c-a5ec-e4ba0900d496"
      },
      "source": [
        "## Grading Criteria\n",
        "\n",
        "Your score will be awarded based on the following criteria:\n",
        "* 100: The model has an accuracy of more than 80% and an F1 score of more than 85%. This model is excellent and demonstrates a strong understanding of the task.\n",
        "* 90: The model has an accuracy of more than 75% and an F1 score of more than 80%. This model is very good, with some room for improvement.\n",
        "* 80: The model has an accuracy of more than 70% and an F1 score between 70% and 80%. This model is fairly good but needs improvement in balancing precision and recall.\n",
        "* 70: The model has an accuracy of more than 65% and an F1 score between 60% and 70%. This model is below average and needs significant improvement.\n",
        "* 60 or below: The model has an accuracy of less than 65% or an F1 score of less than 60%, or the student did not submit the accuracy and F1 score. This model is poor and needs considerable improvement."
      ]
    },
    {
      "cell_type": "markdown",
      "id": "915df21b-3a7e-444a-999d-c830acdbe7f2",
      "metadata": {
        "id": "915df21b-3a7e-444a-999d-c830acdbe7f2"
      },
      "source": [
        "Rmember to make a copy of this notebook in your Google Drive and work in your own copy.\n",
        "\n",
        "Happy modeling!\n",
        "\n",
        ">Note: If you get the accuracy of 100% and F1 score of 100%, while it may earn you good grades, it's an indication of overfitting."
      ]
    },
    {
      "cell_type": "markdown",
      "id": "8018f21d-d661-4ae4-a50d-9fb66feb291d",
      "metadata": {
        "id": "8018f21d-d661-4ae4-a50d-9fb66feb291d"
      },
      "source": [
        "## Student Identity"
      ]
    },
    {
      "cell_type": "code",
      "execution_count": null,
      "id": "9fc57472-0432-474a-b1f7-c825edfc007a",
      "metadata": {
        "id": "9fc57472-0432-474a-b1f7-c825edfc007a"
      },
      "outputs": [],
      "source": [
        "# @title #### Student Identity\n",
        "student_id = \"\" # @param {type:\"string\"}\n",
        "name = \"\" # @param {type:\"string\"}\n",
        "drive_link = \"\"  # @param {type:\"string\"}\n",
        "\n",
        "assignment_id = \"00_ml_project\"\n",
        "\n",
        "# Import grader package\n",
        "!pip install rggrader\n",
        "from rggrader import submit, submit_image"
      ]
    },
    {
      "cell_type": "code",
      "execution_count": null,
      "id": "62606ca1-5868-4c65-93ef-1d6ee8d8d59a",
      "metadata": {
        "id": "62606ca1-5868-4c65-93ef-1d6ee8d8d59a"
      },
      "outputs": [],
      "source": [
        "# Write any package/module installation that you need\n",
        "# pip install goes here, this helps declutter your output below\n",
        "\n"
      ]
    },
    {
      "cell_type": "markdown",
      "id": "b0837717-de95-4193-9898-e2f4cadfcfc6",
      "metadata": {
        "id": "b0837717-de95-4193-9898-e2f4cadfcfc6"
      },
      "source": [
        "## Load the dataset and clean it\n",
        "\n",
        "In this task, you will prepare and load your dataset. You need to download the full FIFA 21 Dataset from the link here: [Kaggle FIFA Player Stats Database](https://www.kaggle.com/datasets/bryanb/fifa-player-stats-database?resource=download&select=FIFA21_official_data.csv).\n",
        "\n",
        ">Note: Make sure you download FIFA 21 dataset.\n",
        ">\n",
        ">![FIFA21 Dataset](https://storage.googleapis.com/rg-ai-bootcamp/projects/fifa21_dataset-min.png)\n",
        "\n",
        "After you download the dataset, you will then import the dataset then you will clean the data. For example there may be some empty cell in the dataset which you need to fill. Maybe there are also data that you need to convert to numeric value for analysis. Identify the data that is incomplete and fix them.\n",
        "\n",
        "In the code block below, you can use the comments to guide you on what to do."
      ]
    },
    {
      "cell_type": "code",
      "execution_count": null,
      "id": "3b0e5e58-277e-41ef-9b1c-951e5d150191",
      "metadata": {
        "id": "3b0e5e58-277e-41ef-9b1c-951e5d150191"
      },
      "outputs": [],
      "source": [
        "# Write your preprocessing and data cleaning here\n",
        "\n",
        "# Load your data\n",
        "\n",
        "\n",
        "# Check your data for empty cell\n",
        "\n",
        "\n",
        "# Fill the empty cell with data or drop the column\n",
        "\n"
      ]
    },
    {
      "cell_type": "markdown",
      "id": "30ce0c59-0e94-480a-81ae-528e68356a15",
      "metadata": {
        "id": "30ce0c59-0e94-480a-81ae-528e68356a15"
      },
      "source": [
        "## Build and Train your model\n",
        "\n",
        "In this task you will analyze the data and select the features that is best at predicting if the Player is a 'Valuable' player or not.\n",
        "\n",
        "The first step is to **define the target output** that you will use for training. Here's an example of how to create a target output:\n",
        "- `df['OK Player'] = df['Overall'].apply(lambda x: 1 if x >= 50 else 0) #Define the OK Player using treshold of 50.`\n",
        "\n",
        "Next you will **identify the features** that will best predict a 'Valuable' player. You are required to **submit the features you selected** in the Submission section below. Because we use the \"Overall\" as our target output, the use of \"Overall\" in your features is not allowed. You will automatically get 0 if you submit \"Overall\" in your features.\n",
        "\n",
        "Once you identify the features, you will then **split the data** into Training set and Testing/Validation set.\n",
        "\n",
        "Depending on the features you selected, **you may need to scale the features**.\n",
        "\n",
        "Now you will **train your model, choose the algorithm** you are going to use carefully to make sure it gives the best result.\n",
        "\n",
        "Once you have trained your model, you need to test the model effectiveness. **Make predictions against your Testing/Validation set** and evaluate your model. You are required to **submit the Accuracy Score and F1 score** in the Submission section below.\n",
        "\n",
        "In the code block below, you can use the comments to guide you on what to do.\n",
        "\n",
        "We have also provided 3 variables that you must use in your code, `ml_features`, `ml_accuracy` and `ml_f1_score`. You can move the variables around your code, assign values to them, but you cannot delete them."
      ]
    },
    {
      "cell_type": "code",
      "execution_count": null,
      "id": "1aa3c3f7-c6c5-4419-9b25-e8d7a8ec345a",
      "metadata": {
        "id": "1aa3c3f7-c6c5-4419-9b25-e8d7a8ec345a"
      },
      "outputs": [],
      "source": [
        "# Write your code here\n",
        "\n",
        "# Define the target output (Good >= 75)\n",
        "\n",
        "\n",
        "# Identify the features you will use in your model\n",
        "ml_features = []\n",
        "\n",
        "# Split data into training set and test set\n",
        "\n",
        "\n",
        "# Scale the features (if needed, optional)\n",
        "\n",
        "\n",
        "# Train the model\n",
        "\n",
        "\n",
        "# Make predictions using the test set\n",
        "\n",
        "\n",
        "# Evaluate the model\n",
        "ml_accuracy = 0\n",
        "ml_f1_score = 0\n",
        "\n"
      ]
    },
    {
      "cell_type": "markdown",
      "id": "5d59af48-18c0-4e40-80ff-33a85030b205",
      "metadata": {
        "id": "5d59af48-18c0-4e40-80ff-33a85030b205"
      },
      "source": [
        "## Submission\n",
        "\n",
        "Once you are satisfied with the performance of your model, then you run the code block below to submit your project.\n"
      ]
    },
    {
      "cell_type": "code",
      "execution_count": null,
      "id": "010d7f7f-711d-4f41-82a3-3c2562e59709",
      "metadata": {
        "id": "010d7f7f-711d-4f41-82a3-3c2562e59709"
      },
      "outputs": [],
      "source": [
        "# Submit Method\n",
        "\n",
        "# Do not change the code below\n",
        "question_id = \"01_ml_project_features\"\n",
        "submit(student_id, name, assignment_id, str(ml_features), question_id, drive_link)\n",
        "question_id = \"02_ml_project_accuracy\"\n",
        "submit(student_id, name, assignment_id, str(ml_accuracy), question_id, drive_link)\n",
        "question_id = \"03_ml_project_f1score\"\n",
        "submit(student_id, name, assignment_id, str(ml_f1_score), question_id, drive_link)"
      ]
    },
    {
      "cell_type": "markdown",
      "id": "aa89b9ff-0d31-416a-b3c4-851c725fadf7",
      "metadata": {
        "id": "aa89b9ff-0d31-416a-b3c4-851c725fadf7"
      },
      "source": [
        "## FIN"
      ]
    }
  ],
  "metadata": {
    "kernelspec": {
      "display_name": "Python 3 (ipykernel)",
      "language": "python",
      "name": "python3"
    },
    "language_info": {
      "codemirror_mode": {
        "name": "ipython",
        "version": 3
      },
      "file_extension": ".py",
      "mimetype": "text/x-python",
      "name": "python",
      "nbconvert_exporter": "python",
      "pygments_lexer": "ipython3",
      "version": "3.11.3"
    },
    "colab": {
      "provenance": []
    }
  },
  "nbformat": 4,
  "nbformat_minor": 5
}