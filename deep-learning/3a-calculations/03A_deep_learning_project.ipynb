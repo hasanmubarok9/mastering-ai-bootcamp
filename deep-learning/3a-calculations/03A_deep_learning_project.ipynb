{
 "cells": [
  {
   "cell_type": "markdown",
   "metadata": {
    "id": "GsGMpqB3hWCV"
   },
   "source": [
    "# Project: Deep Learning - Calculations"
   ]
  },
  {
   "cell_type": "markdown",
   "metadata": {
    "id": "_YJ9lsSphWCY"
   },
   "source": [
    "**Instructions for Students:**\n",
    "\n",
    "Please carefully follow these steps to complete and submit your project:\n",
    "\n",
    "1. **Make a copy of the Project**: Please make a copy of this project either to your own Google Drive or download locally. Work on the copy of the project. The master project is **Read-Only**, meaning you can edit, but it will not be saved when you close the master project. To avoid total loss of your work, remember to make a copy.\n",
    "\n",
    "2. **Completing the Project**: You are required to work on and complete all tasks in the provided project. Be disciplined and ensure that you thoroughly engage with each task.\n",
    "   \n",
    "3. **Creating a Google Drive Folder**: Each of you must create a new folder on your Google Drive. This will be the repository for all your completed project files, aiding you in keeping your work organized and accessible.\n",
    "   \n",
    "4. **Uploading Completed Project**: Upon completion of your project, make sure to upload all necessary files, involving codes, reports, and related documents into the created Google Drive folder. Save this link in the 'Student Identity' section and also provide it as the last parameter in the `submit` function that has been provided.\n",
    "   \n",
    "5. **Sharing Folder Link**: You're required to share the link to your project Google Drive folder. This is crucial for the submission and evaluation of your project.\n",
    "   \n",
    "6. **Setting Permission to Public**: Please make sure your Google Drive folder is set to public. This allows your instructor to access your solutions and assess your work correctly.\n",
    "\n",
    "Adhering to these procedures will facilitate a smooth project evaluation process for you and the reviewers."
   ]
  },
  {
   "cell_type": "markdown",
   "metadata": {
    "id": "zZelXEWghWCY"
   },
   "source": [
    "## Project Description\n",
    "\n",
    "The Deep Learning Projects are divided into two parts, the first is the Calculations worth 30% in this notebook and the second one is Pytorch Project worth 70%.\n",
    "\n",
    "The two projects will help you gain experience to learn about Deep Learning in detail.\n",
    "\n",
    "Happy coding!"
   ]
  },
  {
   "cell_type": "markdown",
   "metadata": {
    "id": "T-liOoeHhWCY"
   },
   "source": [
    "## Student Identity"
   ]
  },
  {
   "cell_type": "code",
   "execution_count": 7,
   "metadata": {
    "id": "_1at8omOhWCZ"
   },
   "outputs": [],
   "source": [
    "# @title #### Student Identity\n",
    "student_id = \"REAGEFDF\" # @param {type:\"string\"}\n",
    "name = \"Hasan Mubarok\" # @param {type:\"string\"}\n",
    "drive_link = \"\"  # @param {type:\"string\"}"
   ]
  },
  {
   "cell_type": "markdown",
   "metadata": {
    "id": "rCgwrs3KhWCZ"
   },
   "source": [
    "## Import package"
   ]
  },
  {
   "cell_type": "code",
   "execution_count": 11,
   "metadata": {
    "id": "oUh_TNPDhWCZ"
   },
   "outputs": [
    {
     "name": "stdout",
     "output_type": "stream",
     "text": [
      "Requirement already satisfied: fastbook in c:\\users\\pc\\appdata\\local\\programs\\python\\python312\\lib\\site-packages (0.0.29)\n",
      "Requirement already satisfied: pip in c:\\users\\pc\\appdata\\local\\programs\\python\\python312\\lib\\site-packages (from fastbook) (23.2.1)\n",
      "Requirement already satisfied: packaging in c:\\users\\pc\\appdata\\local\\programs\\python\\python312\\lib\\site-packages (from fastbook) (24.0)\n",
      "Requirement already satisfied: fastai>=2.6 in c:\\users\\pc\\appdata\\local\\programs\\python\\python312\\lib\\site-packages (from fastbook) (2.7.15)\n",
      "Requirement already satisfied: graphviz in c:\\users\\pc\\appdata\\local\\programs\\python\\python312\\lib\\site-packages (from fastbook) (0.20.3)\n",
      "Requirement already satisfied: pandas in c:\\users\\pc\\appdata\\local\\programs\\python\\python312\\lib\\site-packages (from fastbook) (2.2.2)\n",
      "Requirement already satisfied: requests in c:\\users\\pc\\appdata\\local\\programs\\python\\python312\\lib\\site-packages (from fastbook) (2.32.3)\n",
      "Requirement already satisfied: transformers in c:\\users\\pc\\appdata\\local\\programs\\python\\python312\\lib\\site-packages (from fastbook) (4.41.2)\n",
      "Requirement already satisfied: datasets in c:\\users\\pc\\appdata\\local\\programs\\python\\python312\\lib\\site-packages (from fastbook) (2.19.2)\n",
      "Requirement already satisfied: ipywidgets<8 in c:\\users\\pc\\appdata\\local\\programs\\python\\python312\\lib\\site-packages (from fastbook) (7.8.1)\n",
      "Requirement already satisfied: sentencepiece in c:\\users\\pc\\appdata\\local\\programs\\python\\python312\\lib\\site-packages (from fastbook) (0.2.0)\n",
      "Requirement already satisfied: fastdownload<2,>=0.0.5 in c:\\users\\pc\\appdata\\local\\programs\\python\\python312\\lib\\site-packages (from fastai>=2.6->fastbook) (0.0.7)\n",
      "Requirement already satisfied: fastcore<1.6,>=1.5.29 in c:\\users\\pc\\appdata\\local\\programs\\python\\python312\\lib\\site-packages (from fastai>=2.6->fastbook) (1.5.43)\n",
      "Requirement already satisfied: torchvision>=0.11 in c:\\users\\pc\\appdata\\local\\programs\\python\\python312\\lib\\site-packages (from fastai>=2.6->fastbook) (0.18.0)\n",
      "Requirement already satisfied: matplotlib in c:\\users\\pc\\appdata\\local\\programs\\python\\python312\\lib\\site-packages (from fastai>=2.6->fastbook) (3.8.4)\n",
      "Requirement already satisfied: pyyaml in c:\\users\\pc\\appdata\\local\\programs\\python\\python312\\lib\\site-packages (from fastai>=2.6->fastbook) (6.0.1)\n",
      "Requirement already satisfied: fastprogress>=0.2.4 in c:\\users\\pc\\appdata\\local\\programs\\python\\python312\\lib\\site-packages (from fastai>=2.6->fastbook) (1.0.3)\n",
      "Requirement already satisfied: pillow>=9.0.0 in c:\\users\\pc\\appdata\\local\\programs\\python\\python312\\lib\\site-packages (from fastai>=2.6->fastbook) (10.3.0)\n",
      "Requirement already satisfied: scikit-learn in c:\\users\\pc\\appdata\\local\\programs\\python\\python312\\lib\\site-packages (from fastai>=2.6->fastbook) (1.5.0)\n",
      "Requirement already satisfied: scipy in c:\\users\\pc\\appdata\\local\\programs\\python\\python312\\lib\\site-packages (from fastai>=2.6->fastbook) (1.13.1)\n",
      "Requirement already satisfied: spacy<4 in c:\\users\\pc\\appdata\\local\\programs\\python\\python312\\lib\\site-packages (from fastai>=2.6->fastbook) (3.7.4)\n",
      "Requirement already satisfied: torch<2.4,>=1.10 in c:\\users\\pc\\appdata\\local\\programs\\python\\python312\\lib\\site-packages (from fastai>=2.6->fastbook) (2.3.0)\n",
      "Requirement already satisfied: comm>=0.1.3 in c:\\users\\pc\\appdata\\local\\programs\\python\\python312\\lib\\site-packages (from ipywidgets<8->fastbook) (0.2.2)\n",
      "Requirement already satisfied: ipython-genutils~=0.2.0 in c:\\users\\pc\\appdata\\local\\programs\\python\\python312\\lib\\site-packages (from ipywidgets<8->fastbook) (0.2.0)\n",
      "Requirement already satisfied: traitlets>=4.3.1 in c:\\users\\pc\\appdata\\local\\programs\\python\\python312\\lib\\site-packages (from ipywidgets<8->fastbook) (5.14.2)\n",
      "Requirement already satisfied: widgetsnbextension~=3.6.6 in c:\\users\\pc\\appdata\\local\\programs\\python\\python312\\lib\\site-packages (from ipywidgets<8->fastbook) (3.6.6)\n",
      "Requirement already satisfied: ipython>=4.0.0 in c:\\users\\pc\\appdata\\local\\programs\\python\\python312\\lib\\site-packages (from ipywidgets<8->fastbook) (8.22.2)\n",
      "Requirement already satisfied: jupyterlab-widgets<3,>=1.0.0 in c:\\users\\pc\\appdata\\local\\programs\\python\\python312\\lib\\site-packages (from ipywidgets<8->fastbook) (1.1.7)\n",
      "Requirement already satisfied: filelock in c:\\users\\pc\\appdata\\local\\programs\\python\\python312\\lib\\site-packages (from datasets->fastbook) (3.14.0)\n",
      "Requirement already satisfied: numpy>=1.17 in c:\\users\\pc\\appdata\\local\\programs\\python\\python312\\lib\\site-packages (from datasets->fastbook) (1.26.4)\n",
      "Requirement already satisfied: pyarrow>=12.0.0 in c:\\users\\pc\\appdata\\local\\programs\\python\\python312\\lib\\site-packages (from datasets->fastbook) (16.1.0)\n",
      "Requirement already satisfied: pyarrow-hotfix in c:\\users\\pc\\appdata\\local\\programs\\python\\python312\\lib\\site-packages (from datasets->fastbook) (0.6)\n",
      "Requirement already satisfied: dill<0.3.9,>=0.3.0 in c:\\users\\pc\\appdata\\local\\programs\\python\\python312\\lib\\site-packages (from datasets->fastbook) (0.3.8)\n",
      "Requirement already satisfied: tqdm>=4.62.1 in c:\\users\\pc\\appdata\\local\\programs\\python\\python312\\lib\\site-packages (from datasets->fastbook) (4.66.4)\n",
      "Requirement already satisfied: xxhash in c:\\users\\pc\\appdata\\local\\programs\\python\\python312\\lib\\site-packages (from datasets->fastbook) (3.4.1)\n",
      "Requirement already satisfied: multiprocess in c:\\users\\pc\\appdata\\local\\programs\\python\\python312\\lib\\site-packages (from datasets->fastbook) (0.70.16)\n",
      "Requirement already satisfied: fsspec[http]<=2024.3.1,>=2023.1.0 in c:\\users\\pc\\appdata\\local\\programs\\python\\python312\\lib\\site-packages (from datasets->fastbook) (2024.3.1)\n",
      "Requirement already satisfied: aiohttp in c:\\users\\pc\\appdata\\local\\programs\\python\\python312\\lib\\site-packages (from datasets->fastbook) (3.9.5)\n",
      "Requirement already satisfied: huggingface-hub>=0.21.2 in c:\\users\\pc\\appdata\\local\\programs\\python\\python312\\lib\\site-packages (from datasets->fastbook) (0.23.2)\n",
      "Requirement already satisfied: charset-normalizer<4,>=2 in c:\\users\\pc\\appdata\\local\\programs\\python\\python312\\lib\\site-packages (from requests->fastbook) (3.3.2)\n",
      "Requirement already satisfied: idna<4,>=2.5 in c:\\users\\pc\\appdata\\local\\programs\\python\\python312\\lib\\site-packages (from requests->fastbook) (3.6)\n",
      "Requirement already satisfied: urllib3<3,>=1.21.1 in c:\\users\\pc\\appdata\\local\\programs\\python\\python312\\lib\\site-packages (from requests->fastbook) (2.2.1)\n",
      "Requirement already satisfied: certifi>=2017.4.17 in c:\\users\\pc\\appdata\\local\\programs\\python\\python312\\lib\\site-packages (from requests->fastbook) (2024.2.2)\n",
      "Requirement already satisfied: python-dateutil>=2.8.2 in c:\\users\\pc\\appdata\\local\\programs\\python\\python312\\lib\\site-packages (from pandas->fastbook) (2.9.0.post0)\n",
      "Requirement already satisfied: pytz>=2020.1 in c:\\users\\pc\\appdata\\local\\programs\\python\\python312\\lib\\site-packages (from pandas->fastbook) (2024.1)\n",
      "Requirement already satisfied: tzdata>=2022.7 in c:\\users\\pc\\appdata\\local\\programs\\python\\python312\\lib\\site-packages (from pandas->fastbook) (2024.1)\n",
      "Requirement already satisfied: regex!=2019.12.17 in c:\\users\\pc\\appdata\\local\\programs\\python\\python312\\lib\\site-packages (from transformers->fastbook) (2024.5.15)\n",
      "Requirement already satisfied: tokenizers<0.20,>=0.19 in c:\\users\\pc\\appdata\\local\\programs\\python\\python312\\lib\\site-packages (from transformers->fastbook) (0.19.1)\n",
      "Requirement already satisfied: safetensors>=0.4.1 in c:\\users\\pc\\appdata\\local\\programs\\python\\python312\\lib\\site-packages (from transformers->fastbook) (0.4.3)\n",
      "Requirement already satisfied: aiosignal>=1.1.2 in c:\\users\\pc\\appdata\\local\\programs\\python\\python312\\lib\\site-packages (from aiohttp->datasets->fastbook) (1.3.1)\n",
      "Requirement already satisfied: attrs>=17.3.0 in c:\\users\\pc\\appdata\\local\\programs\\python\\python312\\lib\\site-packages (from aiohttp->datasets->fastbook) (23.2.0)\n",
      "Requirement already satisfied: frozenlist>=1.1.1 in c:\\users\\pc\\appdata\\local\\programs\\python\\python312\\lib\\site-packages (from aiohttp->datasets->fastbook) (1.4.1)\n",
      "Requirement already satisfied: multidict<7.0,>=4.5 in c:\\users\\pc\\appdata\\local\\programs\\python\\python312\\lib\\site-packages (from aiohttp->datasets->fastbook) (6.0.5)\n",
      "Requirement already satisfied: yarl<2.0,>=1.0 in c:\\users\\pc\\appdata\\local\\programs\\python\\python312\\lib\\site-packages (from aiohttp->datasets->fastbook) (1.9.4)\n",
      "Requirement already satisfied: typing-extensions>=3.7.4.3 in c:\\users\\pc\\appdata\\local\\programs\\python\\python312\\lib\\site-packages (from huggingface-hub>=0.21.2->datasets->fastbook) (4.12.1)\n",
      "Requirement already satisfied: decorator in c:\\users\\pc\\appdata\\local\\programs\\python\\python312\\lib\\site-packages (from ipython>=4.0.0->ipywidgets<8->fastbook) (5.1.1)\n",
      "Requirement already satisfied: jedi>=0.16 in c:\\users\\pc\\appdata\\local\\programs\\python\\python312\\lib\\site-packages (from ipython>=4.0.0->ipywidgets<8->fastbook) (0.19.1)\n",
      "Requirement already satisfied: matplotlib-inline in c:\\users\\pc\\appdata\\local\\programs\\python\\python312\\lib\\site-packages (from ipython>=4.0.0->ipywidgets<8->fastbook) (0.1.6)\n",
      "Requirement already satisfied: prompt-toolkit<3.1.0,>=3.0.41 in c:\\users\\pc\\appdata\\local\\programs\\python\\python312\\lib\\site-packages (from ipython>=4.0.0->ipywidgets<8->fastbook) (3.0.43)\n",
      "Requirement already satisfied: pygments>=2.4.0 in c:\\users\\pc\\appdata\\local\\programs\\python\\python312\\lib\\site-packages (from ipython>=4.0.0->ipywidgets<8->fastbook) (2.17.2)\n",
      "Requirement already satisfied: stack-data in c:\\users\\pc\\appdata\\local\\programs\\python\\python312\\lib\\site-packages (from ipython>=4.0.0->ipywidgets<8->fastbook) (0.6.3)\n",
      "Requirement already satisfied: colorama in c:\\users\\pc\\appdata\\local\\programs\\python\\python312\\lib\\site-packages (from ipython>=4.0.0->ipywidgets<8->fastbook) (0.4.6)\n",
      "Requirement already satisfied: six>=1.5 in c:\\users\\pc\\appdata\\local\\programs\\python\\python312\\lib\\site-packages (from python-dateutil>=2.8.2->pandas->fastbook) (1.16.0)\n",
      "Requirement already satisfied: spacy-legacy<3.1.0,>=3.0.11 in c:\\users\\pc\\appdata\\local\\programs\\python\\python312\\lib\\site-packages (from spacy<4->fastai>=2.6->fastbook) (3.0.12)\n",
      "Requirement already satisfied: spacy-loggers<2.0.0,>=1.0.0 in c:\\users\\pc\\appdata\\local\\programs\\python\\python312\\lib\\site-packages (from spacy<4->fastai>=2.6->fastbook) (1.0.5)\n",
      "Requirement already satisfied: murmurhash<1.1.0,>=0.28.0 in c:\\users\\pc\\appdata\\local\\programs\\python\\python312\\lib\\site-packages (from spacy<4->fastai>=2.6->fastbook) (1.0.10)\n",
      "Requirement already satisfied: cymem<2.1.0,>=2.0.2 in c:\\users\\pc\\appdata\\local\\programs\\python\\python312\\lib\\site-packages (from spacy<4->fastai>=2.6->fastbook) (2.0.8)\n",
      "Requirement already satisfied: preshed<3.1.0,>=3.0.2 in c:\\users\\pc\\appdata\\local\\programs\\python\\python312\\lib\\site-packages (from spacy<4->fastai>=2.6->fastbook) (3.0.9)\n",
      "Requirement already satisfied: thinc<8.3.0,>=8.2.2 in c:\\users\\pc\\appdata\\local\\programs\\python\\python312\\lib\\site-packages (from spacy<4->fastai>=2.6->fastbook) (8.2.4)\n",
      "Requirement already satisfied: wasabi<1.2.0,>=0.9.1 in c:\\users\\pc\\appdata\\local\\programs\\python\\python312\\lib\\site-packages (from spacy<4->fastai>=2.6->fastbook) (1.1.3)\n",
      "Requirement already satisfied: srsly<3.0.0,>=2.4.3 in c:\\users\\pc\\appdata\\local\\programs\\python\\python312\\lib\\site-packages (from spacy<4->fastai>=2.6->fastbook) (2.4.8)\n",
      "Requirement already satisfied: catalogue<2.1.0,>=2.0.6 in c:\\users\\pc\\appdata\\local\\programs\\python\\python312\\lib\\site-packages (from spacy<4->fastai>=2.6->fastbook) (2.0.10)\n",
      "Requirement already satisfied: weasel<0.4.0,>=0.1.0 in c:\\users\\pc\\appdata\\local\\programs\\python\\python312\\lib\\site-packages (from spacy<4->fastai>=2.6->fastbook) (0.3.4)\n",
      "Requirement already satisfied: typer<0.10.0,>=0.3.0 in c:\\users\\pc\\appdata\\local\\programs\\python\\python312\\lib\\site-packages (from spacy<4->fastai>=2.6->fastbook) (0.9.4)\n",
      "Requirement already satisfied: smart-open<7.0.0,>=5.2.1 in c:\\users\\pc\\appdata\\local\\programs\\python\\python312\\lib\\site-packages (from spacy<4->fastai>=2.6->fastbook) (6.4.0)\n",
      "Requirement already satisfied: pydantic!=1.8,!=1.8.1,<3.0.0,>=1.7.4 in c:\\users\\pc\\appdata\\local\\programs\\python\\python312\\lib\\site-packages (from spacy<4->fastai>=2.6->fastbook) (2.7.3)\n",
      "Requirement already satisfied: jinja2 in c:\\users\\pc\\appdata\\local\\programs\\python\\python312\\lib\\site-packages (from spacy<4->fastai>=2.6->fastbook) (3.1.3)\n",
      "Requirement already satisfied: setuptools in c:\\users\\pc\\appdata\\local\\programs\\python\\python312\\lib\\site-packages (from spacy<4->fastai>=2.6->fastbook) (70.0.0)\n",
      "Requirement already satisfied: langcodes<4.0.0,>=3.2.0 in c:\\users\\pc\\appdata\\local\\programs\\python\\python312\\lib\\site-packages (from spacy<4->fastai>=2.6->fastbook) (3.4.0)\n",
      "Requirement already satisfied: sympy in c:\\users\\pc\\appdata\\local\\programs\\python\\python312\\lib\\site-packages (from torch<2.4,>=1.10->fastai>=2.6->fastbook) (1.12.1)\n",
      "Requirement already satisfied: networkx in c:\\users\\pc\\appdata\\local\\programs\\python\\python312\\lib\\site-packages (from torch<2.4,>=1.10->fastai>=2.6->fastbook) (3.3)\n",
      "Requirement already satisfied: mkl<=2021.4.0,>=2021.1.1 in c:\\users\\pc\\appdata\\local\\programs\\python\\python312\\lib\\site-packages (from torch<2.4,>=1.10->fastai>=2.6->fastbook) (2021.4.0)\n",
      "Requirement already satisfied: notebook>=4.4.1 in c:\\users\\pc\\appdata\\local\\programs\\python\\python312\\lib\\site-packages (from widgetsnbextension~=3.6.6->ipywidgets<8->fastbook) (7.1.2)\n",
      "Requirement already satisfied: contourpy>=1.0.1 in c:\\users\\pc\\appdata\\local\\programs\\python\\python312\\lib\\site-packages (from matplotlib->fastai>=2.6->fastbook) (1.2.1)\n",
      "Requirement already satisfied: cycler>=0.10 in c:\\users\\pc\\appdata\\local\\programs\\python\\python312\\lib\\site-packages (from matplotlib->fastai>=2.6->fastbook) (0.12.1)\n",
      "Requirement already satisfied: fonttools>=4.22.0 in c:\\users\\pc\\appdata\\local\\programs\\python\\python312\\lib\\site-packages (from matplotlib->fastai>=2.6->fastbook) (4.51.0)\n",
      "Requirement already satisfied: kiwisolver>=1.3.1 in c:\\users\\pc\\appdata\\local\\programs\\python\\python312\\lib\\site-packages (from matplotlib->fastai>=2.6->fastbook) (1.4.5)\n",
      "Requirement already satisfied: pyparsing>=2.3.1 in c:\\users\\pc\\appdata\\local\\programs\\python\\python312\\lib\\site-packages (from matplotlib->fastai>=2.6->fastbook) (3.1.2)\n",
      "Requirement already satisfied: joblib>=1.2.0 in c:\\users\\pc\\appdata\\local\\programs\\python\\python312\\lib\\site-packages (from scikit-learn->fastai>=2.6->fastbook) (1.4.2)\n",
      "Requirement already satisfied: threadpoolctl>=3.1.0 in c:\\users\\pc\\appdata\\local\\programs\\python\\python312\\lib\\site-packages (from scikit-learn->fastai>=2.6->fastbook) (3.5.0)\n",
      "Requirement already satisfied: parso<0.9.0,>=0.8.3 in c:\\users\\pc\\appdata\\local\\programs\\python\\python312\\lib\\site-packages (from jedi>=0.16->ipython>=4.0.0->ipywidgets<8->fastbook) (0.8.3)\n",
      "Requirement already satisfied: language-data>=1.2 in c:\\users\\pc\\appdata\\local\\programs\\python\\python312\\lib\\site-packages (from langcodes<4.0.0,>=3.2.0->spacy<4->fastai>=2.6->fastbook) (1.2.0)\n",
      "Requirement already satisfied: intel-openmp==2021.* in c:\\users\\pc\\appdata\\local\\programs\\python\\python312\\lib\\site-packages (from mkl<=2021.4.0,>=2021.1.1->torch<2.4,>=1.10->fastai>=2.6->fastbook) (2021.4.0)\n",
      "Requirement already satisfied: tbb==2021.* in c:\\users\\pc\\appdata\\local\\programs\\python\\python312\\lib\\site-packages (from mkl<=2021.4.0,>=2021.1.1->torch<2.4,>=1.10->fastai>=2.6->fastbook) (2021.12.0)\n",
      "Requirement already satisfied: jupyter-server<3,>=2.4.0 in c:\\users\\pc\\appdata\\local\\programs\\python\\python312\\lib\\site-packages (from notebook>=4.4.1->widgetsnbextension~=3.6.6->ipywidgets<8->fastbook) (2.13.0)\n",
      "Requirement already satisfied: jupyterlab-server<3,>=2.22.1 in c:\\users\\pc\\appdata\\local\\programs\\python\\python312\\lib\\site-packages (from notebook>=4.4.1->widgetsnbextension~=3.6.6->ipywidgets<8->fastbook) (2.25.4)\n",
      "Requirement already satisfied: jupyterlab<4.2,>=4.1.1 in c:\\users\\pc\\appdata\\local\\programs\\python\\python312\\lib\\site-packages (from notebook>=4.4.1->widgetsnbextension~=3.6.6->ipywidgets<8->fastbook) (4.1.5)\n",
      "Requirement already satisfied: notebook-shim<0.3,>=0.2 in c:\\users\\pc\\appdata\\local\\programs\\python\\python312\\lib\\site-packages (from notebook>=4.4.1->widgetsnbextension~=3.6.6->ipywidgets<8->fastbook) (0.2.4)\n",
      "Requirement already satisfied: tornado>=6.2.0 in c:\\users\\pc\\appdata\\local\\programs\\python\\python312\\lib\\site-packages (from notebook>=4.4.1->widgetsnbextension~=3.6.6->ipywidgets<8->fastbook) (6.4)\n",
      "Requirement already satisfied: wcwidth in c:\\users\\pc\\appdata\\local\\programs\\python\\python312\\lib\\site-packages (from prompt-toolkit<3.1.0,>=3.0.41->ipython>=4.0.0->ipywidgets<8->fastbook) (0.2.13)\n",
      "Requirement already satisfied: annotated-types>=0.4.0 in c:\\users\\pc\\appdata\\local\\programs\\python\\python312\\lib\\site-packages (from pydantic!=1.8,!=1.8.1,<3.0.0,>=1.7.4->spacy<4->fastai>=2.6->fastbook) (0.7.0)\n",
      "Requirement already satisfied: pydantic-core==2.18.4 in c:\\users\\pc\\appdata\\local\\programs\\python\\python312\\lib\\site-packages (from pydantic!=1.8,!=1.8.1,<3.0.0,>=1.7.4->spacy<4->fastai>=2.6->fastbook) (2.18.4)\n",
      "Requirement already satisfied: blis<0.8.0,>=0.7.8 in c:\\users\\pc\\appdata\\local\\programs\\python\\python312\\lib\\site-packages (from thinc<8.3.0,>=8.2.2->spacy<4->fastai>=2.6->fastbook) (0.7.11)\n",
      "Requirement already satisfied: confection<1.0.0,>=0.0.1 in c:\\users\\pc\\appdata\\local\\programs\\python\\python312\\lib\\site-packages (from thinc<8.3.0,>=8.2.2->spacy<4->fastai>=2.6->fastbook) (0.1.5)\n",
      "Requirement already satisfied: click<9.0.0,>=7.1.1 in c:\\users\\pc\\appdata\\local\\programs\\python\\python312\\lib\\site-packages (from typer<0.10.0,>=0.3.0->spacy<4->fastai>=2.6->fastbook) (8.1.7)\n",
      "Requirement already satisfied: cloudpathlib<0.17.0,>=0.7.0 in c:\\users\\pc\\appdata\\local\\programs\\python\\python312\\lib\\site-packages (from weasel<0.4.0,>=0.1.0->spacy<4->fastai>=2.6->fastbook) (0.16.0)\n",
      "Requirement already satisfied: MarkupSafe>=2.0 in c:\\users\\pc\\appdata\\local\\programs\\python\\python312\\lib\\site-packages (from jinja2->spacy<4->fastai>=2.6->fastbook) (2.1.5)\n",
      "Requirement already satisfied: executing>=1.2.0 in c:\\users\\pc\\appdata\\local\\programs\\python\\python312\\lib\\site-packages (from stack-data->ipython>=4.0.0->ipywidgets<8->fastbook) (2.0.1)\n",
      "Requirement already satisfied: asttokens>=2.1.0 in c:\\users\\pc\\appdata\\local\\programs\\python\\python312\\lib\\site-packages (from stack-data->ipython>=4.0.0->ipywidgets<8->fastbook) (2.4.1)\n",
      "Requirement already satisfied: pure-eval in c:\\users\\pc\\appdata\\local\\programs\\python\\python312\\lib\\site-packages (from stack-data->ipython>=4.0.0->ipywidgets<8->fastbook) (0.2.2)\n",
      "Requirement already satisfied: mpmath<1.4.0,>=1.1.0 in c:\\users\\pc\\appdata\\local\\programs\\python\\python312\\lib\\site-packages (from sympy->torch<2.4,>=1.10->fastai>=2.6->fastbook) (1.3.0)\n",
      "Requirement already satisfied: anyio>=3.1.0 in c:\\users\\pc\\appdata\\local\\programs\\python\\python312\\lib\\site-packages (from jupyter-server<3,>=2.4.0->notebook>=4.4.1->widgetsnbextension~=3.6.6->ipywidgets<8->fastbook) (4.3.0)\n",
      "Requirement already satisfied: argon2-cffi in c:\\users\\pc\\appdata\\local\\programs\\python\\python312\\lib\\site-packages (from jupyter-server<3,>=2.4.0->notebook>=4.4.1->widgetsnbextension~=3.6.6->ipywidgets<8->fastbook) (23.1.0)\n",
      "Requirement already satisfied: jupyter-client>=7.4.4 in c:\\users\\pc\\appdata\\local\\programs\\python\\python312\\lib\\site-packages (from jupyter-server<3,>=2.4.0->notebook>=4.4.1->widgetsnbextension~=3.6.6->ipywidgets<8->fastbook) (8.6.1)\n",
      "Requirement already satisfied: jupyter-core!=5.0.*,>=4.12 in c:\\users\\pc\\appdata\\local\\programs\\python\\python312\\lib\\site-packages (from jupyter-server<3,>=2.4.0->notebook>=4.4.1->widgetsnbextension~=3.6.6->ipywidgets<8->fastbook) (5.7.2)\n",
      "Requirement already satisfied: jupyter-events>=0.9.0 in c:\\users\\pc\\appdata\\local\\programs\\python\\python312\\lib\\site-packages (from jupyter-server<3,>=2.4.0->notebook>=4.4.1->widgetsnbextension~=3.6.6->ipywidgets<8->fastbook) (0.10.0)\n",
      "Requirement already satisfied: jupyter-server-terminals in c:\\users\\pc\\appdata\\local\\programs\\python\\python312\\lib\\site-packages (from jupyter-server<3,>=2.4.0->notebook>=4.4.1->widgetsnbextension~=3.6.6->ipywidgets<8->fastbook) (0.5.3)\n",
      "Requirement already satisfied: nbconvert>=6.4.4 in c:\\users\\pc\\appdata\\local\\programs\\python\\python312\\lib\\site-packages (from jupyter-server<3,>=2.4.0->notebook>=4.4.1->widgetsnbextension~=3.6.6->ipywidgets<8->fastbook) (7.16.3)\n",
      "Requirement already satisfied: nbformat>=5.3.0 in c:\\users\\pc\\appdata\\local\\programs\\python\\python312\\lib\\site-packages (from jupyter-server<3,>=2.4.0->notebook>=4.4.1->widgetsnbextension~=3.6.6->ipywidgets<8->fastbook) (5.10.3)\n",
      "Requirement already satisfied: overrides in c:\\users\\pc\\appdata\\local\\programs\\python\\python312\\lib\\site-packages (from jupyter-server<3,>=2.4.0->notebook>=4.4.1->widgetsnbextension~=3.6.6->ipywidgets<8->fastbook) (7.7.0)\n",
      "Requirement already satisfied: prometheus-client in c:\\users\\pc\\appdata\\local\\programs\\python\\python312\\lib\\site-packages (from jupyter-server<3,>=2.4.0->notebook>=4.4.1->widgetsnbextension~=3.6.6->ipywidgets<8->fastbook) (0.20.0)\n",
      "Requirement already satisfied: pywinpty in c:\\users\\pc\\appdata\\local\\programs\\python\\python312\\lib\\site-packages (from jupyter-server<3,>=2.4.0->notebook>=4.4.1->widgetsnbextension~=3.6.6->ipywidgets<8->fastbook) (2.0.13)\n",
      "Requirement already satisfied: pyzmq>=24 in c:\\users\\pc\\appdata\\local\\programs\\python\\python312\\lib\\site-packages (from jupyter-server<3,>=2.4.0->notebook>=4.4.1->widgetsnbextension~=3.6.6->ipywidgets<8->fastbook) (25.1.2)\n",
      "Requirement already satisfied: send2trash>=1.8.2 in c:\\users\\pc\\appdata\\local\\programs\\python\\python312\\lib\\site-packages (from jupyter-server<3,>=2.4.0->notebook>=4.4.1->widgetsnbextension~=3.6.6->ipywidgets<8->fastbook) (1.8.2)\n",
      "Requirement already satisfied: terminado>=0.8.3 in c:\\users\\pc\\appdata\\local\\programs\\python\\python312\\lib\\site-packages (from jupyter-server<3,>=2.4.0->notebook>=4.4.1->widgetsnbextension~=3.6.6->ipywidgets<8->fastbook) (0.18.1)\n",
      "Requirement already satisfied: websocket-client in c:\\users\\pc\\appdata\\local\\programs\\python\\python312\\lib\\site-packages (from jupyter-server<3,>=2.4.0->notebook>=4.4.1->widgetsnbextension~=3.6.6->ipywidgets<8->fastbook) (1.7.0)\n",
      "Requirement already satisfied: async-lru>=1.0.0 in c:\\users\\pc\\appdata\\local\\programs\\python\\python312\\lib\\site-packages (from jupyterlab<4.2,>=4.1.1->notebook>=4.4.1->widgetsnbextension~=3.6.6->ipywidgets<8->fastbook) (2.0.4)\n",
      "Requirement already satisfied: httpx>=0.25.0 in c:\\users\\pc\\appdata\\local\\programs\\python\\python312\\lib\\site-packages (from jupyterlab<4.2,>=4.1.1->notebook>=4.4.1->widgetsnbextension~=3.6.6->ipywidgets<8->fastbook) (0.27.0)\n",
      "Requirement already satisfied: ipykernel in c:\\users\\pc\\appdata\\local\\programs\\python\\python312\\lib\\site-packages (from jupyterlab<4.2,>=4.1.1->notebook>=4.4.1->widgetsnbextension~=3.6.6->ipywidgets<8->fastbook) (6.29.4)\n",
      "Requirement already satisfied: jupyter-lsp>=2.0.0 in c:\\users\\pc\\appdata\\local\\programs\\python\\python312\\lib\\site-packages (from jupyterlab<4.2,>=4.1.1->notebook>=4.4.1->widgetsnbextension~=3.6.6->ipywidgets<8->fastbook) (2.2.4)\n",
      "Requirement already satisfied: babel>=2.10 in c:\\users\\pc\\appdata\\local\\programs\\python\\python312\\lib\\site-packages (from jupyterlab-server<3,>=2.22.1->notebook>=4.4.1->widgetsnbextension~=3.6.6->ipywidgets<8->fastbook) (2.14.0)\n",
      "Requirement already satisfied: json5>=0.9.0 in c:\\users\\pc\\appdata\\local\\programs\\python\\python312\\lib\\site-packages (from jupyterlab-server<3,>=2.22.1->notebook>=4.4.1->widgetsnbextension~=3.6.6->ipywidgets<8->fastbook) (0.9.24)\n",
      "Requirement already satisfied: jsonschema>=4.18.0 in c:\\users\\pc\\appdata\\local\\programs\\python\\python312\\lib\\site-packages (from jupyterlab-server<3,>=2.22.1->notebook>=4.4.1->widgetsnbextension~=3.6.6->ipywidgets<8->fastbook) (4.21.1)\n",
      "Requirement already satisfied: marisa-trie>=0.7.7 in c:\\users\\pc\\appdata\\local\\programs\\python\\python312\\lib\\site-packages (from language-data>=1.2->langcodes<4.0.0,>=3.2.0->spacy<4->fastai>=2.6->fastbook) (1.1.1)\n",
      "Requirement already satisfied: sniffio>=1.1 in c:\\users\\pc\\appdata\\local\\programs\\python\\python312\\lib\\site-packages (from anyio>=3.1.0->jupyter-server<3,>=2.4.0->notebook>=4.4.1->widgetsnbextension~=3.6.6->ipywidgets<8->fastbook) (1.3.1)\n",
      "Requirement already satisfied: httpcore==1.* in c:\\users\\pc\\appdata\\local\\programs\\python\\python312\\lib\\site-packages (from httpx>=0.25.0->jupyterlab<4.2,>=4.1.1->notebook>=4.4.1->widgetsnbextension~=3.6.6->ipywidgets<8->fastbook) (1.0.5)\n",
      "Requirement already satisfied: h11<0.15,>=0.13 in c:\\users\\pc\\appdata\\local\\programs\\python\\python312\\lib\\site-packages (from httpcore==1.*->httpx>=0.25.0->jupyterlab<4.2,>=4.1.1->notebook>=4.4.1->widgetsnbextension~=3.6.6->ipywidgets<8->fastbook) (0.14.0)\n",
      "Requirement already satisfied: jsonschema-specifications>=2023.03.6 in c:\\users\\pc\\appdata\\local\\programs\\python\\python312\\lib\\site-packages (from jsonschema>=4.18.0->jupyterlab-server<3,>=2.22.1->notebook>=4.4.1->widgetsnbextension~=3.6.6->ipywidgets<8->fastbook) (2023.12.1)\n",
      "Requirement already satisfied: referencing>=0.28.4 in c:\\users\\pc\\appdata\\local\\programs\\python\\python312\\lib\\site-packages (from jsonschema>=4.18.0->jupyterlab-server<3,>=2.22.1->notebook>=4.4.1->widgetsnbextension~=3.6.6->ipywidgets<8->fastbook) (0.34.0)\n",
      "Requirement already satisfied: rpds-py>=0.7.1 in c:\\users\\pc\\appdata\\local\\programs\\python\\python312\\lib\\site-packages (from jsonschema>=4.18.0->jupyterlab-server<3,>=2.22.1->notebook>=4.4.1->widgetsnbextension~=3.6.6->ipywidgets<8->fastbook) (0.18.0)\n",
      "Requirement already satisfied: platformdirs>=2.5 in c:\\users\\pc\\appdata\\local\\programs\\python\\python312\\lib\\site-packages (from jupyter-core!=5.0.*,>=4.12->jupyter-server<3,>=2.4.0->notebook>=4.4.1->widgetsnbextension~=3.6.6->ipywidgets<8->fastbook) (4.2.0)\n",
      "Requirement already satisfied: pywin32>=300 in c:\\users\\pc\\appdata\\local\\programs\\python\\python312\\lib\\site-packages (from jupyter-core!=5.0.*,>=4.12->jupyter-server<3,>=2.4.0->notebook>=4.4.1->widgetsnbextension~=3.6.6->ipywidgets<8->fastbook) (306)\n",
      "Requirement already satisfied: python-json-logger>=2.0.4 in c:\\users\\pc\\appdata\\local\\programs\\python\\python312\\lib\\site-packages (from jupyter-events>=0.9.0->jupyter-server<3,>=2.4.0->notebook>=4.4.1->widgetsnbextension~=3.6.6->ipywidgets<8->fastbook) (2.0.7)\n",
      "Requirement already satisfied: rfc3339-validator in c:\\users\\pc\\appdata\\local\\programs\\python\\python312\\lib\\site-packages (from jupyter-events>=0.9.0->jupyter-server<3,>=2.4.0->notebook>=4.4.1->widgetsnbextension~=3.6.6->ipywidgets<8->fastbook) (0.1.4)\n",
      "Requirement already satisfied: rfc3986-validator>=0.1.1 in c:\\users\\pc\\appdata\\local\\programs\\python\\python312\\lib\\site-packages (from jupyter-events>=0.9.0->jupyter-server<3,>=2.4.0->notebook>=4.4.1->widgetsnbextension~=3.6.6->ipywidgets<8->fastbook) (0.1.1)\n",
      "Requirement already satisfied: beautifulsoup4 in c:\\users\\pc\\appdata\\local\\programs\\python\\python312\\lib\\site-packages (from nbconvert>=6.4.4->jupyter-server<3,>=2.4.0->notebook>=4.4.1->widgetsnbextension~=3.6.6->ipywidgets<8->fastbook) (4.12.3)\n",
      "Requirement already satisfied: bleach!=5.0.0 in c:\\users\\pc\\appdata\\local\\programs\\python\\python312\\lib\\site-packages (from nbconvert>=6.4.4->jupyter-server<3,>=2.4.0->notebook>=4.4.1->widgetsnbextension~=3.6.6->ipywidgets<8->fastbook) (6.1.0)\n",
      "Requirement already satisfied: defusedxml in c:\\users\\pc\\appdata\\local\\programs\\python\\python312\\lib\\site-packages (from nbconvert>=6.4.4->jupyter-server<3,>=2.4.0->notebook>=4.4.1->widgetsnbextension~=3.6.6->ipywidgets<8->fastbook) (0.7.1)\n",
      "Requirement already satisfied: jupyterlab-pygments in c:\\users\\pc\\appdata\\local\\programs\\python\\python312\\lib\\site-packages (from nbconvert>=6.4.4->jupyter-server<3,>=2.4.0->notebook>=4.4.1->widgetsnbextension~=3.6.6->ipywidgets<8->fastbook) (0.3.0)\n",
      "Requirement already satisfied: mistune<4,>=2.0.3 in c:\\users\\pc\\appdata\\local\\programs\\python\\python312\\lib\\site-packages (from nbconvert>=6.4.4->jupyter-server<3,>=2.4.0->notebook>=4.4.1->widgetsnbextension~=3.6.6->ipywidgets<8->fastbook) (3.0.2)\n",
      "Requirement already satisfied: nbclient>=0.5.0 in c:\\users\\pc\\appdata\\local\\programs\\python\\python312\\lib\\site-packages (from nbconvert>=6.4.4->jupyter-server<3,>=2.4.0->notebook>=4.4.1->widgetsnbextension~=3.6.6->ipywidgets<8->fastbook) (0.10.0)\n",
      "Requirement already satisfied: pandocfilters>=1.4.1 in c:\\users\\pc\\appdata\\local\\programs\\python\\python312\\lib\\site-packages (from nbconvert>=6.4.4->jupyter-server<3,>=2.4.0->notebook>=4.4.1->widgetsnbextension~=3.6.6->ipywidgets<8->fastbook) (1.5.1)\n",
      "Requirement already satisfied: tinycss2 in c:\\users\\pc\\appdata\\local\\programs\\python\\python312\\lib\\site-packages (from nbconvert>=6.4.4->jupyter-server<3,>=2.4.0->notebook>=4.4.1->widgetsnbextension~=3.6.6->ipywidgets<8->fastbook) (1.2.1)\n",
      "Requirement already satisfied: fastjsonschema in c:\\users\\pc\\appdata\\local\\programs\\python\\python312\\lib\\site-packages (from nbformat>=5.3.0->jupyter-server<3,>=2.4.0->notebook>=4.4.1->widgetsnbextension~=3.6.6->ipywidgets<8->fastbook) (2.19.1)\n",
      "Requirement already satisfied: argon2-cffi-bindings in c:\\users\\pc\\appdata\\local\\programs\\python\\python312\\lib\\site-packages (from argon2-cffi->jupyter-server<3,>=2.4.0->notebook>=4.4.1->widgetsnbextension~=3.6.6->ipywidgets<8->fastbook) (21.2.0)\n",
      "Requirement already satisfied: debugpy>=1.6.5 in c:\\users\\pc\\appdata\\local\\programs\\python\\python312\\lib\\site-packages (from ipykernel->jupyterlab<4.2,>=4.1.1->notebook>=4.4.1->widgetsnbextension~=3.6.6->ipywidgets<8->fastbook) (1.8.1)\n",
      "Requirement already satisfied: nest-asyncio in c:\\users\\pc\\appdata\\local\\programs\\python\\python312\\lib\\site-packages (from ipykernel->jupyterlab<4.2,>=4.1.1->notebook>=4.4.1->widgetsnbextension~=3.6.6->ipywidgets<8->fastbook) (1.6.0)\n",
      "Requirement already satisfied: psutil in c:\\users\\pc\\appdata\\local\\programs\\python\\python312\\lib\\site-packages (from ipykernel->jupyterlab<4.2,>=4.1.1->notebook>=4.4.1->widgetsnbextension~=3.6.6->ipywidgets<8->fastbook) (5.9.8)\n",
      "Requirement already satisfied: webencodings in c:\\users\\pc\\appdata\\local\\programs\\python\\python312\\lib\\site-packages (from bleach!=5.0.0->nbconvert>=6.4.4->jupyter-server<3,>=2.4.0->notebook>=4.4.1->widgetsnbextension~=3.6.6->ipywidgets<8->fastbook) (0.5.1)\n",
      "Requirement already satisfied: fqdn in c:\\users\\pc\\appdata\\local\\programs\\python\\python312\\lib\\site-packages (from jsonschema>=4.18.0->jupyterlab-server<3,>=2.22.1->notebook>=4.4.1->widgetsnbextension~=3.6.6->ipywidgets<8->fastbook) (1.5.1)\n",
      "Requirement already satisfied: isoduration in c:\\users\\pc\\appdata\\local\\programs\\python\\python312\\lib\\site-packages (from jsonschema>=4.18.0->jupyterlab-server<3,>=2.22.1->notebook>=4.4.1->widgetsnbextension~=3.6.6->ipywidgets<8->fastbook) (20.11.0)\n",
      "Requirement already satisfied: jsonpointer>1.13 in c:\\users\\pc\\appdata\\local\\programs\\python\\python312\\lib\\site-packages (from jsonschema>=4.18.0->jupyterlab-server<3,>=2.22.1->notebook>=4.4.1->widgetsnbextension~=3.6.6->ipywidgets<8->fastbook) (2.4)\n",
      "Requirement already satisfied: uri-template in c:\\users\\pc\\appdata\\local\\programs\\python\\python312\\lib\\site-packages (from jsonschema>=4.18.0->jupyterlab-server<3,>=2.22.1->notebook>=4.4.1->widgetsnbextension~=3.6.6->ipywidgets<8->fastbook) (1.3.0)\n",
      "Requirement already satisfied: webcolors>=1.11 in c:\\users\\pc\\appdata\\local\\programs\\python\\python312\\lib\\site-packages (from jsonschema>=4.18.0->jupyterlab-server<3,>=2.22.1->notebook>=4.4.1->widgetsnbextension~=3.6.6->ipywidgets<8->fastbook) (1.13)\n",
      "Requirement already satisfied: cffi>=1.0.1 in c:\\users\\pc\\appdata\\local\\programs\\python\\python312\\lib\\site-packages (from argon2-cffi-bindings->argon2-cffi->jupyter-server<3,>=2.4.0->notebook>=4.4.1->widgetsnbextension~=3.6.6->ipywidgets<8->fastbook) (1.16.0)\n",
      "Requirement already satisfied: soupsieve>1.2 in c:\\users\\pc\\appdata\\local\\programs\\python\\python312\\lib\\site-packages (from beautifulsoup4->nbconvert>=6.4.4->jupyter-server<3,>=2.4.0->notebook>=4.4.1->widgetsnbextension~=3.6.6->ipywidgets<8->fastbook) (2.5)\n",
      "Requirement already satisfied: pycparser in c:\\users\\pc\\appdata\\local\\programs\\python\\python312\\lib\\site-packages (from cffi>=1.0.1->argon2-cffi-bindings->argon2-cffi->jupyter-server<3,>=2.4.0->notebook>=4.4.1->widgetsnbextension~=3.6.6->ipywidgets<8->fastbook) (2.21)\n",
      "Requirement already satisfied: arrow>=0.15.0 in c:\\users\\pc\\appdata\\local\\programs\\python\\python312\\lib\\site-packages (from isoduration->jsonschema>=4.18.0->jupyterlab-server<3,>=2.22.1->notebook>=4.4.1->widgetsnbextension~=3.6.6->ipywidgets<8->fastbook) (1.3.0)\n",
      "Requirement already satisfied: types-python-dateutil>=2.8.10 in c:\\users\\pc\\appdata\\local\\programs\\python\\python312\\lib\\site-packages (from arrow>=0.15.0->isoduration->jsonschema>=4.18.0->jupyterlab-server<3,>=2.22.1->notebook>=4.4.1->widgetsnbextension~=3.6.6->ipywidgets<8->fastbook) (2.9.0.20240316)\n"
     ]
    },
    {
     "name": "stderr",
     "output_type": "stream",
     "text": [
      "\n",
      "[notice] A new release of pip is available: 23.2.1 -> 24.0\n",
      "[notice] To update, run: python.exe -m pip install --upgrade pip\n"
     ]
    },
    {
     "name": "stdout",
     "output_type": "stream",
     "text": [
      "Requirement already satisfied: rggrader in c:\\users\\pc\\appdata\\local\\programs\\python\\python312\\lib\\site-packages (0.1.6)"
     ]
    },
    {
     "name": "stderr",
     "output_type": "stream",
     "text": [
      "\n",
      "[notice] A new release of pip is available: 23.2.1 -> 24.0\n",
      "[notice] To update, run: python.exe -m pip install --upgrade pip\n"
     ]
    },
    {
     "name": "stdout",
     "output_type": "stream",
     "text": [
      "\n",
      "Requirement already satisfied: requests in c:\\users\\pc\\appdata\\local\\programs\\python\\python312\\lib\\site-packages (from rggrader) (2.32.3)\n",
      "Requirement already satisfied: pandas in c:\\users\\pc\\appdata\\local\\programs\\python\\python312\\lib\\site-packages (from rggrader) (2.2.2)\n",
      "Requirement already satisfied: Pillow in c:\\users\\pc\\appdata\\local\\programs\\python\\python312\\lib\\site-packages (from rggrader) (10.3.0)\n",
      "Requirement already satisfied: numpy>=1.26.0 in c:\\users\\pc\\appdata\\local\\programs\\python\\python312\\lib\\site-packages (from pandas->rggrader) (1.26.4)\n",
      "Requirement already satisfied: python-dateutil>=2.8.2 in c:\\users\\pc\\appdata\\local\\programs\\python\\python312\\lib\\site-packages (from pandas->rggrader) (2.9.0.post0)\n",
      "Requirement already satisfied: pytz>=2020.1 in c:\\users\\pc\\appdata\\local\\programs\\python\\python312\\lib\\site-packages (from pandas->rggrader) (2024.1)\n",
      "Requirement already satisfied: tzdata>=2022.7 in c:\\users\\pc\\appdata\\local\\programs\\python\\python312\\lib\\site-packages (from pandas->rggrader) (2024.1)\n",
      "Requirement already satisfied: charset-normalizer<4,>=2 in c:\\users\\pc\\appdata\\local\\programs\\python\\python312\\lib\\site-packages (from requests->rggrader) (3.3.2)\n",
      "Requirement already satisfied: idna<4,>=2.5 in c:\\users\\pc\\appdata\\local\\programs\\python\\python312\\lib\\site-packages (from requests->rggrader) (3.6)\n",
      "Requirement already satisfied: urllib3<3,>=1.21.1 in c:\\users\\pc\\appdata\\local\\programs\\python\\python312\\lib\\site-packages (from requests->rggrader) (2.2.1)\n",
      "Requirement already satisfied: certifi>=2017.4.17 in c:\\users\\pc\\appdata\\local\\programs\\python\\python312\\lib\\site-packages (from requests->rggrader) (2024.2.2)\n",
      "Requirement already satisfied: six>=1.5 in c:\\users\\pc\\appdata\\local\\programs\\python\\python312\\lib\\site-packages (from python-dateutil>=2.8.2->pandas->rggrader) (1.16.0)\n"
     ]
    }
   ],
   "source": [
    "!pip3 install fastbook\n",
    "\n",
    "!pip3 install rggrader\n",
    "from rggrader import submit"
   ]
  },
  {
   "cell_type": "code",
   "execution_count": 4,
   "metadata": {},
   "outputs": [],
   "source": [
    "import numpy as np"
   ]
  },
  {
   "cell_type": "code",
   "execution_count": 1,
   "metadata": {},
   "outputs": [
    {
     "data": {
      "text/plain": [
       "4"
      ]
     },
     "execution_count": 1,
     "metadata": {},
     "output_type": "execute_result"
    }
   ],
   "source": [
    "1 + 3"
   ]
  },
  {
   "cell_type": "markdown",
   "metadata": {
    "id": "OVHDWZGkhWCa"
   },
   "source": [
    "\n",
    "## Task 1\n",
    "\n",
    "Given\n",
    "\n",
    "$$\n",
    "X = \\begin{bmatrix}\n",
    "a \\\\\n",
    "b \\\\\n",
    "c \\\\\n",
    "d \\\\\n",
    "e\n",
    "\\end{bmatrix}\n",
    "$$\n",
    "\n",
    "and\n",
    "\n",
    "$$\n",
    "M =\n",
    "\\begin{bmatrix}\n",
    "-2 & 3 & 3 & 3 & -4 \\\\\n",
    "0 & -4 & -1 & 1 & 2 \\\\\n",
    "1 & 5 & 4 & 2 & 0 \\\\\n",
    "-2 & 5 & -5 & 3 & 1 \\\\\n",
    "-3 & 2 & 4 & 3 & 4 \\\\\n",
    "\\end{bmatrix}\n",
    "$$\n",
    "\n",
    "and\n",
    "\n",
    "$$\n",
    "M \\cdot X =\n",
    " =\n",
    "\\begin{bmatrix}\n",
    "-33 \\\\\n",
    "9 \\\\\n",
    "-34 \\\\\n",
    "-38 \\\\\n",
    " -40\n",
    "\\end{bmatrix}\n",
    "$$\n",
    "\n",
    "What is the value of $a + b + c + d + e$?"
   ]
  },
  {
   "cell_type": "code",
   "execution_count": 8,
   "metadata": {
    "id": "-Dt1qCM9hWCa"
   },
   "outputs": [
    {
     "name": "stdout",
     "output_type": "stream",
     "text": [
      "The total is -9.999999999999996\n"
     ]
    },
    {
     "data": {
      "text/plain": [
       "'Assignment successfully submitted'"
      ]
     },
     "execution_count": 8,
     "metadata": {},
     "output_type": "execute_result"
    }
   ],
   "source": [
    "# You may add any code here to derive your variables\n",
    "# Please change this\n",
    "\n",
    "# Define the matrix M\n",
    "M = np.array([\n",
    "        [-2, 3, 3, 3, -4],\n",
    "        [0, -4, -1, 1, 2],\n",
    "        [1, 5, 4, 2, 0],\n",
    "        [-2, 5, -5, 3, 1],\n",
    "        [-3, 2, 4, 3, 4]\n",
    "    ])\n",
    "\n",
    "# Define the result vector\n",
    "result = np.array([-33, 9, -34, -38, -40])\n",
    "\n",
    "# Solve for X\n",
    "X = np.linalg.solve(M, result)\n",
    "\n",
    "# Extract the values of a, b, c, d, e\n",
    "a, b, c, d, e = X\n",
    "total = a + b + c + d + e\n",
    "\n",
    "print(f\"The total is {total}\")\n",
    "\n",
    "assignment_id = \"09-deep-learning-project\"\n",
    "question_id = \"q1_linear_algebra\"\n",
    "submit(student_id, name, assignment_id, str(total), question_id, drive_link)\n"
   ]
  },
  {
   "cell_type": "markdown",
   "metadata": {
    "id": "IFRVM1AThWCa"
   },
   "source": [
    "## Task 2\n",
    "\n",
    "What is the output of the following Neural Network?"
   ]
  },
  {
   "cell_type": "code",
   "execution_count": 13,
   "metadata": {
    "id": "yYuy7HdOhWCa",
    "outputId": "b616e53d-d0b6-44d6-fcb4-65a9f35b8305"
   },
   "outputs": [],
   "source": [
    "from fastbook import *\n",
    "\n",
    "\n",
    "# Draw neurons with multiple inputs and weights\n",
    "gv('''\n",
    "z_1[shape=box3d width=1 height=0.7 label=\"b = -2, ReLU\"];\n",
    "z_2[shape=box3d width=1 height=0.7 label=\"b = -6, ReLU\"];\n",
    "z_3[shape=box3d width=1 height=0.7 label=\"b = 4, ReLU\"];\n",
    "input_1[width=1 height=0.7 label=\"4\"];\n",
    "input_2[width=1 height=0.7 label=\"-3\"];\n",
    "input_1 -> z_1 [label=\"4\"]\n",
    "input_2 -> z_1 [label=\"2\"]\n",
    "input_1 -> z_2 [label=\"0\"]\n",
    "input_2 -> z_2 [label=\"-1\"]\n",
    "\n",
    "z_1 -> z_3 [label=\"2\"]\n",
    "z_2 -> z_3 [label=\"3\"]\n",
    "z_3 ->output\n",
    "\n",
    "\n",
    "''')\n"
   ]
  },
  {
   "cell_type": "code",
   "execution_count": 14,
   "metadata": {
    "id": "DjWysl61hWCb"
   },
   "outputs": [
    {
     "name": "stdout",
     "output_type": "stream",
     "text": [
      "The output is 50\n"
     ]
    },
    {
     "data": {
      "text/plain": [
       "'Assignment successfully submitted'"
      ]
     },
     "execution_count": 14,
     "metadata": {},
     "output_type": "execute_result"
    }
   ],
   "source": [
    "# You may add any code here to derive your variables\n",
    "# Please change this\n",
    "def relu(x):\n",
    "    return max(0, x)\n",
    "\n",
    "# Input Values\n",
    "input_1 = 4\n",
    "input_2 = -3\n",
    "\n",
    "# First Hidden Layer computations\n",
    "z_1 = relu(input_1 * 4 + input_2 * (-3) - 2)\n",
    "z_2 = relu(input_1 * 0 + input_2 * (-1) - 6)\n",
    "\n",
    "# Second Hidden Layer computations\n",
    "z_3 = relu(z_1 * 2 + z_2 * 3 + 4)\n",
    "\n",
    "# Output Layer computations\n",
    "output = z_3\n",
    "\n",
    "print(f\"The output is {output}\")\n",
    "\n",
    "assignment_id = \"09-deep-learning-project\"\n",
    "question_id = \"q2_simple_neural_network\"\n",
    "submit(student_id, name, assignment_id, str(output), question_id, drive_link)\n"
   ]
  },
  {
   "cell_type": "markdown",
   "metadata": {
    "id": "o9rd__wohWCb"
   },
   "source": [
    "## Task 3\n",
    "\n",
    "Given the following Neural Networks:\n",
    "\n",
    "First layer:\n",
    "\n",
    "$$\n",
    "W = \\begin{bmatrix}\n",
    "0.23 & 0.67 & 0.12 \\\\\n",
    "-0.89 & -0.45 & 0.78 \\\\\n",
    "0.34 & 0.56 & -0.90 \\\\\n",
    "-0.12 & 0.34 & 0.56 \\\\\n",
    "0.78 & -0.90 & 0.23 \\\\\n",
    "\\end{bmatrix}\n",
    "$$\n",
    "\n",
    "$$\n",
    "bias = \\begin{bmatrix}\n",
    "0.23 \\\\\n",
    "-0.89 \\\\\n",
    "0.34 \\\\\n",
    "0.12 \\\\\n",
    "-0.78 \\\\\n",
    "\\end{bmatrix}\n",
    "$$\n",
    "\n",
    "Second layer:\n",
    "\n",
    "$$\n",
    "W = \\begin{bmatrix}\n",
    "0.23 & 0.67 & 0.12 & 0.45 & 0.89 \\\\\n",
    "0.12 & 0.34 & 0.56 & 0.78 & 0.90 \\\\\n",
    "\\end{bmatrix}\n",
    "$$\n",
    "\n",
    "$$\n",
    "bias = \\begin{bmatrix}\n",
    "1.96 \\\\\n",
    "-1.08 \\\\\n",
    "\\end{bmatrix}\n",
    "$$\n",
    "\n",
    "Third layer:\n",
    "$$\n",
    "W = \\begin{bmatrix}\n",
    "1.08 & -0.16\n",
    "\\end{bmatrix}\n",
    "$$\n",
    "\n",
    "$$\n",
    "bias = \\begin{bmatrix}\n",
    "-2.8\n",
    "\\end{bmatrix}\n",
    "$$\n",
    "\n",
    "All layers use the ReLU activation function.\n",
    "\n",
    "What is the output given the following inputs?\n",
    "\n",
    "$$\n",
    "X = \\begin{bmatrix}\n",
    "1 \\\\\n",
    "2 \\\\\n",
    "4 \\\\\n",
    "\\end{bmatrix}\n",
    "\n"
   ]
  },
  {
   "cell_type": "code",
   "execution_count": 15,
   "metadata": {
    "id": "pkSO6pauhWCb"
   },
   "outputs": [
    {
     "name": "stdout",
     "output_type": "stream",
     "text": [
      "The output is 1.3613280000000012\n"
     ]
    },
    {
     "data": {
      "text/plain": [
       "'Assignment successfully submitted'"
      ]
     },
     "execution_count": 15,
     "metadata": {},
     "output_type": "execute_result"
    }
   ],
   "source": [
    "# You may add any code here to derive your variables\n",
    "\n",
    "# Please change this\n",
    "def relu(x):\n",
    "    return np.maximum(0, x)\n",
    "\n",
    "# First layer\n",
    "W1 = np.array([[0.23, 0.67, 0.12],\n",
    "               [-0.89, -0.45, 0.78],\n",
    "               [0.34, 0.56, -0.90],\n",
    "               [-0.12, 0.34, 0.56],\n",
    "               [0.78, -0.90, 0.23]])\n",
    "bias1 = np.array([0.23, -0.89, 0.34, 0.12, -0.78])\n",
    "X = np.array([1, 2, 4])\n",
    "\n",
    "Z1 = np.dot(W1, X) + bias1\n",
    "A1 = relu(Z1)\n",
    "\n",
    "# Second layer\n",
    "W2 = np.array([[0.23, 0.67, 0.12, 0.45, 0.89],\n",
    "               [0.12, 0.34, 0.56, 0.78, 0.90]])\n",
    "bias2 = np.array([1.96, -1.08])\n",
    "\n",
    "Z2 = np.dot(W2, A1) + bias2\n",
    "A2 = relu(Z2)\n",
    "\n",
    "# Third layer\n",
    "W3 = np.array([1.08, -0.16])\n",
    "bias3 = -2.8\n",
    "\n",
    "Z3 = np.dot(W3, A2) + bias3\n",
    "A3 = relu(Z3)\n",
    "\n",
    "output = A3\n",
    "\n",
    "print(f\"The output is {output}\")\n",
    "\n",
    "assignment_id = \"09-deep-learning-project\"\n",
    "question_id = \"q3_complex_neural_network\"\n",
    "submit(student_id, name, assignment_id, str(output), question_id, drive_link)\n"
   ]
  },
  {
   "cell_type": "markdown",
   "metadata": {
    "id": "0Tzuh-MEhWCb"
   },
   "source": [
    "## Task 4\n",
    "\n",
    "Given [the following sheet (sheet name = Project A)](https://docs.google.com/spreadsheets/d/15JWbRFB4k5CNcfD-2hduHHssXIc1SGhNVSpu_30wVAw/edit#gid=180755192)\n",
    "\n",
    "Make a backpropagation algorithm to train the network. You can refer to AND and NOT sheet. Use sigmoid activation function for all\n",
    "\n",
    "Hint: it needs 1 layer with 1 neuron\n",
    "\n",
    "What is the cost at 10th iteration (the iteration start from 1)?"
   ]
  },
  {
   "cell_type": "code",
   "execution_count": null,
   "metadata": {
    "id": "3VydKSf-hWCb"
   },
   "outputs": [],
   "source": [
    "# Please clone the Google Sheet and do your calculation there\n",
    "\n",
    "# Please change this\n",
    "cost = 0\n",
    "\n",
    "# Don't forget to fill in the link to your Google Sheet\n",
    "link_to_gsheet = \"\"\n",
    "\n",
    "print(f\"The cost is {cost}\")\n",
    "\n",
    "assignment_id = \"09-deep-learning-project\"\n",
    "\n",
    "question_id = \"q4_cost_function_cost\"\n",
    "submit(student_id, name, assignment_id, str(cost), question_id)\n",
    "\n",
    "question_id = \"q4_cost_function_gsheet\"\n",
    "submit(student_id, name, assignment_id, str(link_to_gsheet), question_id, drive_link)\n"
   ]
  },
  {
   "cell_type": "markdown",
   "metadata": {
    "id": "RC4IkF86hWCb"
   },
   "source": [
    "## Task 5 (Bonus - Optional)\n",
    "\n",
    "_This task is optional, it will earn you a distinction, but will not give you additional points._\n",
    "\n",
    "Given [the following sheet (sheet name = Project B)](https://docs.google.com/spreadsheets/d/15JWbRFB4k5CNcfD-2hduHHssXIc1SGhNVSpu_30wVAw/edit#gid=1029811725)\n",
    "\n",
    "Make a backpropagation algorithm to train the network. You can refer to AND and NOT sheet. Use sigmoid activation function for all\n",
    "\n",
    "Hint: it needs 2 layer (1 hidden layer + 1 output layer). The hidden layer has 2 neurons\n",
    "\n",
    "What is the cost at 10th iteration (the iteration start from 1)?"
   ]
  },
  {
   "cell_type": "code",
   "execution_count": null,
   "metadata": {
    "id": "ZCi4r1xIhWCb"
   },
   "outputs": [],
   "source": [
    "# Please clone the Google Sheet and do your calculation there\n",
    "\n",
    "# Please change this\n",
    "cost = 0\n",
    "\n",
    "# Don't forget to fill in the link to your Google Sheet\n",
    "link_to_gsheet = \"\"\n",
    "\n",
    "print(f\"The cost is {cost}\")\n",
    "\n",
    "assignment_id = \"09-deep-learning-project\"\n",
    "\n",
    "question_id = \"q5_cost_function_cost\"\n",
    "submit(student_id, name, assignment_id, str(cost), question_id)\n",
    "\n",
    "question_id = \"q5_cost_function_gsheet\"\n",
    "submit(student_id, name, assignment_id, str(link_to_gsheet), question_id, drive_link)\n"
   ]
  }
 ],
 "metadata": {
  "colab": {
   "provenance": []
  },
  "kernelspec": {
   "display_name": "Python 3 (ipykernel)",
   "language": "python",
   "name": "python3"
  },
  "language_info": {
   "codemirror_mode": {
    "name": "ipython",
    "version": 3
   },
   "file_extension": ".py",
   "mimetype": "text/x-python",
   "name": "python",
   "nbconvert_exporter": "python",
   "pygments_lexer": "ipython3",
   "version": "3.12.1"
  }
 },
 "nbformat": 4,
 "nbformat_minor": 4
}
