{
 "cells": [
  {
   "cell_type": "code",
   "execution_count": 4,
   "id": "304f5fd6-a361-47b9-9b4d-41b304d1d68b",
   "metadata": {},
   "outputs": [
    {
     "name": "stdout",
     "output_type": "stream",
     "text": [
      "Defaulting to user installation because normal site-packages is not writeable\n",
      "Collecting numpy\n",
      "  Downloading numpy-1.26.4-cp39-cp39-macosx_11_0_arm64.whl (14.0 MB)\n",
      "\u001b[K     |████████████████████████████████| 14.0 MB 432 kB/s eta 0:00:01    |█▊                              | 747 kB 914 kB/s eta 0:00:15     |██████████▎                     | 4.5 MB 1.3 MB/s eta 0:00:08     |████████████                    | 5.2 MB 1.3 MB/s eta 0:00:07     |███████████████████████▊        | 10.4 MB 1.8 MB/s eta 0:00:03     |████████████████████████▌       | 10.7 MB 1.8 MB/s eta 0:00:02     |███████████████████████████████▌| 13.8 MB 325 kB/s eta 0:00:01\n",
      "\u001b[?25hInstalling collected packages: numpy\n",
      "Successfully installed numpy-1.26.4\n",
      "\u001b[33mWARNING: You are using pip version 21.2.4; however, version 24.0 is available.\n",
      "You should consider upgrading via the '/Library/Developer/CommandLineTools/usr/bin/python3 -m pip install --upgrade pip' command.\u001b[0m\n"
     ]
    }
   ],
   "source": [
    "!pip3 install numpy"
   ]
  },
  {
   "cell_type": "code",
   "execution_count": 6,
   "id": "1d5697ec-7616-49f9-a8a3-82a8d66d0c8d",
   "metadata": {},
   "outputs": [
    {
     "data": {
      "text/plain": [
       "7.8"
      ]
     },
     "execution_count": 6,
     "metadata": {},
     "output_type": "execute_result"
    }
   ],
   "source": [
    "import numpy as np\n",
    "data = [10, 5, 6, 7, 11]\n",
    "mean = np.sum(data) / len(data)\n",
    "mean"
   ]
  },
  {
   "cell_type": "code",
   "execution_count": null,
   "id": "db0e6c50-055b-415c-a69a-80a3e0106266",
   "metadata": {},
   "outputs": [],
   "source": []
  },
  {
   "cell_type": "code",
   "execution_count": null,
   "id": "87e205d8-1eec-4e6e-9018-4f9b15879c72",
   "metadata": {},
   "outputs": [],
   "source": [
    "!pip install gradio\n",
    "\n",
    "# @title #### Arithmetic mean calculator\n",
    "import gradio as gr\n",
    "import numpy as np\n",
    "\n",
    "def calculate_mean(numbers):\n",
    "    numbers = [float(num) for num in numbers.split(',')]\n",
    "    return np.mean(numbers)\n",
    "\n",
    "iface = gr.Interface(\n",
    "                     title=\"Arithmetic mean calculator\",\n",
    "                     fn=calculate_mean,\n",
    "                     inputs=\"text\",\n",
    "                     outputs=gr.Label(label=\"Mean\"),\n",
    "                     examples=[['23,45,67,89'], ['12,34,56'], ['11,22,33,44,55']])\n",
    "iface.launch()"
   ]
  }
 ],
 "metadata": {
  "kernelspec": {
   "display_name": "Python 3 (ipykernel)",
   "language": "python",
   "name": "python3"
  },
  "language_info": {
   "codemirror_mode": {
    "name": "ipython",
    "version": 3
   },
   "file_extension": ".py",
   "mimetype": "text/x-python",
   "name": "python",
   "nbconvert_exporter": "python",
   "pygments_lexer": "ipython3",
   "version": "3.9.6"
  }
 },
 "nbformat": 4,
 "nbformat_minor": 5
}
