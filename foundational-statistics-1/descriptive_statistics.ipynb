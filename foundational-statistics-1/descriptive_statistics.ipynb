{
 "cells": [
  {
   "cell_type": "code",
   "execution_count": 4,
   "id": "304f5fd6-a361-47b9-9b4d-41b304d1d68b",
   "metadata": {},
   "outputs": [
    {
     "name": "stdout",
     "output_type": "stream",
     "text": [
      "Defaulting to user installation because normal site-packages is not writeable\n",
      "Collecting numpy\n",
      "  Downloading numpy-1.26.4-cp39-cp39-macosx_11_0_arm64.whl (14.0 MB)\n",
      "\u001b[K     |████████████████████████████████| 14.0 MB 432 kB/s eta 0:00:01    |█▊                              | 747 kB 914 kB/s eta 0:00:15     |██████████▎                     | 4.5 MB 1.3 MB/s eta 0:00:08     |████████████                    | 5.2 MB 1.3 MB/s eta 0:00:07     |███████████████████████▊        | 10.4 MB 1.8 MB/s eta 0:00:03     |████████████████████████▌       | 10.7 MB 1.8 MB/s eta 0:00:02     |███████████████████████████████▌| 13.8 MB 325 kB/s eta 0:00:01\n",
      "\u001b[?25hInstalling collected packages: numpy\n",
      "Successfully installed numpy-1.26.4\n",
      "\u001b[33mWARNING: You are using pip version 21.2.4; however, version 24.0 is available.\n",
      "You should consider upgrading via the '/Library/Developer/CommandLineTools/usr/bin/python3 -m pip install --upgrade pip' command.\u001b[0m\n"
     ]
    }
   ],
   "source": [
    "!pip3 install numpy"
   ]
  },
  {
   "cell_type": "code",
   "execution_count": 6,
   "id": "1d5697ec-7616-49f9-a8a3-82a8d66d0c8d",
   "metadata": {},
   "outputs": [
    {
     "data": {
      "text/plain": [
       "7.8"
      ]
     },
     "execution_count": 6,
     "metadata": {},
     "output_type": "execute_result"
    }
   ],
   "source": [
    "import numpy as np\n",
    "data = [10, 5, 6, 7, 11]\n",
    "mean = np.sum(data) / len(data)\n",
    "mean"
   ]
  },
  {
   "cell_type": "code",
   "execution_count": 8,
   "id": "db0e6c50-055b-415c-a69a-80a3e0106266",
   "metadata": {},
   "outputs": [
    {
     "name": "stdout",
     "output_type": "stream",
     "text": [
      "Defaulting to user installation because normal site-packages is not writeable\n",
      "Collecting gradio\n",
      "  Downloading gradio-4.26.0-py3-none-any.whl (17.1 MB)\n",
      "\u001b[K     |████████████████████████████████| 17.1 MB 2.8 MB/s eta 0:00:01    |██▋                             | 1.4 MB 1.0 MB/s eta 0:00:16     |███████▍                        | 4.0 MB 1.4 MB/s eta 0:00:10     |███████████████▏                | 8.1 MB 1.8 MB/s eta 0:00:05     |███████████████▉                | 8.5 MB 1.8 MB/s eta 0:00:05     |████████████████▏               | 8.6 MB 1.2 MB/s eta 0:00:07     |████████████████▎               | 8.7 MB 1.2 MB/s eta 0:00:07     |████████████████████▉           | 11.1 MB 1.4 MB/s eta 0:00:05     |██████████████████████          | 11.7 MB 1.5 MB/s eta 0:00:04     |█████████████████████████▋      | 13.7 MB 1.5 MB/s eta 0:00:03     |██████████████████████████████▍ | 16.3 MB 808 kB/s eta 0:00:02\n",
      "\u001b[?25hCollecting kaleido\n",
      "  Downloading kaleido-0.2.1-py2.py3-none-macosx_11_0_arm64.whl (85.8 MB)\n",
      "\u001b[K     |████████████████████████████████| 85.8 MB 2.2 MB/s eta 0:00:01    |▍                               | 1.0 MB 900 kB/s eta 0:01:35     |▋                               | 1.5 MB 900 kB/s eta 0:01:34     |▋                               | 1.6 MB 900 kB/s eta 0:01:34     |██                              | 5.1 MB 8.1 MB/s eta 0:00:10     |██▏                             | 5.9 MB 842 kB/s eta 0:01:35     |███▊                            | 10.1 MB 1.2 MB/s eta 0:01:04     |████                            | 10.4 MB 1.2 MB/s eta 0:01:04     |████▊                           | 12.8 MB 9.4 MB/s eta 0:00:08     |██████████▊                     | 28.8 MB 2.5 MB/s eta 0:00:23     |██████████████▍                 | 38.5 MB 788 kB/s eta 0:01:00     |██████████████▊                 | 39.5 MB 706 kB/s eta 0:01:06     |███████████████▎                | 41.1 MB 565 kB/s eta 0:01:20     |███████████████▌                | 41.6 MB 565 kB/s eta 0:01:19     |████████████████▎               | 43.8 MB 2.3 MB/s eta 0:00:19     |████████████████▊               | 44.8 MB 510 kB/s eta 0:01:21     |█████████████████▉              | 48.0 MB 418 kB/s eta 0:01:31     |███████████████████▎            | 51.6 MB 473 kB/s eta 0:01:13     |███████████████████▎            | 51.8 MB 473 kB/s eta 0:01:12     |████████████████████▎           | 54.4 MB 465 kB/s eta 0:01:08     |████████████████████▉           | 55.9 MB 147 kB/s eta 0:03:24     |█████████████████████           | 56.3 MB 147 kB/s eta 0:03:21     |█████████████████████▏          | 56.7 MB 1.0 MB/s eta 0:00:29     |█████████████████████▎          | 57.1 MB 1.0 MB/s eta 0:00:28     |██████████████████████▍         | 60.1 MB 1.4 MB/s eta 0:00:18     |███████████████████████         | 61.7 MB 961 kB/s eta 0:00:26     |███████████████████████▏        | 62.1 MB 961 kB/s eta 0:00:25     |███████████████████████▍        | 62.7 MB 961 kB/s eta 0:00:25     |████████████████████████        | 64.2 MB 463 kB/s eta 0:00:47     |████████████████████████        | 64.4 MB 463 kB/s eta 0:00:47     |████████████████████████▊       | 66.4 MB 437 kB/s eta 0:00:45��█████████       | 67.3 MB 44 kB/s eta 0:06:56     |█████████████████████████▍      | 68.0 MB 848 kB/s eta 0:00:21     |█████████████████████████▌      | 68.5 MB 848 kB/s eta 0:00:21     |█████████████████████████▊      | 69.0 MB 82 kB/s eta 0:03:24     |██████████████████████████▌     | 71.1 MB 770 kB/s eta 0:00:20     |██████████████████████████▊     | 71.7 MB 1.3 MB/s eta 0:00:12     |██████████████████████████▉     | 71.8 MB 1.3 MB/s eta 0:00:12     |██████████████████████████▉     | 72.0 MB 1.3 MB/s eta 0:00:11     |███████████████████████████▏    | 72.8 MB 1.3 MB/s eta 0:00:11     |███████████████████████████▎    | 73.1 MB 1.3 MB/s eta 0:00:11     |███████████████████████████▌    | 73.6 MB 846 kB/s eta 0:00:15     |█████████████████████████████▉  | 80.0 MB 628 kB/s eta 0:00:10     |█████████████████████████████▉  | 80.1 MB 628 kB/s eta 0:00:10     |██████████████████████████████▍ | 81.5 MB 1.7 MB/s eta 0:00:03     |███████████████████████████████▍| 84.1 MB 1.2 MB/s eta 0:00:02     |███████████████████████████████▋| 84.7 MB 1.0 MB/s eta 0:00:02     |███████████████████████████████▉| 85.3 MB 1.0 MB/s eta 0:00:01\n",
      "\u001b[?25hCollecting scipy\n",
      "  Downloading scipy-1.13.0-cp39-cp39-macosx_12_0_arm64.whl (30.3 MB)\n",
      "\u001b[K     |████████████████████████████████| 30.3 MB 3.0 MB/s eta 0:00:01    |█▋                              | 1.5 MB 3.6 MB/s eta 0:00:08     |██▉                             | 2.7 MB 1.6 MB/s eta 0:00:18     |███▍                            | 3.2 MB 1.6 MB/s eta 0:00:18     |███▋                            | 3.4 MB 1.6 MB/s eta 0:00:18     |███████▏                        | 6.8 MB 6.4 MB/s eta 0:00:04     |█████████▌                      | 9.0 MB 907 kB/s eta 0:00:24     |█████████▊                      | 9.2 MB 907 kB/s eta 0:00:24     |█████████▉                      | 9.3 MB 907 kB/s eta 0:00:24     |███████████                     | 10.3 MB 1.1 MB/s eta 0:00:18     |███████████▊                    | 11.1 MB 1.1 MB/s eta 0:00:17     |████████████▍                   | 11.7 MB 596 kB/s eta 0:00:32     |█████████████▌                  | 12.8 MB 596 kB/s eta 0:00:30     |████████████████                | 15.1 MB 2.2 MB/s eta 0:00:07     |███████████████████▏            | 18.2 MB 386 kB/s eta 0:00:32     |███████████████████████▎        | 22.1 MB 202 kB/s eta 0:00:41     |████████████████████████▋       | 23.3 MB 888 kB/s eta 0:00:08\n",
      "\u001b[?25hRequirement already satisfied: markupsafe~=2.0 in /Users/hasan.mubarok/Library/Python/3.9/lib/python/site-packages (from gradio) (2.1.5)\n",
      "Collecting aiofiles<24.0,>=22.0\n",
      "  Downloading aiofiles-23.2.1-py3-none-any.whl (15 kB)\n",
      "Collecting importlib-resources<7.0,>=1.3\n",
      "  Downloading importlib_resources-6.4.0-py3-none-any.whl (38 kB)\n",
      "Collecting typer[all]<1.0,>=0.9\n",
      "  Downloading typer-0.12.3-py3-none-any.whl (47 kB)\n",
      "\u001b[K     |████████████████████████████████| 47 kB 617 kB/s eta 0:00:01\n",
      "\u001b[?25hRequirement already satisfied: pyyaml<7.0,>=5.0 in /Users/hasan.mubarok/Library/Python/3.9/lib/python/site-packages (from gradio) (6.0.1)\n",
      "Collecting matplotlib~=3.0\n",
      "  Downloading matplotlib-3.8.4-cp39-cp39-macosx_11_0_arm64.whl (7.5 MB)\n",
      "\u001b[K     |████████████████████████████████| 7.5 MB 6.5 MB/s eta 0:00:01     |█▊                              | 399 kB 1.7 MB/s eta 0:00:05     |███████▉                        | 1.8 MB 1.1 MB/s eta 0:00:06     |███████████████████████▋        | 5.5 MB 231 kB/s eta 0:00:09     |█████████████████████████████▊  | 7.0 MB 231 kB/s eta 0:00:03     |██████████████████████████████▉ | 7.2 MB 231 kB/s eta 0:00:02\n",
      "\u001b[?25hRequirement already satisfied: httpx>=0.24.1 in /Users/hasan.mubarok/Library/Python/3.9/lib/python/site-packages (from gradio) (0.27.0)\n",
      "Collecting huggingface-hub>=0.19.3\n",
      "  Downloading huggingface_hub-0.22.2-py3-none-any.whl (388 kB)\n",
      "\u001b[K     |████████████████████████████████| 388 kB 1.1 MB/s eta 0:00:01\n",
      "\u001b[?25hCollecting ffmpy\n",
      "  Downloading ffmpy-0.3.2.tar.gz (5.5 kB)\n",
      "Collecting pydantic>=2.0\n",
      "  Downloading pydantic-2.7.0-py3-none-any.whl (407 kB)\n",
      "\u001b[K     |████████████████████████████████| 407 kB 1.4 MB/s eta 0:00:01\n",
      "\u001b[?25hRequirement already satisfied: numpy~=1.0 in /Users/hasan.mubarok/Library/Python/3.9/lib/python/site-packages (from gradio) (1.26.4)\n",
      "Collecting gradio-client==0.15.1\n",
      "  Downloading gradio_client-0.15.1-py3-none-any.whl (313 kB)\n",
      "\u001b[K     |████████████████████████████████| 313 kB 9.3 MB/s eta 0:00:01\n",
      "\u001b[?25hRequirement already satisfied: packaging in /Users/hasan.mubarok/Library/Python/3.9/lib/python/site-packages (from gradio) (24.0)\n",
      "Collecting ruff>=0.2.2\n",
      "  Downloading ruff-0.3.7-py3-none-macosx_10_12_x86_64.macosx_11_0_arm64.macosx_10_12_universal2.whl (16.8 MB)\n",
      "\u001b[K     |████████████████████████████████| 16.8 MB 1.0 MB/s eta 0:00:01    |██▋                             | 1.4 MB 1.2 MB/s eta 0:00:14     |█████                           | 2.6 MB 1.5 MB/s eta 0:00:10     |██████████▍                     | 5.5 MB 1.6 MB/s eta 0:00:08     |███████████▎                    | 5.9 MB 1.6 MB/s eta 0:00:07     |████████████                    | 6.3 MB 496 kB/s eta 0:00:22     |████████████████                | 8.4 MB 2.1 MB/s eta 0:00:05     |█████████████████               | 8.9 MB 2.1 MB/s eta 0:00:04     |████████████████████▊           | 10.9 MB 738 kB/s eta 0:00:09     |█████████████████████▍          | 11.3 MB 738 kB/s eta 0:00:08     |██████████████████████▋         | 11.9 MB 740 kB/s eta 0:00:07     |██████████████████████▊         | 12.0 MB 740 kB/s eta 0:00:07     |██████████████████████████████▎ | 15.9 MB 2.9 MB/s eta 0:00:01\n",
      "\u001b[?25hRequirement already satisfied: jinja2<4.0 in /Users/hasan.mubarok/Library/Python/3.9/lib/python/site-packages (from gradio) (3.1.3)\n",
      "Collecting orjson~=3.0\n",
      "  Downloading orjson-3.10.0-cp39-cp39-macosx_10_15_x86_64.macosx_11_0_arm64.macosx_10_15_universal2.whl (251 kB)\n",
      "\u001b[K     |████████████████████████████████| 251 kB 853 kB/s eta 0:00:01\n",
      "\u001b[?25hCollecting pandas<3.0,>=1.0\n",
      "  Downloading pandas-2.2.2.tar.gz (4.4 MB)\n",
      "\u001b[K     |████████████████████████████████| 4.4 MB 876 kB/s eta 0:00:01     |███████████                     | 1.5 MB 251 kB/s eta 0:00:12     |█████████████                   | 1.8 MB 251 kB/s eta 0:00:11     |███████████████▉                | 2.2 MB 251 kB/s eta 0:00:09     |██████████████████████▉         | 3.1 MB 616 kB/s eta 0:00:03\n",
      "\u001b[33m  WARNING: Value for prefixed-purelib does not match. Please report this to <https://github.com/pypa/pip/issues/10151>\n",
      "  distutils: /private/var/folders/bh/mhw3vdk15tb04fgj_sxs0wkh0000gp/T/pip-build-env-_pxu07gl/normal/lib/python3.9/site-packages\n",
      "  sysconfig: /Library/Python/3.9/site-packages\u001b[0m\n",
      "\u001b[33m  WARNING: Value for prefixed-platlib does not match. Please report this to <https://github.com/pypa/pip/issues/10151>\n",
      "  distutils: /private/var/folders/bh/mhw3vdk15tb04fgj_sxs0wkh0000gp/T/pip-build-env-_pxu07gl/normal/lib/python3.9/site-packages\n",
      "  sysconfig: /Library/Python/3.9/site-packages\u001b[0m\n",
      "\u001b[33m  WARNING: Additional context:\n",
      "  user = False\n",
      "  home = None\n",
      "  root = None\n",
      "  prefix = '/private/var/folders/bh/mhw3vdk15tb04fgj_sxs0wkh0000gp/T/pip-build-env-_pxu07gl/normal'\u001b[0m\n",
      "\u001b[33m  WARNING: Value for prefixed-purelib does not match. Please report this to <https://github.com/pypa/pip/issues/10151>\n",
      "  distutils: /private/var/folders/bh/mhw3vdk15tb04fgj_sxs0wkh0000gp/T/pip-build-env-_pxu07gl/overlay/lib/python3.9/site-packages\n",
      "  sysconfig: /Library/Python/3.9/site-packages\u001b[0m\n",
      "\u001b[33m  WARNING: Value for prefixed-platlib does not match. Please report this to <https://github.com/pypa/pip/issues/10151>\n",
      "  distutils: /private/var/folders/bh/mhw3vdk15tb04fgj_sxs0wkh0000gp/T/pip-build-env-_pxu07gl/overlay/lib/python3.9/site-packages\n",
      "  sysconfig: /Library/Python/3.9/site-packages\u001b[0m\n",
      "\u001b[33m  WARNING: Additional context:\n",
      "  user = False\n",
      "  home = None\n",
      "  root = None\n",
      "  prefix = '/private/var/folders/bh/mhw3vdk15tb04fgj_sxs0wkh0000gp/T/pip-build-env-_pxu07gl/overlay'\u001b[0m\n",
      "\u001b[?25h  Installing build dependencies ... \u001b[?25ldone\n",
      "\u001b[?25h  Getting requirements to build wheel ... \u001b[?25ldone\n",
      "\u001b[?25h  Installing backend dependencies ... \u001b[?25ldone\n",
      "\u001b[?25h    Preparing wheel metadata ... \u001b[?25lerror\n",
      "\u001b[31m    ERROR: Command errored out with exit status 1:\n",
      "     command: /Library/Developer/CommandLineTools/usr/bin/python3 /Library/Developer/CommandLineTools/Library/Frameworks/Python3.framework/Versions/3.9/lib/python3.9/site-packages/pip/_vendor/pep517/in_process/_in_process.py prepare_metadata_for_build_wheel /var/folders/bh/mhw3vdk15tb04fgj_sxs0wkh0000gp/T/tmpmzhwaicv\n",
      "         cwd: /private/var/folders/bh/mhw3vdk15tb04fgj_sxs0wkh0000gp/T/pip-install-o9ovh3ko/pandas_7052491554504f22beb6573b4a503c07\n",
      "    Complete output (80 lines):\n",
      "    \u001b[36m\u001b[1m+ meson setup /private/var/folders/bh/mhw3vdk15tb04fgj_sxs0wkh0000gp/T/pip-install-o9ovh3ko/pandas_7052491554504f22beb6573b4a503c07 /private/var/folders/bh/mhw3vdk15tb04fgj_sxs0wkh0000gp/T/pip-install-o9ovh3ko/pandas_7052491554504f22beb6573b4a503c07/.mesonpy-4x6e6etz/build -Dbuildtype=release -Db_ndebug=if-release -Db_vscrt=md --vsenv --native-file=/private/var/folders/bh/mhw3vdk15tb04fgj_sxs0wkh0000gp/T/pip-install-o9ovh3ko/pandas_7052491554504f22beb6573b4a503c07/.mesonpy-4x6e6etz/build/meson-python-native-file.ini\u001b[0m\n",
      "    The Meson build system\n",
      "    Version: 1.2.1\n",
      "    Source dir: /private/var/folders/bh/mhw3vdk15tb04fgj_sxs0wkh0000gp/T/pip-install-o9ovh3ko/pandas_7052491554504f22beb6573b4a503c07\n",
      "    Build dir: /private/var/folders/bh/mhw3vdk15tb04fgj_sxs0wkh0000gp/T/pip-install-o9ovh3ko/pandas_7052491554504f22beb6573b4a503c07/.mesonpy-4x6e6etz/build\n",
      "    Build type: native build\n",
      "    Project name: pandas\n",
      "    Project version: 2.2.2\n",
      "    C compiler for the host machine: cc (clang 15.0.0 \"Apple clang version 15.0.0 (clang-1500.1.0.2.5)\")\n",
      "    C linker for the host machine: cc ld64 1022.1\n",
      "    C++ compiler for the host machine: c++ (clang 15.0.0 \"Apple clang version 15.0.0 (clang-1500.1.0.2.5)\")\n",
      "    C++ linker for the host machine: c++ ld64 1022.1\n",
      "    Cython compiler for the host machine: cython (cython 3.0.5)\n",
      "    Host machine cpu family: aarch64\n",
      "    Host machine cpu: aarch64\n",
      "    Program python found: YES (/Library/Developer/CommandLineTools/usr/bin/python3)\n",
      "    Did not find pkg-config by name 'pkg-config'\n",
      "    Found Pkg-config: NO\n",
      "    Run-time dependency python found: YES 3.9\n",
      "    Build targets in project: 53\n",
      "    \n",
      "    pandas 2.2.2\n",
      "    \n",
      "      User defined options\n",
      "        Native files: /private/var/folders/bh/mhw3vdk15tb04fgj_sxs0wkh0000gp/T/pip-install-o9ovh3ko/pandas_7052491554504f22beb6573b4a503c07/.mesonpy-4x6e6etz/build/meson-python-native-file.ini\n",
      "        buildtype   : release\n",
      "        vsenv       : True\n",
      "        b_ndebug    : if-release\n",
      "        b_vscrt     : md\n",
      "    \n",
      "    Found ninja-1.11.1.git.kitware.jobserver-1 at /private/var/folders/bh/mhw3vdk15tb04fgj_sxs0wkh0000gp/T/pip-build-env-_pxu07gl/normal/bin/ninja\n",
      "    \n",
      "    Visual Studio environment is needed to run Ninja. It is recommended to use Meson wrapper:\n",
      "    /private/var/folders/bh/mhw3vdk15tb04fgj_sxs0wkh0000gp/T/pip-build-env-_pxu07gl/overlay/bin/meson compile -C .\n",
      "    \u001b[36m\u001b[1m+ /private/var/folders/bh/mhw3vdk15tb04fgj_sxs0wkh0000gp/T/pip-build-env-_pxu07gl/normal/bin/ninja\u001b[0m\n",
      "    [1/151] Generating pandas/_libs/algos_common_helper_pxi with a custom command\n",
      "    [2/151] Generating pandas/__init__.py with a custom command\n",
      "    [3/151] Generating pandas/_libs/algos_take_helper_pxi with a custom command\n",
      "    [4/151] Generating pandas/_libs/hashtable_class_helper_pxi with a custom command\n",
      "    [5/151] Generating pandas/_libs/hashtable_func_helper_pxi with a custom command\n",
      "    [6/151] Generating pandas/_libs/index_class_helper_pxi with a custom command\n",
      "    [7/151] Generating pandas/_libs/sparse_op_helper_pxi with a custom command\n",
      "    [8/151] Generating pandas/_libs/khash_primitive_helper_pxi with a custom command\n",
      "    [9/151] Generating pandas/_libs/intervaltree_helper_pxi with a custom command\n",
      "    [10/151] Compiling Cython source /private/var/folders/bh/mhw3vdk15tb04fgj_sxs0wkh0000gp/T/pip-install-o9ovh3ko/pandas_7052491554504f22beb6573b4a503c07/pandas/_libs/tslibs/base.pyx\n",
      "    [11/151] Compiling Cython source /private/var/folders/bh/mhw3vdk15tb04fgj_sxs0wkh0000gp/T/pip-install-o9ovh3ko/pandas_7052491554504f22beb6573b4a503c07/pandas/_libs/tslibs/ccalendar.pyx\n",
      "    [12/151] Compiling C object pandas/_libs/tslibs/base.cpython-39-darwin.so.p/meson-generated_pandas__libs_tslibs_base.pyx.c.o\n",
      "    \u001b[31mFAILED: \u001b[0mpandas/_libs/tslibs/base.cpython-39-darwin.so.p/meson-generated_pandas__libs_tslibs_base.pyx.c.o\n",
      "    cc -Ipandas/_libs/tslibs/base.cpython-39-darwin.so.p -Ipandas/_libs/tslibs -I../../pandas/_libs/tslibs -I../../../../pip-build-env-_pxu07gl/overlay/lib/python3.9/site-packages/numpy/_core/include -I../../pandas/_libs/include -I/Applications/Xcode.app/Contents/Developer/Library/Frameworks/Python3.framework/Versions/3.9/Headers -I/Library/Python/3.9/include -fvisibility=hidden -fcolor-diagnostics -DNDEBUG -w -std=c11 -O3 -DNPY_NO_DEPRECATED_API=0 -DNPY_TARGET_VERSION=NPY_1_21_API_VERSION -MD -MQ pandas/_libs/tslibs/base.cpython-39-darwin.so.p/meson-generated_pandas__libs_tslibs_base.pyx.c.o -MF pandas/_libs/tslibs/base.cpython-39-darwin.so.p/meson-generated_pandas__libs_tslibs_base.pyx.c.o.d -o pandas/_libs/tslibs/base.cpython-39-darwin.so.p/meson-generated_pandas__libs_tslibs_base.pyx.c.o -c pandas/_libs/tslibs/base.cpython-39-darwin.so.p/pandas/_libs/tslibs/base.pyx.c\n",
      "    \u001b[1mpandas/_libs/tslibs/base.cpython-39-darwin.so.p/pandas/_libs/tslibs/base.pyx.c:16:10: \u001b[0m\u001b[0;1;31mfatal error: \u001b[0m\u001b[1m'Python.h' file not found\u001b[0m\n",
      "    #include \"Python.h\"\n",
      "    \u001b[0;1;32m         ^~~~~~~~~~\n",
      "    \u001b[0m1 error generated.\n",
      "    [13/151] Compiling Cython source /private/var/folders/bh/mhw3vdk15tb04fgj_sxs0wkh0000gp/T/pip-install-o9ovh3ko/pandas_7052491554504f22beb6573b4a503c07/pandas/_libs/tslibs/dtypes.pyx\n",
      "    [14/151] Compiling C object pandas/_libs/tslibs/ccalendar.cpython-39-darwin.so.p/meson-generated_pandas__libs_tslibs_ccalendar.pyx.c.o\n",
      "    \u001b[31mFAILED: \u001b[0mpandas/_libs/tslibs/ccalendar.cpython-39-darwin.so.p/meson-generated_pandas__libs_tslibs_ccalendar.pyx.c.o\n",
      "    cc -Ipandas/_libs/tslibs/ccalendar.cpython-39-darwin.so.p -Ipandas/_libs/tslibs -I../../pandas/_libs/tslibs -I../../../../pip-build-env-_pxu07gl/overlay/lib/python3.9/site-packages/numpy/_core/include -I../../pandas/_libs/include -I/Applications/Xcode.app/Contents/Developer/Library/Frameworks/Python3.framework/Versions/3.9/Headers -I/Library/Python/3.9/include -fvisibility=hidden -fcolor-diagnostics -DNDEBUG -w -std=c11 -O3 -DNPY_NO_DEPRECATED_API=0 -DNPY_TARGET_VERSION=NPY_1_21_API_VERSION -MD -MQ pandas/_libs/tslibs/ccalendar.cpython-39-darwin.so.p/meson-generated_pandas__libs_tslibs_ccalendar.pyx.c.o -MF pandas/_libs/tslibs/ccalendar.cpython-39-darwin.so.p/meson-generated_pandas__libs_tslibs_ccalendar.pyx.c.o.d -o pandas/_libs/tslibs/ccalendar.cpython-39-darwin.so.p/meson-generated_pandas__libs_tslibs_ccalendar.pyx.c.o -c pandas/_libs/tslibs/ccalendar.cpython-39-darwin.so.p/pandas/_libs/tslibs/ccalendar.pyx.c\n",
      "    \u001b[1mpandas/_libs/tslibs/ccalendar.cpython-39-darwin.so.p/pandas/_libs/tslibs/ccalendar.pyx.c:16:10: \u001b[0m\u001b[0;1;31mfatal error: \u001b[0m\u001b[1m'Python.h' file not found\u001b[0m\n",
      "    #include \"Python.h\"\n",
      "    \u001b[0;1;32m         ^~~~~~~~~~\n",
      "    \u001b[0m1 error generated.\n",
      "    [15/151] Compiling C object pandas/_libs/tslibs/parsing.cpython-39-darwin.so.p/.._src_parser_tokenizer.c.o\n",
      "    \u001b[31mFAILED: \u001b[0mpandas/_libs/tslibs/parsing.cpython-39-darwin.so.p/.._src_parser_tokenizer.c.o\n",
      "    cc -Ipandas/_libs/tslibs/parsing.cpython-39-darwin.so.p -Ipandas/_libs/tslibs -I../../pandas/_libs/tslibs -I../../../../pip-build-env-_pxu07gl/overlay/lib/python3.9/site-packages/numpy/_core/include -I../../pandas/_libs/include -I/Applications/Xcode.app/Contents/Developer/Library/Frameworks/Python3.framework/Versions/3.9/Headers -I/Library/Python/3.9/include -fvisibility=hidden -fcolor-diagnostics -DNDEBUG -Wall -Winvalid-pch -Wextra -std=c11 -O3 -DNPY_NO_DEPRECATED_API=0 -DNPY_TARGET_VERSION=NPY_1_21_API_VERSION -MD -MQ pandas/_libs/tslibs/parsing.cpython-39-darwin.so.p/.._src_parser_tokenizer.c.o -MF pandas/_libs/tslibs/parsing.cpython-39-darwin.so.p/.._src_parser_tokenizer.c.o.d -o pandas/_libs/tslibs/parsing.cpython-39-darwin.so.p/.._src_parser_tokenizer.c.o -c ../../pandas/_libs/src/parser/tokenizer.c\n",
      "    In file included from ../../pandas/_libs/src/parser/tokenizer.c:19:\n",
      "    \u001b[1m../../pandas/_libs/include/pandas/parser/tokenizer.h:15:10: \u001b[0m\u001b[0;1;31mfatal error: \u001b[0m\u001b[1m'Python.h' file not found\u001b[0m\n",
      "    #include <Python.h>\n",
      "    \u001b[0;1;32m         ^~~~~~~~~~\n",
      "    \u001b[0m1 error generated.\n",
      "    [16/151] Compiling Cython source /private/var/folders/bh/mhw3vdk15tb04fgj_sxs0wkh0000gp/T/pip-install-o9ovh3ko/pandas_7052491554504f22beb6573b4a503c07/pandas/_libs/tslibs/nattype.pyx\n",
      "    warning: /private/var/folders/bh/mhw3vdk15tb04fgj_sxs0wkh0000gp/T/pip-install-o9ovh3ko/pandas_7052491554504f22beb6573b4a503c07/pandas/_libs/tslibs/nattype.pyx:79:0: Global name __nat_unpickle matched from within class scope in contradiction to to Python 'class private name' rules. This may change in a future release.\n",
      "    warning: /private/var/folders/bh/mhw3vdk15tb04fgj_sxs0wkh0000gp/T/pip-install-o9ovh3ko/pandas_7052491554504f22beb6573b4a503c07/pandas/_libs/tslibs/nattype.pyx:79:0: Global name __nat_unpickle matched from within class scope in contradiction to to Python 'class private name' rules. This may change in a future release.\n",
      "    [17/151] Compiling Cython source /private/var/folders/bh/mhw3vdk15tb04fgj_sxs0wkh0000gp/T/pip-install-o9ovh3ko/pandas_7052491554504f22beb6573b4a503c07/pandas/_libs/tslibs/np_datetime.pyx\n",
      "    [18/151] Compiling Cython source /private/var/folders/bh/mhw3vdk15tb04fgj_sxs0wkh0000gp/T/pip-install-o9ovh3ko/pandas_7052491554504f22beb6573b4a503c07/pandas/_libs/tslibs/fields.pyx\n",
      "    [19/151] Compiling Cython source /private/var/folders/bh/mhw3vdk15tb04fgj_sxs0wkh0000gp/T/pip-install-o9ovh3ko/pandas_7052491554504f22beb6573b4a503c07/pandas/_libs/tslibs/conversion.pyx\n",
      "    [20/151] Compiling Cython source /private/var/folders/bh/mhw3vdk15tb04fgj_sxs0wkh0000gp/T/pip-install-o9ovh3ko/pandas_7052491554504f22beb6573b4a503c07/pandas/_libs/tslibs/parsing.pyx\n",
      "    [21/151] Compiling Cython source /private/var/folders/bh/mhw3vdk15tb04fgj_sxs0wkh0000gp/T/pip-install-o9ovh3ko/pandas_7052491554504f22beb6573b4a503c07/pandas/_libs/tslibs/offsets.pyx\n",
      "    [22/151] Compiling Cython source /private/var/folders/bh/mhw3vdk15tb04fgj_sxs0wkh0000gp/T/pip-install-o9ovh3ko/pandas_7052491554504f22beb6573b4a503c07/pandas/_libs/tslibs/strptime.pyx\n",
      "    [23/151] Compiling Cython source /private/var/folders/bh/mhw3vdk15tb04fgj_sxs0wkh0000gp/T/pip-install-o9ovh3ko/pandas_7052491554504f22beb6573b4a503c07/pandas/_libs/tslibs/period.pyx\n",
      "    ninja: build stopped: subcommand failed.\n",
      "    ----------------------------------------\u001b[0m\n",
      "\u001b[33mWARNING: Discarding https://files.pythonhosted.org/packages/88/d9/ecf715f34c73ccb1d8ceb82fc01cd1028a65a5f6dbc57bfa6ea155119058/pandas-2.2.2.tar.gz#sha256=9e79019aba43cb4fda9e4d983f8e88ca0373adbb697ae9c6c43093218de28b54 (from https://pypi.org/simple/pandas/) (requires-python:>=3.9). Command errored out with exit status 1: /Library/Developer/CommandLineTools/usr/bin/python3 /Library/Developer/CommandLineTools/Library/Frameworks/Python3.framework/Versions/3.9/lib/python3.9/site-packages/pip/_vendor/pep517/in_process/_in_process.py prepare_metadata_for_build_wheel /var/folders/bh/mhw3vdk15tb04fgj_sxs0wkh0000gp/T/tmpmzhwaicv Check the logs for full command output.\u001b[0m\n",
      "\u001b[?25h  Downloading pandas-2.2.1-cp39-cp39-macosx_11_0_arm64.whl (11.3 MB)\n",
      "\u001b[K     |████████████████████████████████| 11.3 MB 1.2 MB/s eta 0:00:01    |█▌                              | 542 kB 636 kB/s eta 0:00:17     |█████████▊                      | 3.4 MB 507 kB/s eta 0:00:16     |██████████████████▎             | 6.5 MB 1.1 MB/s eta 0:00:05\n",
      "\u001b[?25hCollecting semantic-version~=2.0\n",
      "  Downloading semantic_version-2.10.0-py2.py3-none-any.whl (15 kB)\n",
      "Collecting tomlkit==0.12.0\n",
      "  Downloading tomlkit-0.12.0-py3-none-any.whl (37 kB)\n",
      "Collecting uvicorn>=0.14.0\n",
      "  Downloading uvicorn-0.29.0-py3-none-any.whl (60 kB)\n",
      "\u001b[K     |████████████████████████████████| 60 kB 1.9 MB/s eta 0:00:01\n",
      "\u001b[?25hCollecting altair<6.0,>=4.2.0\n",
      "  Downloading altair-5.3.0-py3-none-any.whl (857 kB)\n",
      "\u001b[K     |████████████████████████████████| 857 kB 1.2 MB/s eta 0:00:01\n",
      "\u001b[?25hCollecting pydub\n",
      "  Downloading pydub-0.25.1-py2.py3-none-any.whl (32 kB)\n",
      "Collecting fastapi\n",
      "  Downloading fastapi-0.110.1-py3-none-any.whl (91 kB)\n",
      "\u001b[K     |████████████████████████████████| 91 kB 1.6 MB/s eta 0:00:01\n",
      "\u001b[?25hCollecting python-multipart>=0.0.9\n",
      "  Downloading python_multipart-0.0.9-py3-none-any.whl (22 kB)\n",
      "Collecting pillow<11.0,>=8.0\n",
      "  Downloading pillow-10.3.0-cp39-cp39-macosx_11_0_arm64.whl (3.4 MB)\n",
      "\u001b[K     |████████████████████████████████| 3.4 MB 900 kB/s eta 0:00:01\n",
      "\u001b[?25hRequirement already satisfied: typing-extensions~=4.0 in /Users/hasan.mubarok/Library/Python/3.9/lib/python/site-packages (from gradio) (4.10.0)\n",
      "Collecting websockets<12.0,>=10.0\n",
      "  Downloading websockets-11.0.3-cp39-cp39-macosx_11_0_arm64.whl (121 kB)\n",
      "\u001b[K     |████████████████████████████████| 121 kB 774 kB/s eta 0:00:01\n",
      "\u001b[?25hCollecting fsspec\n",
      "  Downloading fsspec-2024.3.1-py3-none-any.whl (171 kB)\n",
      "\u001b[K     |████████████████████████████████| 171 kB 644 kB/s eta 0:00:01\n",
      "\u001b[?25hRequirement already satisfied: jsonschema>=3.0 in /Users/hasan.mubarok/Library/Python/3.9/lib/python/site-packages (from altair<6.0,>=4.2.0->gradio) (4.21.1)\n",
      "Collecting toolz\n",
      "  Downloading toolz-0.12.1-py3-none-any.whl (56 kB)\n",
      "\u001b[K     |████████████████████████████████| 56 kB 576 kB/s eta 0:00:01\n",
      "\u001b[?25hRequirement already satisfied: sniffio in /Users/hasan.mubarok/Library/Python/3.9/lib/python/site-packages (from httpx>=0.24.1->gradio) (1.3.1)\n",
      "Requirement already satisfied: idna in /Users/hasan.mubarok/Library/Python/3.9/lib/python/site-packages (from httpx>=0.24.1->gradio) (3.6)\n",
      "Requirement already satisfied: certifi in /Users/hasan.mubarok/Library/Python/3.9/lib/python/site-packages (from httpx>=0.24.1->gradio) (2024.2.2)\n",
      "Requirement already satisfied: anyio in /Users/hasan.mubarok/Library/Python/3.9/lib/python/site-packages (from httpx>=0.24.1->gradio) (4.3.0)\n",
      "Requirement already satisfied: httpcore==1.* in /Users/hasan.mubarok/Library/Python/3.9/lib/python/site-packages (from httpx>=0.24.1->gradio) (1.0.4)\n",
      "Requirement already satisfied: h11<0.15,>=0.13 in /Users/hasan.mubarok/Library/Python/3.9/lib/python/site-packages (from httpcore==1.*->httpx>=0.24.1->gradio) (0.14.0)\n",
      "Collecting tqdm>=4.42.1\n",
      "  Downloading tqdm-4.66.2-py3-none-any.whl (78 kB)\n",
      "\u001b[K     |████████████████████████████████| 78 kB 1.0 MB/s eta 0:00:01\n",
      "\u001b[?25hRequirement already satisfied: requests in /Users/hasan.mubarok/Library/Python/3.9/lib/python/site-packages (from huggingface-hub>=0.19.3->gradio) (2.31.0)\n",
      "Collecting filelock\n",
      "  Downloading filelock-3.13.4-py3-none-any.whl (11 kB)\n",
      "Requirement already satisfied: zipp>=3.1.0 in /Users/hasan.mubarok/Library/Python/3.9/lib/python/site-packages (from importlib-resources<7.0,>=1.3->gradio) (3.18.1)\n",
      "Requirement already satisfied: referencing>=0.28.4 in /Users/hasan.mubarok/Library/Python/3.9/lib/python/site-packages (from jsonschema>=3.0->altair<6.0,>=4.2.0->gradio) (0.34.0)\n",
      "Requirement already satisfied: rpds-py>=0.7.1 in /Users/hasan.mubarok/Library/Python/3.9/lib/python/site-packages (from jsonschema>=3.0->altair<6.0,>=4.2.0->gradio) (0.18.0)\n",
      "Requirement already satisfied: jsonschema-specifications>=2023.03.6 in /Users/hasan.mubarok/Library/Python/3.9/lib/python/site-packages (from jsonschema>=3.0->altair<6.0,>=4.2.0->gradio) (2023.12.1)\n",
      "Requirement already satisfied: attrs>=22.2.0 in /Users/hasan.mubarok/Library/Python/3.9/lib/python/site-packages (from jsonschema>=3.0->altair<6.0,>=4.2.0->gradio) (23.2.0)\n",
      "Collecting pyparsing>=2.3.1\n",
      "  Downloading pyparsing-3.1.2-py3-none-any.whl (103 kB)\n",
      "\u001b[K     |████████████████████████████████| 103 kB 976 kB/s eta 0:00:01\n",
      "\u001b[?25hCollecting fonttools>=4.22.0\n",
      "  Downloading fonttools-4.51.0-cp39-cp39-macosx_10_9_universal2.whl (2.8 MB)\n",
      "\u001b[K     |████████████████████████████████| 2.8 MB 333 kB/s eta 0:00:01\n",
      "\u001b[?25hCollecting kiwisolver>=1.3.1\n",
      "  Downloading kiwisolver-1.4.5-cp39-cp39-macosx_11_0_arm64.whl (66 kB)\n",
      "\u001b[K     |████████████████████████████████| 66 kB 1.2 MB/s eta 0:00:01\n",
      "\u001b[?25hCollecting contourpy>=1.0.1\n",
      "  Downloading contourpy-1.2.1-cp39-cp39-macosx_11_0_arm64.whl (244 kB)\n",
      "\u001b[K     |████████████████████████████████| 244 kB 1.1 MB/s eta 0:00:01\n",
      "\u001b[?25hCollecting cycler>=0.10\n",
      "  Downloading cycler-0.12.1-py3-none-any.whl (8.3 kB)\n",
      "Requirement already satisfied: python-dateutil>=2.7 in /Users/hasan.mubarok/Library/Python/3.9/lib/python/site-packages (from matplotlib~=3.0->gradio) (2.9.0.post0)\n",
      "Collecting pytz>=2020.1\n",
      "  Downloading pytz-2024.1-py2.py3-none-any.whl (505 kB)\n",
      "\u001b[K     |████████████████████████████████| 505 kB 896 kB/s eta 0:00:01     |████████████████████            | 317 kB 896 kB/s eta 0:00:01\n",
      "\u001b[?25hCollecting tzdata>=2022.7\n",
      "  Downloading tzdata-2024.1-py2.py3-none-any.whl (345 kB)\n",
      "\u001b[K     |████████████████████████████████| 345 kB 1.1 MB/s eta 0:00:01\n",
      "\u001b[?25hCollecting pydantic-core==2.18.1\n",
      "  Downloading pydantic_core-2.18.1-cp39-cp39-macosx_11_0_arm64.whl (1.7 MB)\n",
      "\u001b[K     |████████████████████████████████| 1.7 MB 520 kB/s eta 0:00:01\n",
      "\u001b[?25hCollecting annotated-types>=0.4.0\n",
      "  Downloading annotated_types-0.6.0-py3-none-any.whl (12 kB)\n",
      "Requirement already satisfied: six>=1.5 in /Library/Developer/CommandLineTools/Library/Frameworks/Python3.framework/Versions/3.9/lib/python3.9/site-packages (from python-dateutil>=2.7->matplotlib~=3.0->gradio) (1.15.0)\n",
      "\u001b[33mWARNING: typer 0.12.3 does not provide the extra 'all'\u001b[0m\n",
      "Collecting rich>=10.11.0\n",
      "  Downloading rich-13.7.1-py3-none-any.whl (240 kB)\n",
      "\u001b[K     |████████████████████████████████| 240 kB 653 kB/s eta 0:00:01\n",
      "\u001b[?25hCollecting click>=8.0.0\n",
      "  Downloading click-8.1.7-py3-none-any.whl (97 kB)\n",
      "\u001b[K     |████████████████████████████████| 97 kB 789 kB/s eta 0:00:01\n",
      "\u001b[?25hCollecting shellingham>=1.3.0\n",
      "  Downloading shellingham-1.5.4-py2.py3-none-any.whl (9.8 kB)\n",
      "Collecting markdown-it-py>=2.2.0\n",
      "  Downloading markdown_it_py-3.0.0-py3-none-any.whl (87 kB)\n",
      "\u001b[K     |████████████████████████████████| 87 kB 674 kB/s eta 0:00:01\n",
      "\u001b[?25hRequirement already satisfied: pygments<3.0.0,>=2.13.0 in /Users/hasan.mubarok/Library/Python/3.9/lib/python/site-packages (from rich>=10.11.0->typer[all]<1.0,>=0.9->gradio) (2.17.2)\n",
      "Collecting mdurl~=0.1\n",
      "  Downloading mdurl-0.1.2-py3-none-any.whl (10.0 kB)\n",
      "Requirement already satisfied: exceptiongroup>=1.0.2 in /Users/hasan.mubarok/Library/Python/3.9/lib/python/site-packages (from anyio->httpx>=0.24.1->gradio) (1.2.0)\n",
      "Collecting starlette<0.38.0,>=0.37.2\n",
      "  Downloading starlette-0.37.2-py3-none-any.whl (71 kB)\n",
      "\u001b[K     |████████████████████████████████| 71 kB 391 kB/s eta 0:00:01:01\n",
      "\u001b[?25hRequirement already satisfied: urllib3<3,>=1.21.1 in /Users/hasan.mubarok/Library/Python/3.9/lib/python/site-packages (from requests->huggingface-hub>=0.19.3->gradio) (2.2.1)\n",
      "Requirement already satisfied: charset-normalizer<4,>=2 in /Users/hasan.mubarok/Library/Python/3.9/lib/python/site-packages (from requests->huggingface-hub>=0.19.3->gradio) (3.3.2)\n",
      "Building wheels for collected packages: ffmpy\n",
      "  Building wheel for ffmpy (setup.py) ... \u001b[?25ldone\n",
      "\u001b[?25h  Created wheel for ffmpy: filename=ffmpy-0.3.2-py3-none-any.whl size=5598 sha256=69ce39d9a20c693d874a85f48a4f8151eb490094de274d8f0c1e60c5ca2c2c25\n",
      "  Stored in directory: /Users/hasan.mubarok/Library/Caches/pip/wheels/fd/f6/eb/b42ef38e0c6298906279494f5fcf10aee4b4bd07346b8f900b\n",
      "Successfully built ffmpy\n",
      "Installing collected packages: mdurl, markdown-it-py, tzdata, tqdm, shellingham, rich, pytz, pydantic-core, fsspec, filelock, click, annotated-types, websockets, typer, toolz, starlette, pyparsing, pydantic, pillow, pandas, kiwisolver, importlib-resources, huggingface-hub, fonttools, cycler, contourpy, uvicorn, tomlkit, semantic-version, ruff, python-multipart, pydub, orjson, matplotlib, gradio-client, ffmpy, fastapi, altair, aiofiles, scipy, kaleido, gradio\n",
      "Successfully installed aiofiles-23.2.1 altair-5.3.0 annotated-types-0.6.0 click-8.1.7 contourpy-1.2.1 cycler-0.12.1 fastapi-0.110.1 ffmpy-0.3.2 filelock-3.13.4 fonttools-4.51.0 fsspec-2024.3.1 gradio-4.26.0 gradio-client-0.15.1 huggingface-hub-0.22.2 importlib-resources-6.4.0 kaleido-0.2.1 kiwisolver-1.4.5 markdown-it-py-3.0.0 matplotlib-3.8.4 mdurl-0.1.2 orjson-3.10.0 pandas-2.2.1 pillow-10.3.0 pydantic-2.7.0 pydantic-core-2.18.1 pydub-0.25.1 pyparsing-3.1.2 python-multipart-0.0.9 pytz-2024.1 rich-13.7.1 ruff-0.3.7 scipy-1.13.0 semantic-version-2.10.0 shellingham-1.5.4 starlette-0.37.2 tomlkit-0.12.0 toolz-0.12.1 tqdm-4.66.2 typer-0.12.3 tzdata-2024.1 uvicorn-0.29.0 websockets-11.0.3\n",
      "\u001b[33mWARNING: You are using pip version 21.2.4; however, version 24.0 is available.\n",
      "You should consider upgrading via the '/Library/Developer/CommandLineTools/usr/bin/python3 -m pip install --upgrade pip' command.\u001b[0m\n"
     ]
    }
   ],
   "source": [
    "!pip3 install gradio kaleido scipy"
   ]
  },
  {
   "cell_type": "code",
   "execution_count": 1,
   "id": "87e205d8-1eec-4e6e-9018-4f9b15879c72",
   "metadata": {},
   "outputs": [
    {
     "name": "stderr",
     "output_type": "stream",
     "text": [
      "/Users/hasan.mubarok/Library/Python/3.9/lib/python/site-packages/urllib3/__init__.py:35: NotOpenSSLWarning: urllib3 v2 only supports OpenSSL 1.1.1+, currently the 'ssl' module is compiled with 'LibreSSL 2.8.3'. See: https://github.com/urllib3/urllib3/issues/3020\n",
      "  warnings.warn(\n"
     ]
    },
    {
     "name": "stdout",
     "output_type": "stream",
     "text": [
      "Running on local URL:  http://127.0.0.1:7860\n",
      "\n",
      "To create a public link, set `share=True` in `launch()`.\n"
     ]
    },
    {
     "data": {
      "text/html": [
       "<div><iframe src=\"http://127.0.0.1:7860/\" width=\"100%\" height=\"500\" allow=\"autoplay; camera; microphone; clipboard-read; clipboard-write;\" frameborder=\"0\" allowfullscreen></iframe></div>"
      ],
      "text/plain": [
       "<IPython.core.display.HTML object>"
      ]
     },
     "metadata": {},
     "output_type": "display_data"
    },
    {
     "data": {
      "text/plain": []
     },
     "execution_count": 1,
     "metadata": {},
     "output_type": "execute_result"
    }
   ],
   "source": [
    "# @title #### Arithmetic mean calculator\n",
    "import gradio as gr\n",
    "import numpy as np\n",
    "\n",
    "def calculate_mean(numbers):\n",
    "    numbers = [float(num) for num in numbers.split(',')]\n",
    "    return np.mean(numbers)\n",
    "\n",
    "iface = gr.Interface(\n",
    "                     title=\"Arithmetic mean calculator\",\n",
    "                     fn=calculate_mean,\n",
    "                     inputs=\"text\",\n",
    "                     outputs=gr.Label(label=\"Mean\"),\n",
    "                     examples=[['23,45,67,89'], ['12,34,56'], ['11,22,33,44,55']])\n",
    "iface.launch()"
   ]
  },
  {
   "cell_type": "code",
   "execution_count": 4,
   "id": "d41ab14c-ebe2-4d1f-8f00-19bd1c848a42",
   "metadata": {},
   "outputs": [
    {
     "name": "stdout",
     "output_type": "stream",
     "text": [
      "Defaulting to user installation because normal site-packages is not writeable\n",
      "Requirement already satisfied: gradio in /Users/hasan.mubarok/Library/Python/3.9/lib/python/site-packages (4.26.0)\n",
      "Requirement already satisfied: kaleido in /Users/hasan.mubarok/Library/Python/3.9/lib/python/site-packages (0.2.1)\n",
      "Collecting plotly\n",
      "  Downloading plotly-5.20.0-py3-none-any.whl (15.7 MB)\n",
      "\u001b[K     |████████████████████████████████| 15.7 MB 4.5 MB/s eta 0:00:01    |█                               | 481 kB 2.8 MB/s eta 0:00:06     |███████                         | 3.4 MB 2.8 MB/s eta 0:00:05     |█████████▎                      | 4.6 MB 2.8 MB/s eta 0:00:05     |██████████▌                     | 5.2 MB 2.8 MB/s eta 0:00:04     |███████████                     | 5.4 MB 2.8 MB/s eta 0:00:04     |████████████▎                   | 6.0 MB 1.9 MB/s eta 0:00:05     |████████████████▊               | 8.2 MB 1.9 MB/s eta 0:00:04     |██████████████████              | 8.8 MB 3.5 MB/s eta 0:00:02     |██████████████████████          | 10.8 MB 3.5 MB/s eta 0:00:02     |██████████████████████████████▍ | 14.9 MB 4.5 MB/s eta 0:00:01     |███████████████████████████████▍| 15.4 MB 4.5 MB/s eta 0:00:01\n",
      "\u001b[?25hRequirement already satisfied: pydantic>=2.0 in /Users/hasan.mubarok/Library/Python/3.9/lib/python/site-packages (from gradio) (2.7.0)\n",
      "Requirement already satisfied: semantic-version~=2.0 in /Users/hasan.mubarok/Library/Python/3.9/lib/python/site-packages (from gradio) (2.10.0)\n",
      "Requirement already satisfied: jinja2<4.0 in /Users/hasan.mubarok/Library/Python/3.9/lib/python/site-packages (from gradio) (3.1.3)\n",
      "Requirement already satisfied: python-multipart>=0.0.9 in /Users/hasan.mubarok/Library/Python/3.9/lib/python/site-packages (from gradio) (0.0.9)\n",
      "Requirement already satisfied: typer[all]<1.0,>=0.9 in /Users/hasan.mubarok/Library/Python/3.9/lib/python/site-packages (from gradio) (0.12.3)\n",
      "Requirement already satisfied: packaging in /Users/hasan.mubarok/Library/Python/3.9/lib/python/site-packages (from gradio) (24.0)\n",
      "Requirement already satisfied: altair<6.0,>=4.2.0 in /Users/hasan.mubarok/Library/Python/3.9/lib/python/site-packages (from gradio) (5.3.0)\n",
      "Requirement already satisfied: numpy~=1.0 in /Users/hasan.mubarok/Library/Python/3.9/lib/python/site-packages (from gradio) (1.26.4)\n",
      "Requirement already satisfied: huggingface-hub>=0.19.3 in /Users/hasan.mubarok/Library/Python/3.9/lib/python/site-packages (from gradio) (0.22.2)\n",
      "Requirement already satisfied: matplotlib~=3.0 in /Users/hasan.mubarok/Library/Python/3.9/lib/python/site-packages (from gradio) (3.8.4)\n",
      "Requirement already satisfied: pillow<11.0,>=8.0 in /Users/hasan.mubarok/Library/Python/3.9/lib/python/site-packages (from gradio) (10.3.0)\n",
      "Requirement already satisfied: pyyaml<7.0,>=5.0 in /Users/hasan.mubarok/Library/Python/3.9/lib/python/site-packages (from gradio) (6.0.1)\n",
      "Requirement already satisfied: pandas<3.0,>=1.0 in /Users/hasan.mubarok/Library/Python/3.9/lib/python/site-packages (from gradio) (2.2.1)\n",
      "Requirement already satisfied: ffmpy in /Users/hasan.mubarok/Library/Python/3.9/lib/python/site-packages (from gradio) (0.3.2)\n",
      "Requirement already satisfied: typing-extensions~=4.0 in /Users/hasan.mubarok/Library/Python/3.9/lib/python/site-packages (from gradio) (4.10.0)\n",
      "Requirement already satisfied: orjson~=3.0 in /Users/hasan.mubarok/Library/Python/3.9/lib/python/site-packages (from gradio) (3.10.0)\n",
      "Requirement already satisfied: importlib-resources<7.0,>=1.3 in /Users/hasan.mubarok/Library/Python/3.9/lib/python/site-packages (from gradio) (6.4.0)\n",
      "Requirement already satisfied: httpx>=0.24.1 in /Users/hasan.mubarok/Library/Python/3.9/lib/python/site-packages (from gradio) (0.27.0)\n",
      "Requirement already satisfied: pydub in /Users/hasan.mubarok/Library/Python/3.9/lib/python/site-packages (from gradio) (0.25.1)\n",
      "Requirement already satisfied: fastapi in /Users/hasan.mubarok/Library/Python/3.9/lib/python/site-packages (from gradio) (0.110.1)\n",
      "Requirement already satisfied: tomlkit==0.12.0 in /Users/hasan.mubarok/Library/Python/3.9/lib/python/site-packages (from gradio) (0.12.0)\n",
      "Requirement already satisfied: gradio-client==0.15.1 in /Users/hasan.mubarok/Library/Python/3.9/lib/python/site-packages (from gradio) (0.15.1)\n",
      "Requirement already satisfied: markupsafe~=2.0 in /Users/hasan.mubarok/Library/Python/3.9/lib/python/site-packages (from gradio) (2.1.5)\n",
      "Requirement already satisfied: uvicorn>=0.14.0 in /Users/hasan.mubarok/Library/Python/3.9/lib/python/site-packages (from gradio) (0.29.0)\n",
      "Requirement already satisfied: aiofiles<24.0,>=22.0 in /Users/hasan.mubarok/Library/Python/3.9/lib/python/site-packages (from gradio) (23.2.1)\n",
      "Requirement already satisfied: ruff>=0.2.2 in /Users/hasan.mubarok/Library/Python/3.9/lib/python/site-packages (from gradio) (0.3.7)\n",
      "Requirement already satisfied: websockets<12.0,>=10.0 in /Users/hasan.mubarok/Library/Python/3.9/lib/python/site-packages (from gradio-client==0.15.1->gradio) (11.0.3)\n",
      "Requirement already satisfied: fsspec in /Users/hasan.mubarok/Library/Python/3.9/lib/python/site-packages (from gradio-client==0.15.1->gradio) (2024.3.1)\n",
      "Collecting tenacity>=6.2.0\n",
      "  Downloading tenacity-8.2.3-py3-none-any.whl (24 kB)\n",
      "Requirement already satisfied: jsonschema>=3.0 in /Users/hasan.mubarok/Library/Python/3.9/lib/python/site-packages (from altair<6.0,>=4.2.0->gradio) (4.21.1)\n",
      "Requirement already satisfied: toolz in /Users/hasan.mubarok/Library/Python/3.9/lib/python/site-packages (from altair<6.0,>=4.2.0->gradio) (0.12.1)\n",
      "Requirement already satisfied: anyio in /Users/hasan.mubarok/Library/Python/3.9/lib/python/site-packages (from httpx>=0.24.1->gradio) (4.3.0)\n",
      "Requirement already satisfied: certifi in /Users/hasan.mubarok/Library/Python/3.9/lib/python/site-packages (from httpx>=0.24.1->gradio) (2024.2.2)\n",
      "Requirement already satisfied: idna in /Users/hasan.mubarok/Library/Python/3.9/lib/python/site-packages (from httpx>=0.24.1->gradio) (3.6)\n",
      "Requirement already satisfied: sniffio in /Users/hasan.mubarok/Library/Python/3.9/lib/python/site-packages (from httpx>=0.24.1->gradio) (1.3.1)\n",
      "Requirement already satisfied: httpcore==1.* in /Users/hasan.mubarok/Library/Python/3.9/lib/python/site-packages (from httpx>=0.24.1->gradio) (1.0.4)\n",
      "Requirement already satisfied: h11<0.15,>=0.13 in /Users/hasan.mubarok/Library/Python/3.9/lib/python/site-packages (from httpcore==1.*->httpx>=0.24.1->gradio) (0.14.0)\n",
      "Requirement already satisfied: tqdm>=4.42.1 in /Users/hasan.mubarok/Library/Python/3.9/lib/python/site-packages (from huggingface-hub>=0.19.3->gradio) (4.66.2)\n",
      "Requirement already satisfied: filelock in /Users/hasan.mubarok/Library/Python/3.9/lib/python/site-packages (from huggingface-hub>=0.19.3->gradio) (3.13.4)\n",
      "Requirement already satisfied: requests in /Users/hasan.mubarok/Library/Python/3.9/lib/python/site-packages (from huggingface-hub>=0.19.3->gradio) (2.31.0)\n",
      "Requirement already satisfied: zipp>=3.1.0 in /Users/hasan.mubarok/Library/Python/3.9/lib/python/site-packages (from importlib-resources<7.0,>=1.3->gradio) (3.18.1)\n",
      "Requirement already satisfied: referencing>=0.28.4 in /Users/hasan.mubarok/Library/Python/3.9/lib/python/site-packages (from jsonschema>=3.0->altair<6.0,>=4.2.0->gradio) (0.34.0)\n",
      "Requirement already satisfied: rpds-py>=0.7.1 in /Users/hasan.mubarok/Library/Python/3.9/lib/python/site-packages (from jsonschema>=3.0->altair<6.0,>=4.2.0->gradio) (0.18.0)\n",
      "Requirement already satisfied: attrs>=22.2.0 in /Users/hasan.mubarok/Library/Python/3.9/lib/python/site-packages (from jsonschema>=3.0->altair<6.0,>=4.2.0->gradio) (23.2.0)\n",
      "Requirement already satisfied: jsonschema-specifications>=2023.03.6 in /Users/hasan.mubarok/Library/Python/3.9/lib/python/site-packages (from jsonschema>=3.0->altair<6.0,>=4.2.0->gradio) (2023.12.1)\n",
      "Requirement already satisfied: python-dateutil>=2.7 in /Users/hasan.mubarok/Library/Python/3.9/lib/python/site-packages (from matplotlib~=3.0->gradio) (2.9.0.post0)\n",
      "Requirement already satisfied: fonttools>=4.22.0 in /Users/hasan.mubarok/Library/Python/3.9/lib/python/site-packages (from matplotlib~=3.0->gradio) (4.51.0)\n",
      "Requirement already satisfied: kiwisolver>=1.3.1 in /Users/hasan.mubarok/Library/Python/3.9/lib/python/site-packages (from matplotlib~=3.0->gradio) (1.4.5)\n",
      "Requirement already satisfied: pyparsing>=2.3.1 in /Users/hasan.mubarok/Library/Python/3.9/lib/python/site-packages (from matplotlib~=3.0->gradio) (3.1.2)\n",
      "Requirement already satisfied: contourpy>=1.0.1 in /Users/hasan.mubarok/Library/Python/3.9/lib/python/site-packages (from matplotlib~=3.0->gradio) (1.2.1)\n",
      "Requirement already satisfied: cycler>=0.10 in /Users/hasan.mubarok/Library/Python/3.9/lib/python/site-packages (from matplotlib~=3.0->gradio) (0.12.1)\n",
      "Requirement already satisfied: pytz>=2020.1 in /Users/hasan.mubarok/Library/Python/3.9/lib/python/site-packages (from pandas<3.0,>=1.0->gradio) (2024.1)\n",
      "Requirement already satisfied: tzdata>=2022.7 in /Users/hasan.mubarok/Library/Python/3.9/lib/python/site-packages (from pandas<3.0,>=1.0->gradio) (2024.1)\n",
      "Requirement already satisfied: annotated-types>=0.4.0 in /Users/hasan.mubarok/Library/Python/3.9/lib/python/site-packages (from pydantic>=2.0->gradio) (0.6.0)\n",
      "Requirement already satisfied: pydantic-core==2.18.1 in /Users/hasan.mubarok/Library/Python/3.9/lib/python/site-packages (from pydantic>=2.0->gradio) (2.18.1)\n",
      "Requirement already satisfied: six>=1.5 in /Library/Developer/CommandLineTools/Library/Frameworks/Python3.framework/Versions/3.9/lib/python3.9/site-packages (from python-dateutil>=2.7->matplotlib~=3.0->gradio) (1.15.0)\n",
      "\u001b[33mWARNING: typer 0.12.3 does not provide the extra 'all'\u001b[0m\n",
      "Requirement already satisfied: shellingham>=1.3.0 in /Users/hasan.mubarok/Library/Python/3.9/lib/python/site-packages (from typer[all]<1.0,>=0.9->gradio) (1.5.4)\n",
      "Requirement already satisfied: click>=8.0.0 in /Users/hasan.mubarok/Library/Python/3.9/lib/python/site-packages (from typer[all]<1.0,>=0.9->gradio) (8.1.7)\n",
      "Requirement already satisfied: rich>=10.11.0 in /Users/hasan.mubarok/Library/Python/3.9/lib/python/site-packages (from typer[all]<1.0,>=0.9->gradio) (13.7.1)\n",
      "Requirement already satisfied: pygments<3.0.0,>=2.13.0 in /Users/hasan.mubarok/Library/Python/3.9/lib/python/site-packages (from rich>=10.11.0->typer[all]<1.0,>=0.9->gradio) (2.17.2)\n",
      "Requirement already satisfied: markdown-it-py>=2.2.0 in /Users/hasan.mubarok/Library/Python/3.9/lib/python/site-packages (from rich>=10.11.0->typer[all]<1.0,>=0.9->gradio) (3.0.0)\n",
      "Requirement already satisfied: mdurl~=0.1 in /Users/hasan.mubarok/Library/Python/3.9/lib/python/site-packages (from markdown-it-py>=2.2.0->rich>=10.11.0->typer[all]<1.0,>=0.9->gradio) (0.1.2)\n",
      "Requirement already satisfied: exceptiongroup>=1.0.2 in /Users/hasan.mubarok/Library/Python/3.9/lib/python/site-packages (from anyio->httpx>=0.24.1->gradio) (1.2.0)\n",
      "Requirement already satisfied: starlette<0.38.0,>=0.37.2 in /Users/hasan.mubarok/Library/Python/3.9/lib/python/site-packages (from fastapi->gradio) (0.37.2)\n",
      "Requirement already satisfied: urllib3<3,>=1.21.1 in /Users/hasan.mubarok/Library/Python/3.9/lib/python/site-packages (from requests->huggingface-hub>=0.19.3->gradio) (2.2.1)\n",
      "Requirement already satisfied: charset-normalizer<4,>=2 in /Users/hasan.mubarok/Library/Python/3.9/lib/python/site-packages (from requests->huggingface-hub>=0.19.3->gradio) (3.3.2)\n",
      "Installing collected packages: tenacity, plotly\n",
      "Successfully installed plotly-5.20.0 tenacity-8.2.3\n",
      "\u001b[33mWARNING: You are using pip version 21.2.4; however, version 24.0 is available.\n",
      "You should consider upgrading via the '/Library/Developer/CommandLineTools/usr/bin/python3 -m pip install --upgrade pip' command.\u001b[0m\n",
      "Running on local URL:  http://127.0.0.1:7861\n",
      "\n",
      "To create a public link, set `share=True` in `launch()`.\n"
     ]
    },
    {
     "data": {
      "text/html": [
       "<div><iframe src=\"http://127.0.0.1:7861/\" width=\"100%\" height=\"500\" allow=\"autoplay; camera; microphone; clipboard-read; clipboard-write;\" frameborder=\"0\" allowfullscreen></iframe></div>"
      ],
      "text/plain": [
       "<IPython.core.display.HTML object>"
      ]
     },
     "metadata": {},
     "output_type": "display_data"
    }
   ],
   "source": [
    "!pip3 install -U gradio kaleido plotly\n",
    "\n",
    "# @title #### Calculate mean and plot bar chart\n",
    "import warnings\n",
    "warnings.filterwarnings('ignore', category=UserWarning, module='gradio')\n",
    "import plotly.graph_objects as go\n",
    "import gradio as gr\n",
    "import plotly.io as pio\n",
    "from PIL import Image\n",
    "import io\n",
    "\n",
    "# Function to calculate mean and plot bar chart\n",
    "def interactive_plot(num_days, day1=0, day2=0, day3=0, day4=0, day5=0, day6=0, day7=0, sort_data=False):\n",
    "    num_days = int(num_days)  # Convert num_days to integer\n",
    "    days = [day1, day2, day3, day4, day5, day6, day7][:num_days]\n",
    "    days_names = ['day1', 'day2', 'day3', 'day4', 'day5', 'day6', 'day7'][:num_days]\n",
    "\n",
    "    if sort_data:\n",
    "        days, days_names = zip(*sorted(zip(days, days_names), key=lambda pair: pair[0]))\n",
    "\n",
    "    # Calculate the mean\n",
    "    mean_day = sum(days) / len(days)\n",
    "\n",
    "    # Create a bar chart\n",
    "    fig = go.Figure(data=go.Bar(y=days, x=days_names, name='days'))\n",
    "\n",
    "    # Add a horizontal line for the mean\n",
    "    fig.add_trace(go.Scatter(\n",
    "        x=[days_names[0], days_names[-1]],\n",
    "        y=[mean_day, mean_day],\n",
    "        mode='lines',\n",
    "        name=f'Mean: {mean_day:.2f}',\n",
    "        line=dict(color='Red', width=1, dash='dash')\n",
    "    ))\n",
    "\n",
    "    # Add labels for x and y axis\n",
    "    fig.update_layout(\n",
    "        xaxis_title=\"Days\",\n",
    "        yaxis_title=\"Number of loaves sold\",\n",
    "        font=dict(\n",
    "            size=14,\n",
    "        ),\n",
    "        legend=dict(\n",
    "            yanchor=\"top\",\n",
    "            y=1.2,\n",
    "            xanchor=\"center\",\n",
    "            x=0.5\n",
    "        )\n",
    "    )\n",
    "\n",
    "    # Convert the figure to PNG image\n",
    "    png_image = pio.to_image(fig, format='png')\n",
    "\n",
    "    # Create a PIL Image object for Gradio Output\n",
    "    image = Image.open(io.BytesIO(png_image))\n",
    "\n",
    "    return image\n",
    "\n",
    "# Create Gradio interface\n",
    "iface = gr.Interface(\n",
    "    title='Interactive Mean Plot Mean',\n",
    "    description='Interactive plot of the mean of 7 days',\n",
    "    live=True,\n",
    "    fn=interactive_plot,\n",
    "    inputs=[\n",
    "        gr.Dropdown(choices=[1, 2, 3, 4, 5, 6, 7], label=\"Number of days to use\", value=\"7\"),\n",
    "        gr.Slider(minimum=0, maximum=100, step=1, value=72),\n",
    "        gr.Slider(minimum=0, maximum=100, step=1, value=64),\n",
    "        gr.Slider(minimum=0, maximum=100, step=1, value=78),\n",
    "        gr.Slider(minimum=0, maximum=100, step=1, value=84),\n",
    "        gr.Slider(minimum=0, maximum=100, step=1, value=70),\n",
    "        gr.Slider(minimum=0, maximum=100, step=1, value=76),\n",
    "        gr.Slider(minimum=0, maximum=100, step=1, value=82),\n",
    "        gr.Checkbox(label=\"Sort data\")\n",
    "    ],\n",
    "    outputs=gr.Image(type='pil'),\n",
    "    examples=[\n",
    "        [7, 30, 35, 40, 45, 80, 90, 100], # Weekend Surge\n",
    "        [7, 80, 75, 30, 35, 75, 85, 90], # Midweek Drop\n",
    "        [7, 50, 70, 30, 90, 60, 40, 80], # Random Distribution\n",
    "        [7, 10, 20, 30, 40, 50, 60, 70], # Constant Growth\n",
    "        [7, 70, 60, 50, 40, 30, 20, 10], # Constant Decline\n",
    "    ]\n",
    ")\n",
    "\n",
    "iface.launch();"
   ]
  },
  {
   "cell_type": "code",
   "execution_count": 9,
   "id": "f1eca549-8e75-4864-9e60-645a00441b8e",
   "metadata": {},
   "outputs": [
    {
     "data": {
      "application/vnd.plotly.v1+json": {
       "config": {
        "plotlyServerURL": "https://plot.ly"
       },
       "data": [
        {
         "name": "Salaries",
         "type": "bar",
         "x": [
          "CEO",
          "Employee 1",
          "Employee 2",
          "Employee 3",
          "Employee 4",
          "Employee 5",
          "Employee 6",
          "Employee 7",
          "Employee 8",
          "Employee 9"
         ],
         "y": [
          1000000,
          13000,
          19000,
          10000,
          18000,
          16000,
          13000,
          19000,
          10000,
          19000
         ]
        },
        {
         "line": {
          "color": "Red",
          "dash": "dash",
          "width": 1
         },
         "mode": "lines",
         "name": "Mean: 113700.00",
         "type": "scatter",
         "x": [
          "CEO",
          "Employee 9"
         ],
         "y": [
          113700,
          113700
         ]
        }
       ],
       "layout": {
        "font": {
         "size": 14
        },
        "legend": {
         "x": 0.5,
         "xanchor": "center",
         "y": 1.2,
         "yanchor": "top"
        },
        "template": {
         "data": {
          "bar": [
           {
            "error_x": {
             "color": "#2a3f5f"
            },
            "error_y": {
             "color": "#2a3f5f"
            },
            "marker": {
             "line": {
              "color": "#E5ECF6",
              "width": 0.5
             },
             "pattern": {
              "fillmode": "overlay",
              "size": 10,
              "solidity": 0.2
             }
            },
            "type": "bar"
           }
          ],
          "barpolar": [
           {
            "marker": {
             "line": {
              "color": "#E5ECF6",
              "width": 0.5
             },
             "pattern": {
              "fillmode": "overlay",
              "size": 10,
              "solidity": 0.2
             }
            },
            "type": "barpolar"
           }
          ],
          "carpet": [
           {
            "aaxis": {
             "endlinecolor": "#2a3f5f",
             "gridcolor": "white",
             "linecolor": "white",
             "minorgridcolor": "white",
             "startlinecolor": "#2a3f5f"
            },
            "baxis": {
             "endlinecolor": "#2a3f5f",
             "gridcolor": "white",
             "linecolor": "white",
             "minorgridcolor": "white",
             "startlinecolor": "#2a3f5f"
            },
            "type": "carpet"
           }
          ],
          "choropleth": [
           {
            "colorbar": {
             "outlinewidth": 0,
             "ticks": ""
            },
            "type": "choropleth"
           }
          ],
          "contour": [
           {
            "colorbar": {
             "outlinewidth": 0,
             "ticks": ""
            },
            "colorscale": [
             [
              0,
              "#0d0887"
             ],
             [
              0.1111111111111111,
              "#46039f"
             ],
             [
              0.2222222222222222,
              "#7201a8"
             ],
             [
              0.3333333333333333,
              "#9c179e"
             ],
             [
              0.4444444444444444,
              "#bd3786"
             ],
             [
              0.5555555555555556,
              "#d8576b"
             ],
             [
              0.6666666666666666,
              "#ed7953"
             ],
             [
              0.7777777777777778,
              "#fb9f3a"
             ],
             [
              0.8888888888888888,
              "#fdca26"
             ],
             [
              1,
              "#f0f921"
             ]
            ],
            "type": "contour"
           }
          ],
          "contourcarpet": [
           {
            "colorbar": {
             "outlinewidth": 0,
             "ticks": ""
            },
            "type": "contourcarpet"
           }
          ],
          "heatmap": [
           {
            "colorbar": {
             "outlinewidth": 0,
             "ticks": ""
            },
            "colorscale": [
             [
              0,
              "#0d0887"
             ],
             [
              0.1111111111111111,
              "#46039f"
             ],
             [
              0.2222222222222222,
              "#7201a8"
             ],
             [
              0.3333333333333333,
              "#9c179e"
             ],
             [
              0.4444444444444444,
              "#bd3786"
             ],
             [
              0.5555555555555556,
              "#d8576b"
             ],
             [
              0.6666666666666666,
              "#ed7953"
             ],
             [
              0.7777777777777778,
              "#fb9f3a"
             ],
             [
              0.8888888888888888,
              "#fdca26"
             ],
             [
              1,
              "#f0f921"
             ]
            ],
            "type": "heatmap"
           }
          ],
          "heatmapgl": [
           {
            "colorbar": {
             "outlinewidth": 0,
             "ticks": ""
            },
            "colorscale": [
             [
              0,
              "#0d0887"
             ],
             [
              0.1111111111111111,
              "#46039f"
             ],
             [
              0.2222222222222222,
              "#7201a8"
             ],
             [
              0.3333333333333333,
              "#9c179e"
             ],
             [
              0.4444444444444444,
              "#bd3786"
             ],
             [
              0.5555555555555556,
              "#d8576b"
             ],
             [
              0.6666666666666666,
              "#ed7953"
             ],
             [
              0.7777777777777778,
              "#fb9f3a"
             ],
             [
              0.8888888888888888,
              "#fdca26"
             ],
             [
              1,
              "#f0f921"
             ]
            ],
            "type": "heatmapgl"
           }
          ],
          "histogram": [
           {
            "marker": {
             "pattern": {
              "fillmode": "overlay",
              "size": 10,
              "solidity": 0.2
             }
            },
            "type": "histogram"
           }
          ],
          "histogram2d": [
           {
            "colorbar": {
             "outlinewidth": 0,
             "ticks": ""
            },
            "colorscale": [
             [
              0,
              "#0d0887"
             ],
             [
              0.1111111111111111,
              "#46039f"
             ],
             [
              0.2222222222222222,
              "#7201a8"
             ],
             [
              0.3333333333333333,
              "#9c179e"
             ],
             [
              0.4444444444444444,
              "#bd3786"
             ],
             [
              0.5555555555555556,
              "#d8576b"
             ],
             [
              0.6666666666666666,
              "#ed7953"
             ],
             [
              0.7777777777777778,
              "#fb9f3a"
             ],
             [
              0.8888888888888888,
              "#fdca26"
             ],
             [
              1,
              "#f0f921"
             ]
            ],
            "type": "histogram2d"
           }
          ],
          "histogram2dcontour": [
           {
            "colorbar": {
             "outlinewidth": 0,
             "ticks": ""
            },
            "colorscale": [
             [
              0,
              "#0d0887"
             ],
             [
              0.1111111111111111,
              "#46039f"
             ],
             [
              0.2222222222222222,
              "#7201a8"
             ],
             [
              0.3333333333333333,
              "#9c179e"
             ],
             [
              0.4444444444444444,
              "#bd3786"
             ],
             [
              0.5555555555555556,
              "#d8576b"
             ],
             [
              0.6666666666666666,
              "#ed7953"
             ],
             [
              0.7777777777777778,
              "#fb9f3a"
             ],
             [
              0.8888888888888888,
              "#fdca26"
             ],
             [
              1,
              "#f0f921"
             ]
            ],
            "type": "histogram2dcontour"
           }
          ],
          "mesh3d": [
           {
            "colorbar": {
             "outlinewidth": 0,
             "ticks": ""
            },
            "type": "mesh3d"
           }
          ],
          "parcoords": [
           {
            "line": {
             "colorbar": {
              "outlinewidth": 0,
              "ticks": ""
             }
            },
            "type": "parcoords"
           }
          ],
          "pie": [
           {
            "automargin": true,
            "type": "pie"
           }
          ],
          "scatter": [
           {
            "fillpattern": {
             "fillmode": "overlay",
             "size": 10,
             "solidity": 0.2
            },
            "type": "scatter"
           }
          ],
          "scatter3d": [
           {
            "line": {
             "colorbar": {
              "outlinewidth": 0,
              "ticks": ""
             }
            },
            "marker": {
             "colorbar": {
              "outlinewidth": 0,
              "ticks": ""
             }
            },
            "type": "scatter3d"
           }
          ],
          "scattercarpet": [
           {
            "marker": {
             "colorbar": {
              "outlinewidth": 0,
              "ticks": ""
             }
            },
            "type": "scattercarpet"
           }
          ],
          "scattergeo": [
           {
            "marker": {
             "colorbar": {
              "outlinewidth": 0,
              "ticks": ""
             }
            },
            "type": "scattergeo"
           }
          ],
          "scattergl": [
           {
            "marker": {
             "colorbar": {
              "outlinewidth": 0,
              "ticks": ""
             }
            },
            "type": "scattergl"
           }
          ],
          "scattermapbox": [
           {
            "marker": {
             "colorbar": {
              "outlinewidth": 0,
              "ticks": ""
             }
            },
            "type": "scattermapbox"
           }
          ],
          "scatterpolar": [
           {
            "marker": {
             "colorbar": {
              "outlinewidth": 0,
              "ticks": ""
             }
            },
            "type": "scatterpolar"
           }
          ],
          "scatterpolargl": [
           {
            "marker": {
             "colorbar": {
              "outlinewidth": 0,
              "ticks": ""
             }
            },
            "type": "scatterpolargl"
           }
          ],
          "scatterternary": [
           {
            "marker": {
             "colorbar": {
              "outlinewidth": 0,
              "ticks": ""
             }
            },
            "type": "scatterternary"
           }
          ],
          "surface": [
           {
            "colorbar": {
             "outlinewidth": 0,
             "ticks": ""
            },
            "colorscale": [
             [
              0,
              "#0d0887"
             ],
             [
              0.1111111111111111,
              "#46039f"
             ],
             [
              0.2222222222222222,
              "#7201a8"
             ],
             [
              0.3333333333333333,
              "#9c179e"
             ],
             [
              0.4444444444444444,
              "#bd3786"
             ],
             [
              0.5555555555555556,
              "#d8576b"
             ],
             [
              0.6666666666666666,
              "#ed7953"
             ],
             [
              0.7777777777777778,
              "#fb9f3a"
             ],
             [
              0.8888888888888888,
              "#fdca26"
             ],
             [
              1,
              "#f0f921"
             ]
            ],
            "type": "surface"
           }
          ],
          "table": [
           {
            "cells": {
             "fill": {
              "color": "#EBF0F8"
             },
             "line": {
              "color": "white"
             }
            },
            "header": {
             "fill": {
              "color": "#C8D4E3"
             },
             "line": {
              "color": "white"
             }
            },
            "type": "table"
           }
          ]
         },
         "layout": {
          "annotationdefaults": {
           "arrowcolor": "#2a3f5f",
           "arrowhead": 0,
           "arrowwidth": 1
          },
          "autotypenumbers": "strict",
          "coloraxis": {
           "colorbar": {
            "outlinewidth": 0,
            "ticks": ""
           }
          },
          "colorscale": {
           "diverging": [
            [
             0,
             "#8e0152"
            ],
            [
             0.1,
             "#c51b7d"
            ],
            [
             0.2,
             "#de77ae"
            ],
            [
             0.3,
             "#f1b6da"
            ],
            [
             0.4,
             "#fde0ef"
            ],
            [
             0.5,
             "#f7f7f7"
            ],
            [
             0.6,
             "#e6f5d0"
            ],
            [
             0.7,
             "#b8e186"
            ],
            [
             0.8,
             "#7fbc41"
            ],
            [
             0.9,
             "#4d9221"
            ],
            [
             1,
             "#276419"
            ]
           ],
           "sequential": [
            [
             0,
             "#0d0887"
            ],
            [
             0.1111111111111111,
             "#46039f"
            ],
            [
             0.2222222222222222,
             "#7201a8"
            ],
            [
             0.3333333333333333,
             "#9c179e"
            ],
            [
             0.4444444444444444,
             "#bd3786"
            ],
            [
             0.5555555555555556,
             "#d8576b"
            ],
            [
             0.6666666666666666,
             "#ed7953"
            ],
            [
             0.7777777777777778,
             "#fb9f3a"
            ],
            [
             0.8888888888888888,
             "#fdca26"
            ],
            [
             1,
             "#f0f921"
            ]
           ],
           "sequentialminus": [
            [
             0,
             "#0d0887"
            ],
            [
             0.1111111111111111,
             "#46039f"
            ],
            [
             0.2222222222222222,
             "#7201a8"
            ],
            [
             0.3333333333333333,
             "#9c179e"
            ],
            [
             0.4444444444444444,
             "#bd3786"
            ],
            [
             0.5555555555555556,
             "#d8576b"
            ],
            [
             0.6666666666666666,
             "#ed7953"
            ],
            [
             0.7777777777777778,
             "#fb9f3a"
            ],
            [
             0.8888888888888888,
             "#fdca26"
            ],
            [
             1,
             "#f0f921"
            ]
           ]
          },
          "colorway": [
           "#636efa",
           "#EF553B",
           "#00cc96",
           "#ab63fa",
           "#FFA15A",
           "#19d3f3",
           "#FF6692",
           "#B6E880",
           "#FF97FF",
           "#FECB52"
          ],
          "font": {
           "color": "#2a3f5f"
          },
          "geo": {
           "bgcolor": "white",
           "lakecolor": "white",
           "landcolor": "#E5ECF6",
           "showlakes": true,
           "showland": true,
           "subunitcolor": "white"
          },
          "hoverlabel": {
           "align": "left"
          },
          "hovermode": "closest",
          "mapbox": {
           "style": "light"
          },
          "paper_bgcolor": "white",
          "plot_bgcolor": "#E5ECF6",
          "polar": {
           "angularaxis": {
            "gridcolor": "white",
            "linecolor": "white",
            "ticks": ""
           },
           "bgcolor": "#E5ECF6",
           "radialaxis": {
            "gridcolor": "white",
            "linecolor": "white",
            "ticks": ""
           }
          },
          "scene": {
           "xaxis": {
            "backgroundcolor": "#E5ECF6",
            "gridcolor": "white",
            "gridwidth": 2,
            "linecolor": "white",
            "showbackground": true,
            "ticks": "",
            "zerolinecolor": "white"
           },
           "yaxis": {
            "backgroundcolor": "#E5ECF6",
            "gridcolor": "white",
            "gridwidth": 2,
            "linecolor": "white",
            "showbackground": true,
            "ticks": "",
            "zerolinecolor": "white"
           },
           "zaxis": {
            "backgroundcolor": "#E5ECF6",
            "gridcolor": "white",
            "gridwidth": 2,
            "linecolor": "white",
            "showbackground": true,
            "ticks": "",
            "zerolinecolor": "white"
           }
          },
          "shapedefaults": {
           "line": {
            "color": "#2a3f5f"
           }
          },
          "ternary": {
           "aaxis": {
            "gridcolor": "white",
            "linecolor": "white",
            "ticks": ""
           },
           "baxis": {
            "gridcolor": "white",
            "linecolor": "white",
            "ticks": ""
           },
           "bgcolor": "#E5ECF6",
           "caxis": {
            "gridcolor": "white",
            "linecolor": "white",
            "ticks": ""
           }
          },
          "title": {
           "x": 0.05
          },
          "xaxis": {
           "automargin": true,
           "gridcolor": "white",
           "linecolor": "white",
           "ticks": "",
           "title": {
            "standoff": 15
           },
           "zerolinecolor": "white",
           "zerolinewidth": 2
          },
          "yaxis": {
           "automargin": true,
           "gridcolor": "white",
           "linecolor": "white",
           "ticks": "",
           "title": {
            "standoff": 15
           },
           "zerolinecolor": "white",
           "zerolinewidth": 2
          }
         }
        },
        "xaxis": {
         "title": {
          "text": "Employees"
         }
        },
        "yaxis": {
         "title": {
          "text": "Salary"
         }
        }
       }
      },
      "text/html": [
       "<div>                            <div id=\"63627cc2-d054-49b6-b420-aa6af8be3ec3\" class=\"plotly-graph-div\" style=\"height:525px; width:100%;\"></div>            <script type=\"text/javascript\">                require([\"plotly\"], function(Plotly) {                    window.PLOTLYENV=window.PLOTLYENV || {};                                    if (document.getElementById(\"63627cc2-d054-49b6-b420-aa6af8be3ec3\")) {                    Plotly.newPlot(                        \"63627cc2-d054-49b6-b420-aa6af8be3ec3\",                        [{\"name\":\"Salaries\",\"x\":[\"CEO\",\"Employee 1\",\"Employee 2\",\"Employee 3\",\"Employee 4\",\"Employee 5\",\"Employee 6\",\"Employee 7\",\"Employee 8\",\"Employee 9\"],\"y\":[1000000,13000,19000,10000,18000,16000,13000,19000,10000,19000],\"type\":\"bar\"},{\"line\":{\"color\":\"Red\",\"dash\":\"dash\",\"width\":1},\"mode\":\"lines\",\"name\":\"Mean: 113700.00\",\"x\":[\"CEO\",\"Employee 9\"],\"y\":[113700.0,113700.0],\"type\":\"scatter\"}],                        {\"template\":{\"data\":{\"histogram2dcontour\":[{\"type\":\"histogram2dcontour\",\"colorbar\":{\"outlinewidth\":0,\"ticks\":\"\"},\"colorscale\":[[0.0,\"#0d0887\"],[0.1111111111111111,\"#46039f\"],[0.2222222222222222,\"#7201a8\"],[0.3333333333333333,\"#9c179e\"],[0.4444444444444444,\"#bd3786\"],[0.5555555555555556,\"#d8576b\"],[0.6666666666666666,\"#ed7953\"],[0.7777777777777778,\"#fb9f3a\"],[0.8888888888888888,\"#fdca26\"],[1.0,\"#f0f921\"]]}],\"choropleth\":[{\"type\":\"choropleth\",\"colorbar\":{\"outlinewidth\":0,\"ticks\":\"\"}}],\"histogram2d\":[{\"type\":\"histogram2d\",\"colorbar\":{\"outlinewidth\":0,\"ticks\":\"\"},\"colorscale\":[[0.0,\"#0d0887\"],[0.1111111111111111,\"#46039f\"],[0.2222222222222222,\"#7201a8\"],[0.3333333333333333,\"#9c179e\"],[0.4444444444444444,\"#bd3786\"],[0.5555555555555556,\"#d8576b\"],[0.6666666666666666,\"#ed7953\"],[0.7777777777777778,\"#fb9f3a\"],[0.8888888888888888,\"#fdca26\"],[1.0,\"#f0f921\"]]}],\"heatmap\":[{\"type\":\"heatmap\",\"colorbar\":{\"outlinewidth\":0,\"ticks\":\"\"},\"colorscale\":[[0.0,\"#0d0887\"],[0.1111111111111111,\"#46039f\"],[0.2222222222222222,\"#7201a8\"],[0.3333333333333333,\"#9c179e\"],[0.4444444444444444,\"#bd3786\"],[0.5555555555555556,\"#d8576b\"],[0.6666666666666666,\"#ed7953\"],[0.7777777777777778,\"#fb9f3a\"],[0.8888888888888888,\"#fdca26\"],[1.0,\"#f0f921\"]]}],\"heatmapgl\":[{\"type\":\"heatmapgl\",\"colorbar\":{\"outlinewidth\":0,\"ticks\":\"\"},\"colorscale\":[[0.0,\"#0d0887\"],[0.1111111111111111,\"#46039f\"],[0.2222222222222222,\"#7201a8\"],[0.3333333333333333,\"#9c179e\"],[0.4444444444444444,\"#bd3786\"],[0.5555555555555556,\"#d8576b\"],[0.6666666666666666,\"#ed7953\"],[0.7777777777777778,\"#fb9f3a\"],[0.8888888888888888,\"#fdca26\"],[1.0,\"#f0f921\"]]}],\"contourcarpet\":[{\"type\":\"contourcarpet\",\"colorbar\":{\"outlinewidth\":0,\"ticks\":\"\"}}],\"contour\":[{\"type\":\"contour\",\"colorbar\":{\"outlinewidth\":0,\"ticks\":\"\"},\"colorscale\":[[0.0,\"#0d0887\"],[0.1111111111111111,\"#46039f\"],[0.2222222222222222,\"#7201a8\"],[0.3333333333333333,\"#9c179e\"],[0.4444444444444444,\"#bd3786\"],[0.5555555555555556,\"#d8576b\"],[0.6666666666666666,\"#ed7953\"],[0.7777777777777778,\"#fb9f3a\"],[0.8888888888888888,\"#fdca26\"],[1.0,\"#f0f921\"]]}],\"surface\":[{\"type\":\"surface\",\"colorbar\":{\"outlinewidth\":0,\"ticks\":\"\"},\"colorscale\":[[0.0,\"#0d0887\"],[0.1111111111111111,\"#46039f\"],[0.2222222222222222,\"#7201a8\"],[0.3333333333333333,\"#9c179e\"],[0.4444444444444444,\"#bd3786\"],[0.5555555555555556,\"#d8576b\"],[0.6666666666666666,\"#ed7953\"],[0.7777777777777778,\"#fb9f3a\"],[0.8888888888888888,\"#fdca26\"],[1.0,\"#f0f921\"]]}],\"mesh3d\":[{\"type\":\"mesh3d\",\"colorbar\":{\"outlinewidth\":0,\"ticks\":\"\"}}],\"scatter\":[{\"fillpattern\":{\"fillmode\":\"overlay\",\"size\":10,\"solidity\":0.2},\"type\":\"scatter\"}],\"parcoords\":[{\"type\":\"parcoords\",\"line\":{\"colorbar\":{\"outlinewidth\":0,\"ticks\":\"\"}}}],\"scatterpolargl\":[{\"type\":\"scatterpolargl\",\"marker\":{\"colorbar\":{\"outlinewidth\":0,\"ticks\":\"\"}}}],\"bar\":[{\"error_x\":{\"color\":\"#2a3f5f\"},\"error_y\":{\"color\":\"#2a3f5f\"},\"marker\":{\"line\":{\"color\":\"#E5ECF6\",\"width\":0.5},\"pattern\":{\"fillmode\":\"overlay\",\"size\":10,\"solidity\":0.2}},\"type\":\"bar\"}],\"scattergeo\":[{\"type\":\"scattergeo\",\"marker\":{\"colorbar\":{\"outlinewidth\":0,\"ticks\":\"\"}}}],\"scatterpolar\":[{\"type\":\"scatterpolar\",\"marker\":{\"colorbar\":{\"outlinewidth\":0,\"ticks\":\"\"}}}],\"histogram\":[{\"marker\":{\"pattern\":{\"fillmode\":\"overlay\",\"size\":10,\"solidity\":0.2}},\"type\":\"histogram\"}],\"scattergl\":[{\"type\":\"scattergl\",\"marker\":{\"colorbar\":{\"outlinewidth\":0,\"ticks\":\"\"}}}],\"scatter3d\":[{\"type\":\"scatter3d\",\"line\":{\"colorbar\":{\"outlinewidth\":0,\"ticks\":\"\"}},\"marker\":{\"colorbar\":{\"outlinewidth\":0,\"ticks\":\"\"}}}],\"scattermapbox\":[{\"type\":\"scattermapbox\",\"marker\":{\"colorbar\":{\"outlinewidth\":0,\"ticks\":\"\"}}}],\"scatterternary\":[{\"type\":\"scatterternary\",\"marker\":{\"colorbar\":{\"outlinewidth\":0,\"ticks\":\"\"}}}],\"scattercarpet\":[{\"type\":\"scattercarpet\",\"marker\":{\"colorbar\":{\"outlinewidth\":0,\"ticks\":\"\"}}}],\"carpet\":[{\"aaxis\":{\"endlinecolor\":\"#2a3f5f\",\"gridcolor\":\"white\",\"linecolor\":\"white\",\"minorgridcolor\":\"white\",\"startlinecolor\":\"#2a3f5f\"},\"baxis\":{\"endlinecolor\":\"#2a3f5f\",\"gridcolor\":\"white\",\"linecolor\":\"white\",\"minorgridcolor\":\"white\",\"startlinecolor\":\"#2a3f5f\"},\"type\":\"carpet\"}],\"table\":[{\"cells\":{\"fill\":{\"color\":\"#EBF0F8\"},\"line\":{\"color\":\"white\"}},\"header\":{\"fill\":{\"color\":\"#C8D4E3\"},\"line\":{\"color\":\"white\"}},\"type\":\"table\"}],\"barpolar\":[{\"marker\":{\"line\":{\"color\":\"#E5ECF6\",\"width\":0.5},\"pattern\":{\"fillmode\":\"overlay\",\"size\":10,\"solidity\":0.2}},\"type\":\"barpolar\"}],\"pie\":[{\"automargin\":true,\"type\":\"pie\"}]},\"layout\":{\"autotypenumbers\":\"strict\",\"colorway\":[\"#636efa\",\"#EF553B\",\"#00cc96\",\"#ab63fa\",\"#FFA15A\",\"#19d3f3\",\"#FF6692\",\"#B6E880\",\"#FF97FF\",\"#FECB52\"],\"font\":{\"color\":\"#2a3f5f\"},\"hovermode\":\"closest\",\"hoverlabel\":{\"align\":\"left\"},\"paper_bgcolor\":\"white\",\"plot_bgcolor\":\"#E5ECF6\",\"polar\":{\"bgcolor\":\"#E5ECF6\",\"angularaxis\":{\"gridcolor\":\"white\",\"linecolor\":\"white\",\"ticks\":\"\"},\"radialaxis\":{\"gridcolor\":\"white\",\"linecolor\":\"white\",\"ticks\":\"\"}},\"ternary\":{\"bgcolor\":\"#E5ECF6\",\"aaxis\":{\"gridcolor\":\"white\",\"linecolor\":\"white\",\"ticks\":\"\"},\"baxis\":{\"gridcolor\":\"white\",\"linecolor\":\"white\",\"ticks\":\"\"},\"caxis\":{\"gridcolor\":\"white\",\"linecolor\":\"white\",\"ticks\":\"\"}},\"coloraxis\":{\"colorbar\":{\"outlinewidth\":0,\"ticks\":\"\"}},\"colorscale\":{\"sequential\":[[0.0,\"#0d0887\"],[0.1111111111111111,\"#46039f\"],[0.2222222222222222,\"#7201a8\"],[0.3333333333333333,\"#9c179e\"],[0.4444444444444444,\"#bd3786\"],[0.5555555555555556,\"#d8576b\"],[0.6666666666666666,\"#ed7953\"],[0.7777777777777778,\"#fb9f3a\"],[0.8888888888888888,\"#fdca26\"],[1.0,\"#f0f921\"]],\"sequentialminus\":[[0.0,\"#0d0887\"],[0.1111111111111111,\"#46039f\"],[0.2222222222222222,\"#7201a8\"],[0.3333333333333333,\"#9c179e\"],[0.4444444444444444,\"#bd3786\"],[0.5555555555555556,\"#d8576b\"],[0.6666666666666666,\"#ed7953\"],[0.7777777777777778,\"#fb9f3a\"],[0.8888888888888888,\"#fdca26\"],[1.0,\"#f0f921\"]],\"diverging\":[[0,\"#8e0152\"],[0.1,\"#c51b7d\"],[0.2,\"#de77ae\"],[0.3,\"#f1b6da\"],[0.4,\"#fde0ef\"],[0.5,\"#f7f7f7\"],[0.6,\"#e6f5d0\"],[0.7,\"#b8e186\"],[0.8,\"#7fbc41\"],[0.9,\"#4d9221\"],[1,\"#276419\"]]},\"xaxis\":{\"gridcolor\":\"white\",\"linecolor\":\"white\",\"ticks\":\"\",\"title\":{\"standoff\":15},\"zerolinecolor\":\"white\",\"automargin\":true,\"zerolinewidth\":2},\"yaxis\":{\"gridcolor\":\"white\",\"linecolor\":\"white\",\"ticks\":\"\",\"title\":{\"standoff\":15},\"zerolinecolor\":\"white\",\"automargin\":true,\"zerolinewidth\":2},\"scene\":{\"xaxis\":{\"backgroundcolor\":\"#E5ECF6\",\"gridcolor\":\"white\",\"linecolor\":\"white\",\"showbackground\":true,\"ticks\":\"\",\"zerolinecolor\":\"white\",\"gridwidth\":2},\"yaxis\":{\"backgroundcolor\":\"#E5ECF6\",\"gridcolor\":\"white\",\"linecolor\":\"white\",\"showbackground\":true,\"ticks\":\"\",\"zerolinecolor\":\"white\",\"gridwidth\":2},\"zaxis\":{\"backgroundcolor\":\"#E5ECF6\",\"gridcolor\":\"white\",\"linecolor\":\"white\",\"showbackground\":true,\"ticks\":\"\",\"zerolinecolor\":\"white\",\"gridwidth\":2}},\"shapedefaults\":{\"line\":{\"color\":\"#2a3f5f\"}},\"annotationdefaults\":{\"arrowcolor\":\"#2a3f5f\",\"arrowhead\":0,\"arrowwidth\":1},\"geo\":{\"bgcolor\":\"white\",\"landcolor\":\"#E5ECF6\",\"subunitcolor\":\"white\",\"showland\":true,\"showlakes\":true,\"lakecolor\":\"white\"},\"title\":{\"x\":0.05},\"mapbox\":{\"style\":\"light\"}}},\"font\":{\"size\":14},\"legend\":{\"yanchor\":\"top\",\"y\":1.2,\"xanchor\":\"center\",\"x\":0.5},\"xaxis\":{\"title\":{\"text\":\"Employees\"}},\"yaxis\":{\"title\":{\"text\":\"Salary\"}}},                        {\"responsive\": true}                    ).then(function(){\n",
       "                            \n",
       "var gd = document.getElementById('63627cc2-d054-49b6-b420-aa6af8be3ec3');\n",
       "var x = new MutationObserver(function (mutations, observer) {{\n",
       "        var display = window.getComputedStyle(gd).display;\n",
       "        if (!display || display === 'none') {{\n",
       "            console.log([gd, 'removed!']);\n",
       "            Plotly.purge(gd);\n",
       "            observer.disconnect();\n",
       "        }}\n",
       "}});\n",
       "\n",
       "// Listen for the removal of the full notebook cells\n",
       "var notebookContainer = gd.closest('#notebook-container');\n",
       "if (notebookContainer) {{\n",
       "    x.observe(notebookContainer, {childList: true});\n",
       "}}\n",
       "\n",
       "// Listen for the clearing of the current output cell\n",
       "var outputEl = gd.closest('.output');\n",
       "if (outputEl) {{\n",
       "    x.observe(outputEl, {childList: true});\n",
       "}}\n",
       "\n",
       "                        })                };                });            </script>        </div>"
      ]
     },
     "metadata": {},
     "output_type": "display_data"
    }
   ],
   "source": [
    "# @title #### Calculate mean and plot bar chart\n",
    "import plotly.graph_objects as go\n",
    "\n",
    "# Define the data\n",
    "salaries = [1000000, 13000, 19000, 10000, 18000, 16000, 13000, 19000, 10000, 19000]\n",
    "employee_names = ['CEO', 'Employee 1', 'Employee 2', 'Employee 3', 'Employee 4', 'Employee 5', 'Employee 6', 'Employee 7', 'Employee 8', 'Employee 9']\n",
    "\n",
    "# Calculate the mean\n",
    "mean_salary = sum(salaries) / len(salaries)\n",
    "\n",
    "# Create a bar chart\n",
    "fig = go.Figure(data=go.Bar(y=salaries, x=employee_names, name='Salaries'))\n",
    "\n",
    "# Add a horizontal line for the mean\n",
    "fig.add_trace(go.Scatter(\n",
    "    x=[employee_names[0], employee_names[-1]],\n",
    "    y=[mean_salary, mean_salary],\n",
    "    mode='lines',\n",
    "    name=f'Mean: {mean_salary:.2f}',\n",
    "    line=dict(color='Red', width=1, dash='dash')\n",
    "))\n",
    "\n",
    "# Add labels for x and y axis\n",
    "fig.update_layout(\n",
    "    xaxis_title=\"Employees\",\n",
    "    yaxis_title=\"Salary\",\n",
    "    font=dict(\n",
    "        size=14,\n",
    "    ),\n",
    "    legend=dict(\n",
    "        yanchor=\"top\",\n",
    "        y=1.2,\n",
    "        xanchor=\"center\",\n",
    "        x=0.5\n",
    "    )\n",
    ")\n",
    "\n",
    "# Show the plot\n",
    "fig.show()"
   ]
  },
  {
   "cell_type": "code",
   "execution_count": null,
   "id": "96ac61c3-6e07-4194-8ff7-2bed43f65ecd",
   "metadata": {},
   "outputs": [],
   "source": []
  }
 ],
 "metadata": {
  "kernelspec": {
   "display_name": "Python 3 (ipykernel)",
   "language": "python",
   "name": "python3"
  },
  "language_info": {
   "codemirror_mode": {
    "name": "ipython",
    "version": 3
   },
   "file_extension": ".py",
   "mimetype": "text/x-python",
   "name": "python",
   "nbconvert_exporter": "python",
   "pygments_lexer": "ipython3",
   "version": "3.9.6"
  }
 },
 "nbformat": 4,
 "nbformat_minor": 5
}
